{
 "cells": [
  {
   "cell_type": "code",
   "execution_count": 1,
   "id": "92aeaa45-7203-49bf-821c-cf403c8e77c9",
   "metadata": {},
   "outputs": [],
   "source": [
    "#ライブラリのインポート\n",
    "import glob\n",
    "import pandas as pd\n",
    "import pandas_profiling as pdp\n",
    "import numpy as np\n",
    "import matplotlib.pyplot as plt\n",
    "import japanize_matplotlib\n",
    "import seaborn as sns\n",
    "import lightgbm as lgb\n",
    "from sklearn.model_selection import train_test_split\n",
    "from sklearn.metrics import mean_absolute_error as mae\n",
    "import df_pre as df_pre\n",
    "import optuna\n",
    "\n",
    "#lgb用\n",
    "import lightgbm as lgb\n",
    "from sklearn.model_selection import train_test_split\n",
    "from sklearn.metrics import mean_absolute_error as mae\n",
    "from sklearn.metrics import mean_squared_error\n",
    "\n",
    "from sklearn.model_selection import KFold\n",
    "import optuna.integration.lightgbm as o_lgb\n",
    "\n",
    "#警告を非表示\n",
    "import warnings\n",
    "warnings.simplefilter('ignore')"
   ]
  },
  {
   "cell_type": "code",
   "execution_count": 2,
   "id": "16e081a3-7b86-42fc-a115-7a16d6c54bb3",
   "metadata": {
    "tags": []
   },
   "outputs": [],
   "source": [
    "#ファイルの読み込み\n",
    "files = glob.glob(\"../../data/train/*.csv\")\n",
    "data_list = []\n",
    "for file in files:\n",
    "    data_list.append(pd.read_csv(file, index_col=0))\n",
    "data_list\n",
    "df = pd.concat(data_list)"
   ]
  },
  {
   "cell_type": "code",
   "execution_count": 3,
   "id": "52d41893-7349-4695-a0b9-8ddbc3479c69",
   "metadata": {
    "collapsed": true,
    "jupyter": {
     "outputs_hidden": true
    },
    "tags": []
   },
   "outputs": [
    {
     "name": "stdout",
     "output_type": "stream",
     "text": [
      "test\n"
     ]
    },
    {
     "data": {
      "text/html": [
       "<div>\n",
       "<style scoped>\n",
       "    .dataframe tbody tr th:only-of-type {\n",
       "        vertical-align: middle;\n",
       "    }\n",
       "\n",
       "    .dataframe tbody tr th {\n",
       "        vertical-align: top;\n",
       "    }\n",
       "\n",
       "    .dataframe thead th {\n",
       "        text-align: right;\n",
       "    }\n",
       "</style>\n",
       "<table border=\"1\" class=\"dataframe\">\n",
       "  <thead>\n",
       "    <tr style=\"text-align: right;\">\n",
       "      <th></th>\n",
       "      <th>市区町村コード</th>\n",
       "      <th>都道府県名_num</th>\n",
       "      <th>地区名</th>\n",
       "      <th>最寄駅：名称</th>\n",
       "      <th>最寄駅：距離（分）_min</th>\n",
       "      <th>間取り</th>\n",
       "      <th>面積（㎡）_num</th>\n",
       "      <th>建築年_year</th>\n",
       "      <th>建物の構造_num</th>\n",
       "      <th>用途</th>\n",
       "      <th>今後の利用目的</th>\n",
       "      <th>都市計画</th>\n",
       "      <th>建ぺい率（％）</th>\n",
       "      <th>容積率（％）</th>\n",
       "      <th>取引時点_num</th>\n",
       "      <th>改装</th>\n",
       "      <th>取引の事情等</th>\n",
       "      <th>取引価格（総額）_log</th>\n",
       "    </tr>\n",
       "    <tr>\n",
       "      <th>ID</th>\n",
       "      <th></th>\n",
       "      <th></th>\n",
       "      <th></th>\n",
       "      <th></th>\n",
       "      <th></th>\n",
       "      <th></th>\n",
       "      <th></th>\n",
       "      <th></th>\n",
       "      <th></th>\n",
       "      <th></th>\n",
       "      <th></th>\n",
       "      <th></th>\n",
       "      <th></th>\n",
       "      <th></th>\n",
       "      <th></th>\n",
       "      <th></th>\n",
       "      <th></th>\n",
       "      <th></th>\n",
       "    </tr>\n",
       "  </thead>\n",
       "  <tbody>\n",
       "    <tr>\n",
       "      <th>1088170</th>\n",
       "      <td>1204</td>\n",
       "      <td>18</td>\n",
       "      <td>７条通</td>\n",
       "      <td>旭川</td>\n",
       "      <td>16.0</td>\n",
       "      <td>２ＤＫ</td>\n",
       "      <td>45</td>\n",
       "      <td>33.0</td>\n",
       "      <td>5.0</td>\n",
       "      <td>住宅</td>\n",
       "      <td>NaN</td>\n",
       "      <td>近隣商業地域</td>\n",
       "      <td>80.0</td>\n",
       "      <td>300.0</td>\n",
       "      <td>2011.99</td>\n",
       "      <td>未改装</td>\n",
       "      <td>NaN</td>\n",
       "      <td>6.740363</td>\n",
       "    </tr>\n",
       "    <tr>\n",
       "      <th>1048405</th>\n",
       "      <td>1106</td>\n",
       "      <td>18</td>\n",
       "      <td>真駒内柏丘</td>\n",
       "      <td>真駒内</td>\n",
       "      <td>25.0</td>\n",
       "      <td>３ＬＤＫ</td>\n",
       "      <td>70</td>\n",
       "      <td>30.0</td>\n",
       "      <td>5.0</td>\n",
       "      <td>住宅</td>\n",
       "      <td>住宅</td>\n",
       "      <td>第１種住居地域</td>\n",
       "      <td>60.0</td>\n",
       "      <td>200.0</td>\n",
       "      <td>2017.50</td>\n",
       "      <td>改装済</td>\n",
       "      <td>NaN</td>\n",
       "      <td>6.875061</td>\n",
       "    </tr>\n",
       "    <tr>\n",
       "      <th>1030233</th>\n",
       "      <td>1104</td>\n",
       "      <td>18</td>\n",
       "      <td>菊水１条</td>\n",
       "      <td>菊水</td>\n",
       "      <td>6.0</td>\n",
       "      <td>４ＬＤＫ</td>\n",
       "      <td>105</td>\n",
       "      <td>14.0</td>\n",
       "      <td>5.0</td>\n",
       "      <td>NaN</td>\n",
       "      <td>住宅</td>\n",
       "      <td>第１種住居地域</td>\n",
       "      <td>60.0</td>\n",
       "      <td>200.0</td>\n",
       "      <td>2020.50</td>\n",
       "      <td>未改装</td>\n",
       "      <td>NaN</td>\n",
       "      <td>7.518514</td>\n",
       "    </tr>\n",
       "    <tr>\n",
       "      <th>1000080</th>\n",
       "      <td>1101</td>\n",
       "      <td>18</td>\n",
       "      <td>大通西</td>\n",
       "      <td>西１１丁目</td>\n",
       "      <td>4.0</td>\n",
       "      <td>３ＬＤＫ</td>\n",
       "      <td>100</td>\n",
       "      <td>17.0</td>\n",
       "      <td>5.0</td>\n",
       "      <td>住宅</td>\n",
       "      <td>住宅</td>\n",
       "      <td>商業地域</td>\n",
       "      <td>80.0</td>\n",
       "      <td>600.0</td>\n",
       "      <td>2019.99</td>\n",
       "      <td>未改装</td>\n",
       "      <td>NaN</td>\n",
       "      <td>7.792392</td>\n",
       "    </tr>\n",
       "    <tr>\n",
       "      <th>1065071</th>\n",
       "      <td>1108</td>\n",
       "      <td>18</td>\n",
       "      <td>大谷地東</td>\n",
       "      <td>ひばりが丘(北海道)</td>\n",
       "      <td>9.0</td>\n",
       "      <td>３ＬＤＫ</td>\n",
       "      <td>75</td>\n",
       "      <td>15.0</td>\n",
       "      <td>5.0</td>\n",
       "      <td>住宅</td>\n",
       "      <td>NaN</td>\n",
       "      <td>近隣商業地域</td>\n",
       "      <td>80.0</td>\n",
       "      <td>300.0</td>\n",
       "      <td>2009.50</td>\n",
       "      <td>未改装</td>\n",
       "      <td>NaN</td>\n",
       "      <td>7.000000</td>\n",
       "    </tr>\n",
       "    <tr>\n",
       "      <th>...</th>\n",
       "      <td>...</td>\n",
       "      <td>...</td>\n",
       "      <td>...</td>\n",
       "      <td>...</td>\n",
       "      <td>...</td>\n",
       "      <td>...</td>\n",
       "      <td>...</td>\n",
       "      <td>...</td>\n",
       "      <td>...</td>\n",
       "      <td>...</td>\n",
       "      <td>...</td>\n",
       "      <td>...</td>\n",
       "      <td>...</td>\n",
       "      <td>...</td>\n",
       "      <td>...</td>\n",
       "      <td>...</td>\n",
       "      <td>...</td>\n",
       "      <td>...</td>\n",
       "    </tr>\n",
       "    <tr>\n",
       "      <th>47014161</th>\n",
       "      <td>47208</td>\n",
       "      <td>11</td>\n",
       "      <td>勢理客</td>\n",
       "      <td>NaN</td>\n",
       "      <td>NaN</td>\n",
       "      <td>３ＬＤＫ</td>\n",
       "      <td>70</td>\n",
       "      <td>20.0</td>\n",
       "      <td>5.0</td>\n",
       "      <td>住宅</td>\n",
       "      <td>NaN</td>\n",
       "      <td>第１種住居地域</td>\n",
       "      <td>60.0</td>\n",
       "      <td>200.0</td>\n",
       "      <td>2010.50</td>\n",
       "      <td>未改装</td>\n",
       "      <td>NaN</td>\n",
       "      <td>7.255273</td>\n",
       "    </tr>\n",
       "    <tr>\n",
       "      <th>47027826</th>\n",
       "      <td>47208</td>\n",
       "      <td>11</td>\n",
       "      <td>牧港</td>\n",
       "      <td>NaN</td>\n",
       "      <td>NaN</td>\n",
       "      <td>３ＬＤＫ</td>\n",
       "      <td>65</td>\n",
       "      <td>24.0</td>\n",
       "      <td>5.0</td>\n",
       "      <td>住宅</td>\n",
       "      <td>NaN</td>\n",
       "      <td>準工業地域</td>\n",
       "      <td>60.0</td>\n",
       "      <td>200.0</td>\n",
       "      <td>2013.99</td>\n",
       "      <td>改装済</td>\n",
       "      <td>NaN</td>\n",
       "      <td>7.278754</td>\n",
       "    </tr>\n",
       "    <tr>\n",
       "      <th>47003754</th>\n",
       "      <td>47208</td>\n",
       "      <td>11</td>\n",
       "      <td>港川</td>\n",
       "      <td>NaN</td>\n",
       "      <td>NaN</td>\n",
       "      <td>３ＬＤＫ</td>\n",
       "      <td>65</td>\n",
       "      <td>17.0</td>\n",
       "      <td>5.0</td>\n",
       "      <td>NaN</td>\n",
       "      <td>その他</td>\n",
       "      <td>商業地域</td>\n",
       "      <td>80.0</td>\n",
       "      <td>400.0</td>\n",
       "      <td>2018.50</td>\n",
       "      <td>改装済</td>\n",
       "      <td>NaN</td>\n",
       "      <td>7.397940</td>\n",
       "    </tr>\n",
       "    <tr>\n",
       "      <th>47005865</th>\n",
       "      <td>47211</td>\n",
       "      <td>11</td>\n",
       "      <td>胡屋</td>\n",
       "      <td>NaN</td>\n",
       "      <td>NaN</td>\n",
       "      <td>２ＬＤＫ</td>\n",
       "      <td>60</td>\n",
       "      <td>37.0</td>\n",
       "      <td>5.0</td>\n",
       "      <td>住宅</td>\n",
       "      <td>住宅</td>\n",
       "      <td>第１種中高層住居専用地域</td>\n",
       "      <td>60.0</td>\n",
       "      <td>200.0</td>\n",
       "      <td>2017.25</td>\n",
       "      <td>未改装</td>\n",
       "      <td>NaN</td>\n",
       "      <td>7.230449</td>\n",
       "    </tr>\n",
       "    <tr>\n",
       "      <th>47027230</th>\n",
       "      <td>47201</td>\n",
       "      <td>11</td>\n",
       "      <td>首里金城町</td>\n",
       "      <td>首里</td>\n",
       "      <td>15.0</td>\n",
       "      <td>４ＬＤＫ</td>\n",
       "      <td>85</td>\n",
       "      <td>23.0</td>\n",
       "      <td>5.0</td>\n",
       "      <td>住宅</td>\n",
       "      <td>NaN</td>\n",
       "      <td>第１種低層住居専用地域</td>\n",
       "      <td>50.0</td>\n",
       "      <td>100.0</td>\n",
       "      <td>2013.75</td>\n",
       "      <td>改装済</td>\n",
       "      <td>NaN</td>\n",
       "      <td>7.342423</td>\n",
       "    </tr>\n",
       "  </tbody>\n",
       "</table>\n",
       "<p>692882 rows × 18 columns</p>\n",
       "</div>"
      ],
      "text/plain": [
       "          市区町村コード  都道府県名_num    地区名      最寄駅：名称  最寄駅：距離（分）_min   間取り  \\\n",
       "ID                                                                     \n",
       "1088170      1204         18    ７条通          旭川           16.0   ２ＤＫ   \n",
       "1048405      1106         18  真駒内柏丘         真駒内           25.0  ３ＬＤＫ   \n",
       "1030233      1104         18   菊水１条          菊水            6.0  ４ＬＤＫ   \n",
       "1000080      1101         18    大通西       西１１丁目            4.0  ３ＬＤＫ   \n",
       "1065071      1108         18   大谷地東  ひばりが丘(北海道)            9.0  ３ＬＤＫ   \n",
       "...           ...        ...    ...         ...            ...   ...   \n",
       "47014161    47208         11    勢理客         NaN            NaN  ３ＬＤＫ   \n",
       "47027826    47208         11     牧港         NaN            NaN  ３ＬＤＫ   \n",
       "47003754    47208         11     港川         NaN            NaN  ３ＬＤＫ   \n",
       "47005865    47211         11     胡屋         NaN            NaN  ２ＬＤＫ   \n",
       "47027230    47201         11  首里金城町          首里           15.0  ４ＬＤＫ   \n",
       "\n",
       "          面積（㎡）_num  建築年_year  建物の構造_num   用途 今後の利用目的          都市計画  建ぺい率（％）  \\\n",
       "ID                                                                             \n",
       "1088170          45      33.0        5.0   住宅     NaN        近隣商業地域     80.0   \n",
       "1048405          70      30.0        5.0   住宅      住宅       第１種住居地域     60.0   \n",
       "1030233         105      14.0        5.0  NaN      住宅       第１種住居地域     60.0   \n",
       "1000080         100      17.0        5.0   住宅      住宅          商業地域     80.0   \n",
       "1065071          75      15.0        5.0   住宅     NaN        近隣商業地域     80.0   \n",
       "...             ...       ...        ...  ...     ...           ...      ...   \n",
       "47014161         70      20.0        5.0   住宅     NaN       第１種住居地域     60.0   \n",
       "47027826         65      24.0        5.0   住宅     NaN         準工業地域     60.0   \n",
       "47003754         65      17.0        5.0  NaN     その他          商業地域     80.0   \n",
       "47005865         60      37.0        5.0   住宅      住宅  第１種中高層住居専用地域     60.0   \n",
       "47027230         85      23.0        5.0   住宅     NaN   第１種低層住居専用地域     50.0   \n",
       "\n",
       "          容積率（％）  取引時点_num   改装 取引の事情等  取引価格（総額）_log  \n",
       "ID                                                    \n",
       "1088170    300.0   2011.99  未改装    NaN      6.740363  \n",
       "1048405    200.0   2017.50  改装済    NaN      6.875061  \n",
       "1030233    200.0   2020.50  未改装    NaN      7.518514  \n",
       "1000080    600.0   2019.99  未改装    NaN      7.792392  \n",
       "1065071    300.0   2009.50  未改装    NaN      7.000000  \n",
       "...          ...       ...  ...    ...           ...  \n",
       "47014161   200.0   2010.50  未改装    NaN      7.255273  \n",
       "47027826   200.0   2013.99  改装済    NaN      7.278754  \n",
       "47003754   400.0   2018.50  改装済    NaN      7.397940  \n",
       "47005865   200.0   2017.25  未改装    NaN      7.230449  \n",
       "47027230   100.0   2013.75  改装済    NaN      7.342423  \n",
       "\n",
       "[692882 rows x 18 columns]"
      ]
     },
     "execution_count": 3,
     "metadata": {},
     "output_type": "execute_result"
    }
   ],
   "source": [
    "#変換処理の適用\n",
    "df = df_pre.data_pre(df)\n",
    "df"
   ]
  },
  {
   "cell_type": "code",
   "execution_count": 4,
   "id": "31d14366-009a-486a-80db-e6ded0da9f67",
   "metadata": {},
   "outputs": [],
   "source": [
    "#テストデータの用意\n",
    "df_train, df_val =train_test_split(df, test_size=0.2)\n",
    "col = \"取引価格（総額）_log\"\n",
    "train_y = df_train[col]\n",
    "train_x = df_train.drop(col, axis=1)\n",
    "\n",
    "val_y = df_val[col]\n",
    "val_x = df_val.drop(col, axis=1)\n"
   ]
  },
  {
   "cell_type": "code",
   "execution_count": null,
   "id": "2170966b-5a35-4980-aa49-d1137dda7095",
   "metadata": {},
   "outputs": [],
   "source": []
  },
  {
   "cell_type": "code",
   "execution_count": 5,
   "id": "f3572e83-bb83-4607-ab77-c0622f49ed05",
   "metadata": {
    "tags": []
   },
   "outputs": [
    {
     "name": "stdout",
     "output_type": "stream",
     "text": [
      "Training until validation scores don't improve for 100 rounds\n",
      "Did not meet early stopping. Best iteration is:\n",
      "[1000]\tvalid_0's l1: 0.0784121\n",
      "mae:0.078412\n"
     ]
    }
   ],
   "source": [
    "#lgbの実行（単純系_Optuna最適化済paam使用）\n",
    "df_train, df_val =train_test_split(df, test_size=0.2)\n",
    "\n",
    "col = \"取引価格（総額）_log\"\n",
    "train_y = df_train[col]\n",
    "train_x = df_train.drop(col, axis=1)\n",
    "\n",
    "val_y = df_val[col]\n",
    "val_x = df_val.drop(col, axis=1)\n",
    "\n",
    "lgb_train = lgb.Dataset(train_x, train_y)\n",
    "lgb_eval = lgb.Dataset(val_x, val_y)\n",
    "\n",
    "params = {\n",
    "    \"objective\": \"regression_l1\",\n",
    "    \"metrics\": \"mae\",\n",
    "    \"random_seed\":1234,\n",
    "    \"learning_rate\":0.01,\n",
    "    \"n_estimators\":1000,\n",
    "    \"num_leaves\":71,\n",
    "    \"bagging_fraction\": 0.9198293955571775,\n",
    "    \"bagging_freq\": 20,\n",
    "    \"feature_fraction\": 0.8279016711963055,\n",
    "    \"min_data_in_leaf\": 2,\n",
    "    \"min_sum_hessian_in_leaf\": 3,\n",
    "    \"verbose\": -1\n",
    "}\n",
    "\n",
    "categorical_features = [\"地区名\", \"最寄駅：名称\", \"間取り\", \"用途\", \"今後の利用目的\", \"都市計画\", \"改装\", \"取引の事情等\"]\n",
    "model = lgb.train(params, lgb_train, valid_sets=lgb_eval,\n",
    "                  num_boost_round=10000,\n",
    "                  early_stopping_rounds=100,\n",
    "                  verbose_eval=-1,\n",
    "                  categorical_feature = categorical_features)\n",
    "va_pred = model.predict(val_x)\n",
    "score = mae(val_y, va_pred)\n",
    "print(f'mae:{score:.6f}')"
   ]
  },
  {
   "cell_type": "code",
   "execution_count": null,
   "id": "b43081e7-852d-4f8b-9481-f314f1680416",
   "metadata": {},
   "outputs": [],
   "source": []
  },
  {
   "cell_type": "code",
   "execution_count": null,
   "id": "68cb9e51-d265-4619-945f-e052d4b68020",
   "metadata": {},
   "outputs": [],
   "source": []
  },
  {
   "cell_type": "code",
   "execution_count": 15,
   "id": "40fd8eda-f300-442a-a998-37da0519a92e",
   "metadata": {},
   "outputs": [],
   "source": [
    "#Optunaの実装\n",
    "def objective(trial):\n",
    "    params = {\n",
    "        \"objective\":\"regression_l1\",    #MAEを指標とした回帰を指定\n",
    "        \"random_seed\":1234,             #乱数シードを固定\n",
    "        \"learning_rate\":0.01,           #どれだけ1回の学習を次の学習に反映させるか\n",
    "        \"n_estimators\":10000,              #学習回数（1round）\n",
    "        \"verbosity\":-1,                 #学習過程の非表示/各回最終の学習結果は表示される\n",
    "\n",
    "        \"num_leaves\":trial.suggest_int(\"num_leaves\", 2, 100),                             #先端の葉の最大数\n",
    "        \"max_bin\":trial.suggest_int(\"max_bin\", 50, 255),                                 #1特徴量の分割条件を増やす\n",
    "        \"max_depth\":trial.suggest_int(\"max_depth\", 3, 10),                               #決定木の深さを指定\n",
    "        \"bagging_fraction\":trial.suggest_uniform(\"bagging_fraction\", 0.4, 1.0),          #何％の訓練データをランダムに利用するか\n",
    "        \"bagging_freq\":trial.suggest_int(\"bagging_freq\", 1, 20),                         #何回ごとにランダムサンプリングをするかを制御\n",
    "        \"feature_fraction\":trial.suggest_uniform(\"feature_fraction\", 0.4, 0.9),          #各木を作成するときに何パーセントの特徴量をランダムで利用するか\n",
    "        \"min_data_in_leaf\":trial.suggest_int(\"min_data_in_leaf\", 2, 16),                 #各葉に所属する最小データ数\n",
    "        \"min_sum_hessian_in_leaf\":trial.suggest_int(\"min_sum_hessian_in_leaf\", 0.001, 10),   #葉を分割するのに必要なhessianの合計値？？->値が小さいと葉を分割し、オーバーフィッティングへ。デフォルト値が0.001で設定おかしい？\n",
    "    }\n",
    "    categorical_features = [\"地区名\", \"最寄駅：名称\", \"間取り\", \"用途\", \"今後の利用目的\", \"都市計画\", \"改装\", \"取引の事情等\"]\n",
    "    lgb_train = lgb.Dataset(train_x, train_y)\n",
    "    lgb_eval = lgb.Dataset(val_x, val_y, reference=lgb_train)\n",
    "\n",
    "    model_lgb = lgb.train(params, lgb_train,\n",
    "                         valid_sets=lgb_eval,\n",
    "                         num_boost_round=10000,        #学習回数(1round)->n_estimatorsと被る？？\n",
    "                         early_stopping_rounds=100,    #何回連続でscoreが改善されなかった場合に打ち切るかの指定\n",
    "                         verbose_eval=500)            #何回の学習毎に結果を表示させるか\n",
    "    y_pred = model_lgb.predict(val_x, num_iteration=model_lgb.best_iteration)\n",
    "    score=mae(val_y, y_pred)\n",
    "    return score\n",
    "\n",
    "\n"
   ]
  },
  {
   "cell_type": "code",
   "execution_count": 16,
   "id": "13f2f6c3-7675-421a-b814-5814de1cc8f5",
   "metadata": {
    "collapsed": true,
    "jupyter": {
     "outputs_hidden": true
    },
    "tags": []
   },
   "outputs": [
    {
     "name": "stderr",
     "output_type": "stream",
     "text": [
      "\u001b[32m[I 2022-01-14 09:14:54,969]\u001b[0m A new study created in memory with name: no-name-63f4332d-434d-4607-adba-4699067d4cde\u001b[0m\n"
     ]
    },
    {
     "name": "stdout",
     "output_type": "stream",
     "text": [
      "Training until validation scores don't improve for 100 rounds\n",
      "[5000]\tvalid_0's l2: 0.014579\n",
      "[10000]\tvalid_0's l2: 0.0135831\n",
      "Did not meet early stopping. Best iteration is:\n",
      "[10000]\tvalid_0's l2: 0.0135831\n"
     ]
    },
    {
     "name": "stderr",
     "output_type": "stream",
     "text": [
      "\u001b[32m[I 2022-01-14 09:22:40,787]\u001b[0m Trial 0 finished with value: 0.07153661351919775 and parameters: {'num_leaves': 56, 'max_bin': 197, 'max_depth': 7, 'bagging_fraction': 0.7269299097981381, 'bagging_freq': 9, 'feature_fraction': 0.722947056533328, 'min_data_in_leaf': 8, 'min_sum_hessian_in_leaf': 8}. Best is trial 0 with value: 0.07153661351919775.\u001b[0m\n"
     ]
    },
    {
     "name": "stdout",
     "output_type": "stream",
     "text": [
      "Training until validation scores don't improve for 100 rounds\n",
      "[5000]\tvalid_0's l2: 0.0130088\n",
      "[10000]\tvalid_0's l2: 0.0118411\n",
      "Did not meet early stopping. Best iteration is:\n",
      "[10000]\tvalid_0's l2: 0.0118411\n"
     ]
    },
    {
     "name": "stderr",
     "output_type": "stream",
     "text": [
      "\u001b[32m[I 2022-01-14 09:32:29,560]\u001b[0m Trial 1 finished with value: 0.06805188204214459 and parameters: {'num_leaves': 97, 'max_bin': 128, 'max_depth': 9, 'bagging_fraction': 0.7173369518517427, 'bagging_freq': 12, 'feature_fraction': 0.8627983191463305, 'min_data_in_leaf': 3, 'min_sum_hessian_in_leaf': 0}. Best is trial 1 with value: 0.06805188204214459.\u001b[0m\n"
     ]
    },
    {
     "name": "stdout",
     "output_type": "stream",
     "text": [
      "Training until validation scores don't improve for 100 rounds\n",
      "[5000]\tvalid_0's l2: 0.019881\n",
      "[10000]\tvalid_0's l2: 0.0179963\n",
      "Did not meet early stopping. Best iteration is:\n",
      "[10000]\tvalid_0's l2: 0.0179963\n"
     ]
    },
    {
     "name": "stderr",
     "output_type": "stream",
     "text": [
      "\u001b[32m[I 2022-01-14 09:36:33,335]\u001b[0m Trial 2 finished with value: 0.08387870662885188 and parameters: {'num_leaves': 4, 'max_bin': 221, 'max_depth': 9, 'bagging_fraction': 0.9220072889480915, 'bagging_freq': 20, 'feature_fraction': 0.7995792821083618, 'min_data_in_leaf': 8, 'min_sum_hessian_in_leaf': 7}. Best is trial 1 with value: 0.06805188204214459.\u001b[0m\n"
     ]
    },
    {
     "name": "stdout",
     "output_type": "stream",
     "text": [
      "Training until validation scores don't improve for 100 rounds\n",
      "[5000]\tvalid_0's l2: 0.0171322\n",
      "[10000]\tvalid_0's l2: 0.0159762\n",
      "Did not meet early stopping. Best iteration is:\n",
      "[10000]\tvalid_0's l2: 0.0159762\n"
     ]
    },
    {
     "name": "stderr",
     "output_type": "stream",
     "text": [
      "\u001b[32m[I 2022-01-14 09:41:58,673]\u001b[0m Trial 3 finished with value: 0.07733214404704997 and parameters: {'num_leaves': 13, 'max_bin': 181, 'max_depth': 4, 'bagging_fraction': 0.9668013502297503, 'bagging_freq': 11, 'feature_fraction': 0.6073309699952618, 'min_data_in_leaf': 5, 'min_sum_hessian_in_leaf': 7}. Best is trial 1 with value: 0.06805188204214459.\u001b[0m\n"
     ]
    },
    {
     "name": "stdout",
     "output_type": "stream",
     "text": [
      "Training until validation scores don't improve for 100 rounds\n",
      "[5000]\tvalid_0's l2: 0.0184548\n",
      "[10000]\tvalid_0's l2: 0.0171535\n",
      "Did not meet early stopping. Best iteration is:\n",
      "[9999]\tvalid_0's l2: 0.0171534\n"
     ]
    },
    {
     "name": "stderr",
     "output_type": "stream",
     "text": [
      "\u001b[32m[I 2022-01-14 09:46:08,204]\u001b[0m Trial 4 finished with value: 0.0815096697118791 and parameters: {'num_leaves': 47, 'max_bin': 167, 'max_depth': 3, 'bagging_fraction': 0.7705812982455262, 'bagging_freq': 13, 'feature_fraction': 0.7084669984373785, 'min_data_in_leaf': 16, 'min_sum_hessian_in_leaf': 6}. Best is trial 1 with value: 0.06805188204214459.\u001b[0m\n"
     ]
    },
    {
     "name": "stdout",
     "output_type": "stream",
     "text": [
      "Training until validation scores don't improve for 100 rounds\n",
      "[5000]\tvalid_0's l2: 0.015267\n",
      "[10000]\tvalid_0's l2: 0.0142656\n",
      "Did not meet early stopping. Best iteration is:\n",
      "[10000]\tvalid_0's l2: 0.0142656\n"
     ]
    },
    {
     "name": "stderr",
     "output_type": "stream",
     "text": [
      "\u001b[32m[I 2022-01-14 09:53:14,534]\u001b[0m Trial 5 finished with value: 0.07473169363826077 and parameters: {'num_leaves': 37, 'max_bin': 140, 'max_depth': 8, 'bagging_fraction': 0.43613528297756193, 'bagging_freq': 14, 'feature_fraction': 0.7353189348090797, 'min_data_in_leaf': 5, 'min_sum_hessian_in_leaf': 1}. Best is trial 1 with value: 0.06805188204214459.\u001b[0m\n"
     ]
    },
    {
     "name": "stdout",
     "output_type": "stream",
     "text": [
      "Training until validation scores don't improve for 100 rounds\n",
      "[5000]\tvalid_0's l2: 0.015299\n",
      "[10000]\tvalid_0's l2: 0.0143587\n",
      "Did not meet early stopping. Best iteration is:\n",
      "[10000]\tvalid_0's l2: 0.0143587\n"
     ]
    },
    {
     "name": "stderr",
     "output_type": "stream",
     "text": [
      "\u001b[32m[I 2022-01-14 09:59:40,877]\u001b[0m Trial 6 finished with value: 0.07356648700210422 and parameters: {'num_leaves': 33, 'max_bin': 124, 'max_depth': 7, 'bagging_fraction': 0.6631609080773921, 'bagging_freq': 20, 'feature_fraction': 0.45102240537401406, 'min_data_in_leaf': 5, 'min_sum_hessian_in_leaf': 1}. Best is trial 1 with value: 0.06805188204214459.\u001b[0m\n"
     ]
    },
    {
     "name": "stdout",
     "output_type": "stream",
     "text": [
      "Training until validation scores don't improve for 100 rounds\n",
      "[5000]\tvalid_0's l2: 0.0154582\n",
      "[10000]\tvalid_0's l2: 0.0145162\n",
      "Did not meet early stopping. Best iteration is:\n",
      "[10000]\tvalid_0's l2: 0.0145162\n"
     ]
    },
    {
     "name": "stderr",
     "output_type": "stream",
     "text": [
      "\u001b[32m[I 2022-01-14 10:05:51,079]\u001b[0m Trial 7 finished with value: 0.07378369407937246 and parameters: {'num_leaves': 66, 'max_bin': 102, 'max_depth': 6, 'bagging_fraction': 0.5466553552009616, 'bagging_freq': 4, 'feature_fraction': 0.4551875705821526, 'min_data_in_leaf': 11, 'min_sum_hessian_in_leaf': 1}. Best is trial 1 with value: 0.06805188204214459.\u001b[0m\n"
     ]
    },
    {
     "name": "stdout",
     "output_type": "stream",
     "text": [
      "Training until validation scores don't improve for 100 rounds\n",
      "[5000]\tvalid_0's l2: 0.0160778\n",
      "[10000]\tvalid_0's l2: 0.0152935\n",
      "Did not meet early stopping. Best iteration is:\n",
      "[10000]\tvalid_0's l2: 0.0152935\n"
     ]
    },
    {
     "name": "stderr",
     "output_type": "stream",
     "text": [
      "\u001b[32m[I 2022-01-14 10:12:15,421]\u001b[0m Trial 8 finished with value: 0.07591200735518493 and parameters: {'num_leaves': 21, 'max_bin': 125, 'max_depth': 9, 'bagging_fraction': 0.4582607654758368, 'bagging_freq': 17, 'feature_fraction': 0.44804920394698156, 'min_data_in_leaf': 16, 'min_sum_hessian_in_leaf': 4}. Best is trial 1 with value: 0.06805188204214459.\u001b[0m\n"
     ]
    },
    {
     "name": "stdout",
     "output_type": "stream",
     "text": [
      "Training until validation scores don't improve for 100 rounds\n",
      "[5000]\tvalid_0's l2: 0.014124\n",
      "[10000]\tvalid_0's l2: 0.0128538\n",
      "Did not meet early stopping. Best iteration is:\n",
      "[10000]\tvalid_0's l2: 0.0128538\n"
     ]
    },
    {
     "name": "stderr",
     "output_type": "stream",
     "text": [
      "\u001b[32m[I 2022-01-14 10:19:20,062]\u001b[0m Trial 9 finished with value: 0.07018352078596819 and parameters: {'num_leaves': 98, 'max_bin': 174, 'max_depth': 8, 'bagging_fraction': 0.4235126753525924, 'bagging_freq': 6, 'feature_fraction': 0.4600982806065845, 'min_data_in_leaf': 6, 'min_sum_hessian_in_leaf': 1}. Best is trial 1 with value: 0.06805188204214459.\u001b[0m\n"
     ]
    },
    {
     "name": "stdout",
     "output_type": "stream",
     "text": [
      "Training until validation scores don't improve for 100 rounds\n",
      "[5000]\tvalid_0's l2: 0.0186331\n",
      "[10000]\tvalid_0's l2: 0.0172714\n",
      "Did not meet early stopping. Best iteration is:\n",
      "[10000]\tvalid_0's l2: 0.0172714\n"
     ]
    },
    {
     "name": "stderr",
     "output_type": "stream",
     "text": [
      "\u001b[32m[I 2022-01-14 10:23:26,587]\u001b[0m Trial 10 finished with value: 0.08157857104802164 and parameters: {'num_leaves': 33, 'max_bin': 135, 'max_depth': 3, 'bagging_fraction': 0.815483271622012, 'bagging_freq': 12, 'feature_fraction': 0.5326947454697227, 'min_data_in_leaf': 9, 'min_sum_hessian_in_leaf': 0}. Best is trial 1 with value: 0.06805188204214459.\u001b[0m\n"
     ]
    },
    {
     "name": "stdout",
     "output_type": "stream",
     "text": [
      "Training until validation scores don't improve for 100 rounds\n",
      "[5000]\tvalid_0's l2: 0.0158304\n",
      "[10000]\tvalid_0's l2: 0.0149208\n",
      "Did not meet early stopping. Best iteration is:\n",
      "[10000]\tvalid_0's l2: 0.0149208\n"
     ]
    },
    {
     "name": "stderr",
     "output_type": "stream",
     "text": [
      "\u001b[32m[I 2022-01-14 10:29:58,619]\u001b[0m Trial 11 finished with value: 0.07519194107336638 and parameters: {'num_leaves': 59, 'max_bin': 241, 'max_depth': 5, 'bagging_fraction': 0.800446227978209, 'bagging_freq': 3, 'feature_fraction': 0.7581636020592828, 'min_data_in_leaf': 6, 'min_sum_hessian_in_leaf': 1}. Best is trial 1 with value: 0.06805188204214459.\u001b[0m\n"
     ]
    },
    {
     "name": "stdout",
     "output_type": "stream",
     "text": [
      "Training until validation scores don't improve for 100 rounds\n",
      "[5000]\tvalid_0's l2: 0.0147046\n",
      "[10000]\tvalid_0's l2: 0.0135883\n",
      "Did not meet early stopping. Best iteration is:\n",
      "[10000]\tvalid_0's l2: 0.0135883\n"
     ]
    },
    {
     "name": "stderr",
     "output_type": "stream",
     "text": [
      "\u001b[32m[I 2022-01-14 10:37:28,964]\u001b[0m Trial 12 finished with value: 0.0721151902455544 and parameters: {'num_leaves': 60, 'max_bin': 54, 'max_depth': 9, 'bagging_fraction': 0.4028172857155283, 'bagging_freq': 14, 'feature_fraction': 0.5350039865960825, 'min_data_in_leaf': 13, 'min_sum_hessian_in_leaf': 9}. Best is trial 1 with value: 0.06805188204214459.\u001b[0m\n"
     ]
    },
    {
     "name": "stdout",
     "output_type": "stream",
     "text": [
      "Training until validation scores don't improve for 100 rounds\n",
      "[5000]\tvalid_0's l2: 0.0152934\n",
      "[10000]\tvalid_0's l2: 0.014534\n",
      "Did not meet early stopping. Best iteration is:\n",
      "[10000]\tvalid_0's l2: 0.014534\n"
     ]
    },
    {
     "name": "stderr",
     "output_type": "stream",
     "text": [
      "\u001b[32m[I 2022-01-14 10:45:16,028]\u001b[0m Trial 13 finished with value: 0.07460700766469681 and parameters: {'num_leaves': 26, 'max_bin': 168, 'max_depth': 7, 'bagging_fraction': 0.743351143474524, 'bagging_freq': 5, 'feature_fraction': 0.8763745057584925, 'min_data_in_leaf': 8, 'min_sum_hessian_in_leaf': 8}. Best is trial 1 with value: 0.06805188204214459.\u001b[0m\n"
     ]
    },
    {
     "name": "stdout",
     "output_type": "stream",
     "text": [
      "Training until validation scores don't improve for 100 rounds\n",
      "[5000]\tvalid_0's l2: 0.0141034\n",
      "[10000]\tvalid_0's l2: 0.0130554\n",
      "Did not meet early stopping. Best iteration is:\n",
      "[10000]\tvalid_0's l2: 0.0130554\n"
     ]
    },
    {
     "name": "stderr",
     "output_type": "stream",
     "text": [
      "\u001b[32m[I 2022-01-14 10:53:56,405]\u001b[0m Trial 14 finished with value: 0.07017049438710261 and parameters: {'num_leaves': 71, 'max_bin': 111, 'max_depth': 9, 'bagging_fraction': 0.6379034445081908, 'bagging_freq': 18, 'feature_fraction': 0.6906364363179294, 'min_data_in_leaf': 15, 'min_sum_hessian_in_leaf': 6}. Best is trial 1 with value: 0.06805188204214459.\u001b[0m\n"
     ]
    },
    {
     "name": "stdout",
     "output_type": "stream",
     "text": [
      "Training until validation scores don't improve for 100 rounds\n",
      "[5000]\tvalid_0's l2: 0.0132204\n",
      "[10000]\tvalid_0's l2: 0.0120992\n",
      "Did not meet early stopping. Best iteration is:\n",
      "[10000]\tvalid_0's l2: 0.0120992\n"
     ]
    },
    {
     "name": "stderr",
     "output_type": "stream",
     "text": [
      "\u001b[32m[I 2022-01-14 11:04:02,612]\u001b[0m Trial 15 finished with value: 0.06816115713550785 and parameters: {'num_leaves': 73, 'max_bin': 153, 'max_depth': 10, 'bagging_fraction': 0.7863941195377824, 'bagging_freq': 9, 'feature_fraction': 0.7031966070639621, 'min_data_in_leaf': 2, 'min_sum_hessian_in_leaf': 3}. Best is trial 1 with value: 0.06805188204214459.\u001b[0m\n"
     ]
    },
    {
     "name": "stdout",
     "output_type": "stream",
     "text": [
      "Training until validation scores don't improve for 100 rounds\n",
      "[5000]\tvalid_0's l2: 0.0146898\n",
      "[10000]\tvalid_0's l2: 0.0136424\n",
      "Did not meet early stopping. Best iteration is:\n",
      "[10000]\tvalid_0's l2: 0.0136424\n"
     ]
    },
    {
     "name": "stderr",
     "output_type": "stream",
     "text": [
      "\u001b[32m[I 2022-01-14 11:11:28,722]\u001b[0m Trial 16 finished with value: 0.07135239033695193 and parameters: {'num_leaves': 67, 'max_bin': 109, 'max_depth': 7, 'bagging_fraction': 0.6572612205674597, 'bagging_freq': 3, 'feature_fraction': 0.5491411629780154, 'min_data_in_leaf': 10, 'min_sum_hessian_in_leaf': 5}. Best is trial 1 with value: 0.06805188204214459.\u001b[0m\n"
     ]
    },
    {
     "name": "stdout",
     "output_type": "stream",
     "text": [
      "Training until validation scores don't improve for 100 rounds\n",
      "[5000]\tvalid_0's l2: 0.0144323\n",
      "[10000]\tvalid_0's l2: 0.0133636\n",
      "Did not meet early stopping. Best iteration is:\n",
      "[10000]\tvalid_0's l2: 0.0133636\n"
     ]
    },
    {
     "name": "stderr",
     "output_type": "stream",
     "text": [
      "\u001b[32m[I 2022-01-14 11:19:11,323]\u001b[0m Trial 17 finished with value: 0.07101279937600585 and parameters: {'num_leaves': 58, 'max_bin': 184, 'max_depth': 8, 'bagging_fraction': 0.6588510612603844, 'bagging_freq': 18, 'feature_fraction': 0.5837809350239482, 'min_data_in_leaf': 8, 'min_sum_hessian_in_leaf': 8}. Best is trial 1 with value: 0.06805188204214459.\u001b[0m\n"
     ]
    },
    {
     "name": "stdout",
     "output_type": "stream",
     "text": [
      "Training until validation scores don't improve for 100 rounds\n",
      "[5000]\tvalid_0's l2: 0.0181141\n",
      "[10000]\tvalid_0's l2: 0.0166423\n",
      "Did not meet early stopping. Best iteration is:\n",
      "[10000]\tvalid_0's l2: 0.0166423\n"
     ]
    },
    {
     "name": "stderr",
     "output_type": "stream",
     "text": [
      "\u001b[32m[I 2022-01-14 11:23:49,538]\u001b[0m Trial 18 finished with value: 0.07981509361833614 and parameters: {'num_leaves': 81, 'max_bin': 195, 'max_depth': 3, 'bagging_fraction': 0.9516895682468042, 'bagging_freq': 15, 'feature_fraction': 0.8994235032839333, 'min_data_in_leaf': 4, 'min_sum_hessian_in_leaf': 8}. Best is trial 1 with value: 0.06805188204214459.\u001b[0m\n"
     ]
    },
    {
     "name": "stdout",
     "output_type": "stream",
     "text": [
      "Training until validation scores don't improve for 100 rounds\n",
      "[5000]\tvalid_0's l2: 0.0182934\n",
      "[10000]\tvalid_0's l2: 0.0168062\n",
      "Did not meet early stopping. Best iteration is:\n",
      "[10000]\tvalid_0's l2: 0.0168062\n"
     ]
    },
    {
     "name": "stderr",
     "output_type": "stream",
     "text": [
      "\u001b[32m[I 2022-01-14 11:28:21,499]\u001b[0m Trial 19 finished with value: 0.08028380665037728 and parameters: {'num_leaves': 18, 'max_bin': 176, 'max_depth': 3, 'bagging_fraction': 0.9088049375933407, 'bagging_freq': 17, 'feature_fraction': 0.6845503693072967, 'min_data_in_leaf': 8, 'min_sum_hessian_in_leaf': 0}. Best is trial 1 with value: 0.06805188204214459.\u001b[0m\n"
     ]
    },
    {
     "name": "stdout",
     "output_type": "stream",
     "text": [
      "Training until validation scores don't improve for 100 rounds\n",
      "[5000]\tvalid_0's l2: 0.013214\n",
      "[10000]\tvalid_0's l2: 0.0121115\n",
      "Did not meet early stopping. Best iteration is:\n",
      "[10000]\tvalid_0's l2: 0.0121115\n"
     ]
    },
    {
     "name": "stderr",
     "output_type": "stream",
     "text": [
      "\u001b[32m[I 2022-01-14 11:37:50,206]\u001b[0m Trial 20 finished with value: 0.06777531432169094 and parameters: {'num_leaves': 71, 'max_bin': 143, 'max_depth': 8, 'bagging_fraction': 0.9198293955571775, 'bagging_freq': 20, 'feature_fraction': 0.8279016711963055, 'min_data_in_leaf': 2, 'min_sum_hessian_in_leaf': 3}. Best is trial 20 with value: 0.06777531432169094.\u001b[0m\n"
     ]
    },
    {
     "name": "stdout",
     "output_type": "stream",
     "text": [
      "Training until validation scores don't improve for 100 rounds\n",
      "[5000]\tvalid_0's l2: 0.0150595\n",
      "[10000]\tvalid_0's l2: 0.0140534\n",
      "Did not meet early stopping. Best iteration is:\n",
      "[10000]\tvalid_0's l2: 0.0140534\n"
     ]
    },
    {
     "name": "stderr",
     "output_type": "stream",
     "text": [
      "\u001b[32m[I 2022-01-14 11:44:24,371]\u001b[0m Trial 21 finished with value: 0.07266412647754023 and parameters: {'num_leaves': 74, 'max_bin': 85, 'max_depth': 7, 'bagging_fraction': 0.4326027930035522, 'bagging_freq': 4, 'feature_fraction': 0.409260897230307, 'min_data_in_leaf': 13, 'min_sum_hessian_in_leaf': 2}. Best is trial 20 with value: 0.06777531432169094.\u001b[0m\n"
     ]
    },
    {
     "name": "stdout",
     "output_type": "stream",
     "text": [
      "Training until validation scores don't improve for 100 rounds\n",
      "[5000]\tvalid_0's l2: 0.0153965\n",
      "[10000]\tvalid_0's l2: 0.0143852\n",
      "Did not meet early stopping. Best iteration is:\n",
      "[10000]\tvalid_0's l2: 0.0143852\n"
     ]
    },
    {
     "name": "stderr",
     "output_type": "stream",
     "text": [
      "\u001b[32m[I 2022-01-14 11:51:28,507]\u001b[0m Trial 22 finished with value: 0.07452415383413827 and parameters: {'num_leaves': 36, 'max_bin': 241, 'max_depth': 8, 'bagging_fraction': 0.4191033577187847, 'bagging_freq': 4, 'feature_fraction': 0.7107392007498818, 'min_data_in_leaf': 10, 'min_sum_hessian_in_leaf': 2}. Best is trial 20 with value: 0.06777531432169094.\u001b[0m\n"
     ]
    },
    {
     "name": "stdout",
     "output_type": "stream",
     "text": [
      "Training until validation scores don't improve for 100 rounds\n",
      "[5000]\tvalid_0's l2: 0.0143053\n",
      "[10000]\tvalid_0's l2: 0.0132249\n",
      "Did not meet early stopping. Best iteration is:\n",
      "[10000]\tvalid_0's l2: 0.0132249\n"
     ]
    },
    {
     "name": "stderr",
     "output_type": "stream",
     "text": [
      "\u001b[32m[I 2022-01-14 11:59:13,999]\u001b[0m Trial 23 finished with value: 0.07009234397026251 and parameters: {'num_leaves': 94, 'max_bin': 176, 'max_depth': 7, 'bagging_fraction': 0.7539459858127426, 'bagging_freq': 15, 'feature_fraction': 0.555972497739801, 'min_data_in_leaf': 7, 'min_sum_hessian_in_leaf': 2}. Best is trial 20 with value: 0.06777531432169094.\u001b[0m\n"
     ]
    },
    {
     "name": "stdout",
     "output_type": "stream",
     "text": [
      "Training until validation scores don't improve for 100 rounds\n",
      "[5000]\tvalid_0's l2: 0.0158056\n",
      "[10000]\tvalid_0's l2: 0.0149936\n",
      "Did not meet early stopping. Best iteration is:\n",
      "[10000]\tvalid_0's l2: 0.0149936\n"
     ]
    },
    {
     "name": "stderr",
     "output_type": "stream",
     "text": [
      "\u001b[32m[I 2022-01-14 12:06:35,567]\u001b[0m Trial 24 finished with value: 0.07524679359005536 and parameters: {'num_leaves': 20, 'max_bin': 244, 'max_depth': 8, 'bagging_fraction': 0.6942752851705403, 'bagging_freq': 5, 'feature_fraction': 0.5271782408851965, 'min_data_in_leaf': 2, 'min_sum_hessian_in_leaf': 4}. Best is trial 20 with value: 0.06777531432169094.\u001b[0m\n"
     ]
    },
    {
     "name": "stdout",
     "output_type": "stream",
     "text": [
      "Training until validation scores don't improve for 100 rounds\n",
      "[5000]\tvalid_0's l2: 0.0158452\n",
      "[10000]\tvalid_0's l2: 0.0149484\n",
      "Did not meet early stopping. Best iteration is:\n",
      "[10000]\tvalid_0's l2: 0.0149484\n"
     ]
    },
    {
     "name": "stderr",
     "output_type": "stream",
     "text": [
      "\u001b[32m[I 2022-01-14 12:12:18,261]\u001b[0m Trial 25 finished with value: 0.07499136825535493 and parameters: {'num_leaves': 32, 'max_bin': 193, 'max_depth': 6, 'bagging_fraction': 0.5077622065357809, 'bagging_freq': 1, 'feature_fraction': 0.4336248157316243, 'min_data_in_leaf': 12, 'min_sum_hessian_in_leaf': 4}. Best is trial 20 with value: 0.06777531432169094.\u001b[0m\n"
     ]
    },
    {
     "name": "stdout",
     "output_type": "stream",
     "text": [
      "Training until validation scores don't improve for 100 rounds\n",
      "[5000]\tvalid_0's l2: 0.0143409\n",
      "[10000]\tvalid_0's l2: 0.0132621\n",
      "Did not meet early stopping. Best iteration is:\n",
      "[10000]\tvalid_0's l2: 0.0132621\n"
     ]
    },
    {
     "name": "stderr",
     "output_type": "stream",
     "text": [
      "\u001b[32m[I 2022-01-14 12:20:44,840]\u001b[0m Trial 26 finished with value: 0.07117818746411579 and parameters: {'num_leaves': 55, 'max_bin': 234, 'max_depth': 10, 'bagging_fraction': 0.5301381906390844, 'bagging_freq': 14, 'feature_fraction': 0.5316611883685753, 'min_data_in_leaf': 2, 'min_sum_hessian_in_leaf': 7}. Best is trial 20 with value: 0.06777531432169094.\u001b[0m\n"
     ]
    },
    {
     "name": "stdout",
     "output_type": "stream",
     "text": [
      "Training until validation scores don't improve for 100 rounds\n",
      "[5000]\tvalid_0's l2: 0.0146049\n",
      "[10000]\tvalid_0's l2: 0.0137475\n",
      "Did not meet early stopping. Best iteration is:\n",
      "[10000]\tvalid_0's l2: 0.0137475\n"
     ]
    },
    {
     "name": "stderr",
     "output_type": "stream",
     "text": [
      "\u001b[32m[I 2022-01-14 12:29:11,162]\u001b[0m Trial 27 finished with value: 0.07181555476524652 and parameters: {'num_leaves': 33, 'max_bin': 128, 'max_depth': 7, 'bagging_fraction': 0.8986290731417143, 'bagging_freq': 13, 'feature_fraction': 0.8363253277236977, 'min_data_in_leaf': 6, 'min_sum_hessian_in_leaf': 7}. Best is trial 20 with value: 0.06777531432169094.\u001b[0m\n"
     ]
    },
    {
     "name": "stdout",
     "output_type": "stream",
     "text": [
      "Training until validation scores don't improve for 100 rounds\n",
      "[5000]\tvalid_0's l2: 0.0159165\n",
      "[10000]\tvalid_0's l2: 0.0151856\n",
      "Did not meet early stopping. Best iteration is:\n",
      "[10000]\tvalid_0's l2: 0.0151856\n"
     ]
    },
    {
     "name": "stderr",
     "output_type": "stream",
     "text": [
      "\u001b[32m[I 2022-01-14 12:36:38,808]\u001b[0m Trial 28 finished with value: 0.07645522995150938 and parameters: {'num_leaves': 20, 'max_bin': 246, 'max_depth': 8, 'bagging_fraction': 0.529304606268135, 'bagging_freq': 19, 'feature_fraction': 0.7654279033850789, 'min_data_in_leaf': 5, 'min_sum_hessian_in_leaf': 2}. Best is trial 20 with value: 0.06777531432169094.\u001b[0m\n"
     ]
    },
    {
     "name": "stdout",
     "output_type": "stream",
     "text": [
      "Training until validation scores don't improve for 100 rounds\n",
      "[5000]\tvalid_0's l2: 0.0172471\n",
      "[10000]\tvalid_0's l2: 0.0162318\n",
      "Did not meet early stopping. Best iteration is:\n",
      "[10000]\tvalid_0's l2: 0.0162318\n"
     ]
    },
    {
     "name": "stderr",
     "output_type": "stream",
     "text": [
      "\u001b[32m[I 2022-01-14 12:42:18,048]\u001b[0m Trial 29 finished with value: 0.07897187277002522 and parameters: {'num_leaves': 53, 'max_bin': 55, 'max_depth': 4, 'bagging_fraction': 0.6548112812509037, 'bagging_freq': 8, 'feature_fraction': 0.6317877121824054, 'min_data_in_leaf': 6, 'min_sum_hessian_in_leaf': 5}. Best is trial 20 with value: 0.06777531432169094.\u001b[0m\n"
     ]
    },
    {
     "name": "stdout",
     "output_type": "stream",
     "text": [
      "Training until validation scores don't improve for 100 rounds\n",
      "[5000]\tvalid_0's l2: 0.0148096\n",
      "[10000]\tvalid_0's l2: 0.0136918\n",
      "Did not meet early stopping. Best iteration is:\n",
      "[10000]\tvalid_0's l2: 0.0136918\n"
     ]
    },
    {
     "name": "stderr",
     "output_type": "stream",
     "text": [
      "\u001b[32m[I 2022-01-14 12:49:57,312]\u001b[0m Trial 30 finished with value: 0.07204603115037213 and parameters: {'num_leaves': 87, 'max_bin': 74, 'max_depth': 7, 'bagging_fraction': 0.479240863807092, 'bagging_freq': 15, 'feature_fraction': 0.5980298514036468, 'min_data_in_leaf': 10, 'min_sum_hessian_in_leaf': 1}. Best is trial 20 with value: 0.06777531432169094.\u001b[0m\n"
     ]
    },
    {
     "name": "stdout",
     "output_type": "stream",
     "text": [
      "Training until validation scores don't improve for 100 rounds\n",
      "[5000]\tvalid_0's l2: 0.0160404\n",
      "[10000]\tvalid_0's l2: 0.0150295\n",
      "Did not meet early stopping. Best iteration is:\n",
      "[10000]\tvalid_0's l2: 0.0150295\n"
     ]
    },
    {
     "name": "stderr",
     "output_type": "stream",
     "text": [
      "\u001b[32m[I 2022-01-14 12:57:15,434]\u001b[0m Trial 31 finished with value: 0.07467087855365835 and parameters: {'num_leaves': 16, 'max_bin': 150, 'max_depth': 5, 'bagging_fraction': 0.9642591671516878, 'bagging_freq': 16, 'feature_fraction': 0.7743318099252736, 'min_data_in_leaf': 15, 'min_sum_hessian_in_leaf': 0}. Best is trial 20 with value: 0.06777531432169094.\u001b[0m\n"
     ]
    },
    {
     "name": "stdout",
     "output_type": "stream",
     "text": [
      "Training until validation scores don't improve for 100 rounds\n",
      "[5000]\tvalid_0's l2: 0.0143535\n",
      "[10000]\tvalid_0's l2: 0.0133028\n",
      "Did not meet early stopping. Best iteration is:\n",
      "[10000]\tvalid_0's l2: 0.0133028\n"
     ]
    },
    {
     "name": "stderr",
     "output_type": "stream",
     "text": [
      "\u001b[32m[I 2022-01-14 13:07:12,931]\u001b[0m Trial 32 finished with value: 0.0708828009764027 and parameters: {'num_leaves': 56, 'max_bin': 170, 'max_depth': 10, 'bagging_fraction': 0.5752885160755293, 'bagging_freq': 5, 'feature_fraction': 0.45014697113274893, 'min_data_in_leaf': 2, 'min_sum_hessian_in_leaf': 9}. Best is trial 20 with value: 0.06777531432169094.\u001b[0m\n"
     ]
    },
    {
     "name": "stdout",
     "output_type": "stream",
     "text": [
      "Training until validation scores don't improve for 100 rounds\n",
      "[5000]\tvalid_0's l2: 0.0161322\n",
      "[10000]\tvalid_0's l2: 0.0152378\n",
      "Did not meet early stopping. Best iteration is:\n",
      "[10000]\tvalid_0's l2: 0.0152378\n"
     ]
    },
    {
     "name": "stderr",
     "output_type": "stream",
     "text": [
      "\u001b[32m[I 2022-01-14 13:14:52,479]\u001b[0m Trial 33 finished with value: 0.07562591256402372 and parameters: {'num_leaves': 68, 'max_bin': 211, 'max_depth': 5, 'bagging_fraction': 0.751846099711796, 'bagging_freq': 2, 'feature_fraction': 0.6428137979673114, 'min_data_in_leaf': 16, 'min_sum_hessian_in_leaf': 8}. Best is trial 20 with value: 0.06777531432169094.\u001b[0m\n"
     ]
    },
    {
     "name": "stdout",
     "output_type": "stream",
     "text": [
      "Training until validation scores don't improve for 100 rounds\n",
      "[5000]\tvalid_0's l2: 0.0165849\n",
      "[10000]\tvalid_0's l2: 0.0154023\n",
      "Did not meet early stopping. Best iteration is:\n",
      "[10000]\tvalid_0's l2: 0.0154023\n"
     ]
    },
    {
     "name": "stderr",
     "output_type": "stream",
     "text": [
      "\u001b[32m[I 2022-01-14 13:21:48,631]\u001b[0m Trial 34 finished with value: 0.07592845248019771 and parameters: {'num_leaves': 35, 'max_bin': 248, 'max_depth': 4, 'bagging_fraction': 0.9695912934494089, 'bagging_freq': 19, 'feature_fraction': 0.7996012936761958, 'min_data_in_leaf': 11, 'min_sum_hessian_in_leaf': 8}. Best is trial 20 with value: 0.06777531432169094.\u001b[0m\n"
     ]
    },
    {
     "name": "stdout",
     "output_type": "stream",
     "text": [
      "Training until validation scores don't improve for 100 rounds\n",
      "[5000]\tvalid_0's l2: 0.0157805\n",
      "[10000]\tvalid_0's l2: 0.0148552\n",
      "Did not meet early stopping. Best iteration is:\n",
      "[10000]\tvalid_0's l2: 0.0148552\n"
     ]
    },
    {
     "name": "stderr",
     "output_type": "stream",
     "text": [
      "\u001b[32m[I 2022-01-14 13:27:52,601]\u001b[0m Trial 35 finished with value: 0.07497587927780064 and parameters: {'num_leaves': 31, 'max_bin': 224, 'max_depth': 7, 'bagging_fraction': 0.4079421146553397, 'bagging_freq': 7, 'feature_fraction': 0.47407043047408254, 'min_data_in_leaf': 16, 'min_sum_hessian_in_leaf': 4}. Best is trial 20 with value: 0.06777531432169094.\u001b[0m\n"
     ]
    },
    {
     "name": "stdout",
     "output_type": "stream",
     "text": [
      "Training until validation scores don't improve for 100 rounds\n",
      "[5000]\tvalid_0's l2: 0.0163424\n",
      "[10000]\tvalid_0's l2: 0.0154005\n",
      "Did not meet early stopping. Best iteration is:\n",
      "[10000]\tvalid_0's l2: 0.0154005\n"
     ]
    },
    {
     "name": "stderr",
     "output_type": "stream",
     "text": [
      "\u001b[32m[I 2022-01-14 13:32:57,455]\u001b[0m Trial 36 finished with value: 0.07639641636309388 and parameters: {'num_leaves': 51, 'max_bin': 181, 'max_depth': 5, 'bagging_fraction': 0.48214016301135937, 'bagging_freq': 17, 'feature_fraction': 0.494923955951379, 'min_data_in_leaf': 9, 'min_sum_hessian_in_leaf': 2}. Best is trial 20 with value: 0.06777531432169094.\u001b[0m\n"
     ]
    },
    {
     "name": "stdout",
     "output_type": "stream",
     "text": [
      "Training until validation scores don't improve for 100 rounds\n",
      "[5000]\tvalid_0's l2: 0.0160085\n",
      "[10000]\tvalid_0's l2: 0.0149616\n",
      "Did not meet early stopping. Best iteration is:\n",
      "[10000]\tvalid_0's l2: 0.0149616\n"
     ]
    },
    {
     "name": "stderr",
     "output_type": "stream",
     "text": [
      "\u001b[32m[I 2022-01-14 13:40:32,802]\u001b[0m Trial 37 finished with value: 0.07451694484980505 and parameters: {'num_leaves': 11, 'max_bin': 227, 'max_depth': 10, 'bagging_fraction': 0.9765007948378001, 'bagging_freq': 19, 'feature_fraction': 0.7870236663493194, 'min_data_in_leaf': 6, 'min_sum_hessian_in_leaf': 0}. Best is trial 20 with value: 0.06777531432169094.\u001b[0m\n"
     ]
    },
    {
     "name": "stdout",
     "output_type": "stream",
     "text": [
      "Training until validation scores don't improve for 100 rounds\n",
      "[5000]\tvalid_0's l2: 0.0174317\n",
      "[10000]\tvalid_0's l2: 0.0164451\n",
      "Did not meet early stopping. Best iteration is:\n",
      "[10000]\tvalid_0's l2: 0.0164451\n"
     ]
    },
    {
     "name": "stderr",
     "output_type": "stream",
     "text": [
      "\u001b[32m[I 2022-01-14 13:44:45,534]\u001b[0m Trial 38 finished with value: 0.07927130863303111 and parameters: {'num_leaves': 42, 'max_bin': 97, 'max_depth': 4, 'bagging_fraction': 0.4320563090720952, 'bagging_freq': 15, 'feature_fraction': 0.40571372931251554, 'min_data_in_leaf': 13, 'min_sum_hessian_in_leaf': 1}. Best is trial 20 with value: 0.06777531432169094.\u001b[0m\n"
     ]
    },
    {
     "name": "stdout",
     "output_type": "stream",
     "text": [
      "Training until validation scores don't improve for 100 rounds\n",
      "[5000]\tvalid_0's l2: 0.0174979\n",
      "[10000]\tvalid_0's l2: 0.0169586\n",
      "Did not meet early stopping. Best iteration is:\n",
      "[9992]\tvalid_0's l2: 0.0169584\n"
     ]
    },
    {
     "name": "stderr",
     "output_type": "stream",
     "text": [
      "\u001b[32m[I 2022-01-14 13:51:23,311]\u001b[0m Trial 39 finished with value: 0.0804210989874111 and parameters: {'num_leaves': 9, 'max_bin': 68, 'max_depth': 8, 'bagging_fraction': 0.5472203259117069, 'bagging_freq': 9, 'feature_fraction': 0.6786843956619585, 'min_data_in_leaf': 14, 'min_sum_hessian_in_leaf': 7}. Best is trial 20 with value: 0.06777531432169094.\u001b[0m\n"
     ]
    },
    {
     "name": "stdout",
     "output_type": "stream",
     "text": [
      "Training until validation scores don't improve for 100 rounds\n",
      "[5000]\tvalid_0's l2: 0.0187083\n",
      "[10000]\tvalid_0's l2: 0.0175086\n",
      "Did not meet early stopping. Best iteration is:\n",
      "[10000]\tvalid_0's l2: 0.0175086\n"
     ]
    },
    {
     "name": "stderr",
     "output_type": "stream",
     "text": [
      "\u001b[32m[I 2022-01-14 13:55:23,306]\u001b[0m Trial 40 finished with value: 0.08276196507401383 and parameters: {'num_leaves': 28, 'max_bin': 77, 'max_depth': 3, 'bagging_fraction': 0.5809591806885654, 'bagging_freq': 6, 'feature_fraction': 0.6280702834002398, 'min_data_in_leaf': 12, 'min_sum_hessian_in_leaf': 6}. Best is trial 20 with value: 0.06777531432169094.\u001b[0m\n"
     ]
    },
    {
     "name": "stdout",
     "output_type": "stream",
     "text": [
      "Training until validation scores don't improve for 100 rounds\n",
      "[5000]\tvalid_0's l2: 0.0169215\n",
      "[10000]\tvalid_0's l2: 0.0158727\n",
      "Did not meet early stopping. Best iteration is:\n",
      "[9998]\tvalid_0's l2: 0.0158727\n"
     ]
    },
    {
     "name": "stderr",
     "output_type": "stream",
     "text": [
      "\u001b[32m[I 2022-01-14 14:01:31,656]\u001b[0m Trial 41 finished with value: 0.07748196727913227 and parameters: {'num_leaves': 30, 'max_bin': 128, 'max_depth': 4, 'bagging_fraction': 0.8731273073839112, 'bagging_freq': 2, 'feature_fraction': 0.7484986208624937, 'min_data_in_leaf': 13, 'min_sum_hessian_in_leaf': 7}. Best is trial 20 with value: 0.06777531432169094.\u001b[0m\n"
     ]
    },
    {
     "name": "stdout",
     "output_type": "stream",
     "text": [
      "Training until validation scores don't improve for 100 rounds\n",
      "[5000]\tvalid_0's l2: 0.0156931\n",
      "[10000]\tvalid_0's l2: 0.0148014\n",
      "Did not meet early stopping. Best iteration is:\n",
      "[10000]\tvalid_0's l2: 0.0148014\n"
     ]
    },
    {
     "name": "stderr",
     "output_type": "stream",
     "text": [
      "\u001b[32m[I 2022-01-14 14:07:51,486]\u001b[0m Trial 42 finished with value: 0.07477656925295158 and parameters: {'num_leaves': 27, 'max_bin': 127, 'max_depth': 7, 'bagging_fraction': 0.5636931414546802, 'bagging_freq': 8, 'feature_fraction': 0.49852714009281984, 'min_data_in_leaf': 8, 'min_sum_hessian_in_leaf': 0}. Best is trial 20 with value: 0.06777531432169094.\u001b[0m\n"
     ]
    },
    {
     "name": "stdout",
     "output_type": "stream",
     "text": [
      "Training until validation scores don't improve for 100 rounds\n",
      "[5000]\tvalid_0's l2: 0.0147725\n",
      "[10000]\tvalid_0's l2: 0.0138099\n",
      "Did not meet early stopping. Best iteration is:\n",
      "[10000]\tvalid_0's l2: 0.0138099\n"
     ]
    },
    {
     "name": "stderr",
     "output_type": "stream",
     "text": [
      "\u001b[32m[I 2022-01-14 14:15:37,380]\u001b[0m Trial 43 finished with value: 0.07281963853780159 and parameters: {'num_leaves': 81, 'max_bin': 65, 'max_depth': 7, 'bagging_fraction': 0.5840860597271177, 'bagging_freq': 12, 'feature_fraction': 0.8797166704167125, 'min_data_in_leaf': 11, 'min_sum_hessian_in_leaf': 0}. Best is trial 20 with value: 0.06777531432169094.\u001b[0m\n"
     ]
    },
    {
     "name": "stdout",
     "output_type": "stream",
     "text": [
      "Training until validation scores don't improve for 100 rounds\n",
      "[5000]\tvalid_0's l2: 0.014916\n",
      "[10000]\tvalid_0's l2: 0.0139683\n",
      "Did not meet early stopping. Best iteration is:\n",
      "[10000]\tvalid_0's l2: 0.0139683\n"
     ]
    },
    {
     "name": "stderr",
     "output_type": "stream",
     "text": [
      "\u001b[32m[I 2022-01-14 14:23:10,781]\u001b[0m Trial 44 finished with value: 0.07189968604767714 and parameters: {'num_leaves': 44, 'max_bin': 155, 'max_depth': 7, 'bagging_fraction': 0.8088355063623027, 'bagging_freq': 6, 'feature_fraction': 0.4644302827331601, 'min_data_in_leaf': 7, 'min_sum_hessian_in_leaf': 9}. Best is trial 20 with value: 0.06777531432169094.\u001b[0m\n"
     ]
    },
    {
     "name": "stdout",
     "output_type": "stream",
     "text": [
      "Training until validation scores don't improve for 100 rounds\n",
      "[5000]\tvalid_0's l2: 0.0159364\n",
      "[10000]\tvalid_0's l2: 0.0151429\n",
      "Did not meet early stopping. Best iteration is:\n",
      "[9999]\tvalid_0's l2: 0.0151429\n"
     ]
    },
    {
     "name": "stderr",
     "output_type": "stream",
     "text": [
      "\u001b[32m[I 2022-01-14 14:30:15,767]\u001b[0m Trial 45 finished with value: 0.075661618026032 and parameters: {'num_leaves': 20, 'max_bin': 236, 'max_depth': 7, 'bagging_fraction': 0.6741468529874595, 'bagging_freq': 18, 'feature_fraction': 0.629301980884293, 'min_data_in_leaf': 12, 'min_sum_hessian_in_leaf': 3}. Best is trial 20 with value: 0.06777531432169094.\u001b[0m\n"
     ]
    },
    {
     "name": "stdout",
     "output_type": "stream",
     "text": [
      "Training until validation scores don't improve for 100 rounds\n",
      "[5000]\tvalid_0's l2: 0.0138333\n",
      "[10000]\tvalid_0's l2: 0.0126145\n",
      "Did not meet early stopping. Best iteration is:\n",
      "[10000]\tvalid_0's l2: 0.0126145\n"
     ]
    },
    {
     "name": "stderr",
     "output_type": "stream",
     "text": [
      "\u001b[32m[I 2022-01-14 14:38:35,704]\u001b[0m Trial 46 finished with value: 0.0695723878077553 and parameters: {'num_leaves': 91, 'max_bin': 192, 'max_depth': 8, 'bagging_fraction': 0.5966322409342714, 'bagging_freq': 16, 'feature_fraction': 0.7180305277235707, 'min_data_in_leaf': 5, 'min_sum_hessian_in_leaf': 1}. Best is trial 20 with value: 0.06777531432169094.\u001b[0m\n"
     ]
    },
    {
     "name": "stdout",
     "output_type": "stream",
     "text": [
      "Training until validation scores don't improve for 100 rounds\n",
      "[5000]\tvalid_0's l2: 0.0152468\n",
      "[10000]\tvalid_0's l2: 0.0143377\n",
      "Did not meet early stopping. Best iteration is:\n",
      "[10000]\tvalid_0's l2: 0.0143377\n"
     ]
    },
    {
     "name": "stderr",
     "output_type": "stream",
     "text": [
      "\u001b[32m[I 2022-01-14 14:45:54,254]\u001b[0m Trial 47 finished with value: 0.07303909992427068 and parameters: {'num_leaves': 80, 'max_bin': 247, 'max_depth': 6, 'bagging_fraction': 0.754590499194211, 'bagging_freq': 18, 'feature_fraction': 0.6286117266769286, 'min_data_in_leaf': 16, 'min_sum_hessian_in_leaf': 5}. Best is trial 20 with value: 0.06777531432169094.\u001b[0m\n"
     ]
    },
    {
     "name": "stdout",
     "output_type": "stream",
     "text": [
      "Training until validation scores don't improve for 100 rounds\n",
      "[5000]\tvalid_0's l2: 0.0137817\n",
      "[10000]\tvalid_0's l2: 0.0124698\n",
      "Did not meet early stopping. Best iteration is:\n",
      "[10000]\tvalid_0's l2: 0.0124698\n"
     ]
    },
    {
     "name": "stderr",
     "output_type": "stream",
     "text": [
      "\u001b[32m[I 2022-01-14 14:54:14,915]\u001b[0m Trial 48 finished with value: 0.06971594099715038 and parameters: {'num_leaves': 83, 'max_bin': 237, 'max_depth': 9, 'bagging_fraction': 0.49564867806937357, 'bagging_freq': 13, 'feature_fraction': 0.5992171293098385, 'min_data_in_leaf': 2, 'min_sum_hessian_in_leaf': 4}. Best is trial 20 with value: 0.06777531432169094.\u001b[0m\n"
     ]
    },
    {
     "name": "stdout",
     "output_type": "stream",
     "text": [
      "Training until validation scores don't improve for 100 rounds\n",
      "[5000]\tvalid_0's l2: 0.0184811\n",
      "[10000]\tvalid_0's l2: 0.0169624\n",
      "Did not meet early stopping. Best iteration is:\n",
      "[10000]\tvalid_0's l2: 0.0169624\n"
     ]
    },
    {
     "name": "stderr",
     "output_type": "stream",
     "text": [
      "\u001b[32m[I 2022-01-14 14:58:55,487]\u001b[0m Trial 49 finished with value: 0.08070697172303877 and parameters: {'num_leaves': 27, 'max_bin': 224, 'max_depth': 3, 'bagging_fraction': 0.9753896331180841, 'bagging_freq': 8, 'feature_fraction': 0.5783534452012715, 'min_data_in_leaf': 2, 'min_sum_hessian_in_leaf': 1}. Best is trial 20 with value: 0.06777531432169094.\u001b[0m\n"
     ]
    },
    {
     "name": "stdout",
     "output_type": "stream",
     "text": [
      "Training until validation scores don't improve for 100 rounds\n",
      "[5000]\tvalid_0's l2: 0.0183153\n",
      "[10000]\tvalid_0's l2: 0.0167969\n",
      "Did not meet early stopping. Best iteration is:\n",
      "[10000]\tvalid_0's l2: 0.0167969\n"
     ]
    },
    {
     "name": "stderr",
     "output_type": "stream",
     "text": [
      "\u001b[32m[I 2022-01-14 15:03:42,830]\u001b[0m Trial 50 finished with value: 0.08019260303800156 and parameters: {'num_leaves': 41, 'max_bin': 241, 'max_depth': 3, 'bagging_fraction': 0.9671809200874477, 'bagging_freq': 18, 'feature_fraction': 0.6270811984537759, 'min_data_in_leaf': 6, 'min_sum_hessian_in_leaf': 2}. Best is trial 20 with value: 0.06777531432169094.\u001b[0m\n"
     ]
    },
    {
     "name": "stdout",
     "output_type": "stream",
     "text": [
      "Training until validation scores don't improve for 100 rounds\n",
      "[5000]\tvalid_0's l2: 0.0186641\n",
      "[10000]\tvalid_0's l2: 0.0173487\n",
      "Did not meet early stopping. Best iteration is:\n",
      "[10000]\tvalid_0's l2: 0.0173487\n"
     ]
    },
    {
     "name": "stderr",
     "output_type": "stream",
     "text": [
      "\u001b[32m[I 2022-01-14 15:08:05,370]\u001b[0m Trial 51 finished with value: 0.08213290833998152 and parameters: {'num_leaves': 62, 'max_bin': 56, 'max_depth': 3, 'bagging_fraction': 0.6572774334989426, 'bagging_freq': 2, 'feature_fraction': 0.5259704941230465, 'min_data_in_leaf': 5, 'min_sum_hessian_in_leaf': 2}. Best is trial 20 with value: 0.06777531432169094.\u001b[0m\n"
     ]
    },
    {
     "name": "stdout",
     "output_type": "stream",
     "text": [
      "Training until validation scores don't improve for 100 rounds\n",
      "[5000]\tvalid_0's l2: 0.0183039\n",
      "[10000]\tvalid_0's l2: 0.017046\n",
      "Did not meet early stopping. Best iteration is:\n",
      "[10000]\tvalid_0's l2: 0.017046\n"
     ]
    },
    {
     "name": "stderr",
     "output_type": "stream",
     "text": [
      "\u001b[32m[I 2022-01-14 15:12:39,398]\u001b[0m Trial 52 finished with value: 0.08148239806161785 and parameters: {'num_leaves': 14, 'max_bin': 52, 'max_depth': 3, 'bagging_fraction': 0.7710881557076488, 'bagging_freq': 20, 'feature_fraction': 0.895172500780447, 'min_data_in_leaf': 8, 'min_sum_hessian_in_leaf': 1}. Best is trial 20 with value: 0.06777531432169094.\u001b[0m\n"
     ]
    },
    {
     "name": "stdout",
     "output_type": "stream",
     "text": [
      "Training until validation scores don't improve for 100 rounds\n",
      "[5000]\tvalid_0's l2: 0.0141899\n",
      "[10000]\tvalid_0's l2: 0.012989\n",
      "Did not meet early stopping. Best iteration is:\n",
      "[10000]\tvalid_0's l2: 0.012989\n"
     ]
    },
    {
     "name": "stderr",
     "output_type": "stream",
     "text": [
      "\u001b[32m[I 2022-01-14 15:20:47,335]\u001b[0m Trial 53 finished with value: 0.0708984330140612 and parameters: {'num_leaves': 65, 'max_bin': 151, 'max_depth': 10, 'bagging_fraction': 0.43918252429106813, 'bagging_freq': 16, 'feature_fraction': 0.544199248665747, 'min_data_in_leaf': 5, 'min_sum_hessian_in_leaf': 6}. Best is trial 20 with value: 0.06777531432169094.\u001b[0m\n"
     ]
    },
    {
     "name": "stdout",
     "output_type": "stream",
     "text": [
      "Training until validation scores don't improve for 100 rounds\n",
      "[5000]\tvalid_0's l2: 0.0157123\n",
      "[10000]\tvalid_0's l2: 0.0148418\n",
      "Did not meet early stopping. Best iteration is:\n",
      "[10000]\tvalid_0's l2: 0.0148418\n"
     ]
    },
    {
     "name": "stderr",
     "output_type": "stream",
     "text": [
      "\u001b[32m[I 2022-01-14 15:27:45,022]\u001b[0m Trial 54 finished with value: 0.07464351600239598 and parameters: {'num_leaves': 26, 'max_bin': 187, 'max_depth': 7, 'bagging_fraction': 0.6544533930615095, 'bagging_freq': 12, 'feature_fraction': 0.5435257599598149, 'min_data_in_leaf': 12, 'min_sum_hessian_in_leaf': 4}. Best is trial 20 with value: 0.06777531432169094.\u001b[0m\n"
     ]
    },
    {
     "name": "stdout",
     "output_type": "stream",
     "text": [
      "Training until validation scores don't improve for 100 rounds\n",
      "[5000]\tvalid_0's l2: 0.0151652\n",
      "[10000]\tvalid_0's l2: 0.0142144\n",
      "Did not meet early stopping. Best iteration is:\n",
      "[10000]\tvalid_0's l2: 0.0142144\n"
     ]
    },
    {
     "name": "stderr",
     "output_type": "stream",
     "text": [
      "\u001b[32m[I 2022-01-14 15:35:46,679]\u001b[0m Trial 55 finished with value: 0.07354753944129346 and parameters: {'num_leaves': 37, 'max_bin': 220, 'max_depth': 10, 'bagging_fraction': 0.4276043865323782, 'bagging_freq': 5, 'feature_fraction': 0.5742596847462816, 'min_data_in_leaf': 14, 'min_sum_hessian_in_leaf': 9}. Best is trial 20 with value: 0.06777531432169094.\u001b[0m\n"
     ]
    },
    {
     "name": "stdout",
     "output_type": "stream",
     "text": [
      "Training until validation scores don't improve for 100 rounds\n",
      "[5000]\tvalid_0's l2: 0.0159667\n",
      "[10000]\tvalid_0's l2: 0.0149967\n",
      "Did not meet early stopping. Best iteration is:\n",
      "[10000]\tvalid_0's l2: 0.0149967\n"
     ]
    },
    {
     "name": "stderr",
     "output_type": "stream",
     "text": [
      "\u001b[32m[I 2022-01-14 15:42:22,840]\u001b[0m Trial 56 finished with value: 0.07389708263269956 and parameters: {'num_leaves': 97, 'max_bin': 236, 'max_depth': 5, 'bagging_fraction': 0.9952067460486844, 'bagging_freq': 5, 'feature_fraction': 0.4529530774411161, 'min_data_in_leaf': 16, 'min_sum_hessian_in_leaf': 2}. Best is trial 20 with value: 0.06777531432169094.\u001b[0m\n"
     ]
    },
    {
     "name": "stdout",
     "output_type": "stream",
     "text": [
      "Training until validation scores don't improve for 100 rounds\n",
      "[5000]\tvalid_0's l2: 0.0138771\n",
      "[10000]\tvalid_0's l2: 0.0127907\n",
      "Did not meet early stopping. Best iteration is:\n",
      "[10000]\tvalid_0's l2: 0.0127907\n"
     ]
    },
    {
     "name": "stderr",
     "output_type": "stream",
     "text": [
      "\u001b[32m[I 2022-01-14 15:51:37,961]\u001b[0m Trial 57 finished with value: 0.06866357699366014 and parameters: {'num_leaves': 70, 'max_bin': 62, 'max_depth': 8, 'bagging_fraction': 0.9290321274003038, 'bagging_freq': 6, 'feature_fraction': 0.5895284480387143, 'min_data_in_leaf': 7, 'min_sum_hessian_in_leaf': 7}. Best is trial 20 with value: 0.06777531432169094.\u001b[0m\n"
     ]
    },
    {
     "name": "stdout",
     "output_type": "stream",
     "text": [
      "Training until validation scores don't improve for 100 rounds\n",
      "[5000]\tvalid_0's l2: 0.0160008\n",
      "[10000]\tvalid_0's l2: 0.0150935\n",
      "Did not meet early stopping. Best iteration is:\n",
      "[10000]\tvalid_0's l2: 0.0150935\n"
     ]
    },
    {
     "name": "stderr",
     "output_type": "stream",
     "text": [
      "\u001b[32m[I 2022-01-14 15:57:35,779]\u001b[0m Trial 58 finished with value: 0.07558560878862658 and parameters: {'num_leaves': 25, 'max_bin': 85, 'max_depth': 6, 'bagging_fraction': 0.5826810444263917, 'bagging_freq': 17, 'feature_fraction': 0.5188709130078194, 'min_data_in_leaf': 9, 'min_sum_hessian_in_leaf': 9}. Best is trial 20 with value: 0.06777531432169094.\u001b[0m\n"
     ]
    },
    {
     "name": "stdout",
     "output_type": "stream",
     "text": [
      "Training until validation scores don't improve for 100 rounds\n",
      "[5000]\tvalid_0's l2: 0.0134334\n",
      "[10000]\tvalid_0's l2: 0.0125486\n",
      "Did not meet early stopping. Best iteration is:\n",
      "[10000]\tvalid_0's l2: 0.0125486\n"
     ]
    },
    {
     "name": "stderr",
     "output_type": "stream",
     "text": [
      "\u001b[32m[I 2022-01-14 16:09:54,923]\u001b[0m Trial 59 finished with value: 0.06867341868508159 and parameters: {'num_leaves': 64, 'max_bin': 228, 'max_depth': 10, 'bagging_fraction': 0.8504589171318111, 'bagging_freq': 14, 'feature_fraction': 0.8839827833021136, 'min_data_in_leaf': 16, 'min_sum_hessian_in_leaf': 4}. Best is trial 20 with value: 0.06777531432169094.\u001b[0m\n"
     ]
    },
    {
     "name": "stdout",
     "output_type": "stream",
     "text": [
      "Training until validation scores don't improve for 100 rounds\n",
      "[5000]\tvalid_0's l2: 0.0177637\n",
      "[10000]\tvalid_0's l2: 0.0168369\n",
      "Did not meet early stopping. Best iteration is:\n",
      "[10000]\tvalid_0's l2: 0.0168369\n"
     ]
    },
    {
     "name": "stderr",
     "output_type": "stream",
     "text": [
      "\u001b[32m[I 2022-01-14 16:15:42,254]\u001b[0m Trial 60 finished with value: 0.08064491639215467 and parameters: {'num_leaves': 9, 'max_bin': 110, 'max_depth': 4, 'bagging_fraction': 0.650491824877607, 'bagging_freq': 3, 'feature_fraction': 0.7020589020104411, 'min_data_in_leaf': 7, 'min_sum_hessian_in_leaf': 8}. Best is trial 20 with value: 0.06777531432169094.\u001b[0m\n"
     ]
    },
    {
     "name": "stdout",
     "output_type": "stream",
     "text": [
      "Training until validation scores don't improve for 100 rounds\n",
      "[5000]\tvalid_0's l2: 0.0161129\n",
      "[10000]\tvalid_0's l2: 0.0151561\n",
      "Did not meet early stopping. Best iteration is:\n",
      "[9997]\tvalid_0's l2: 0.0151561\n"
     ]
    },
    {
     "name": "stderr",
     "output_type": "stream",
     "text": [
      "\u001b[32m[I 2022-01-14 16:23:27,967]\u001b[0m Trial 61 finished with value: 0.07541717102826048 and parameters: {'num_leaves': 97, 'max_bin': 162, 'max_depth': 5, 'bagging_fraction': 0.7553382512571021, 'bagging_freq': 18, 'feature_fraction': 0.6033666729178742, 'min_data_in_leaf': 10, 'min_sum_hessian_in_leaf': 2}. Best is trial 20 with value: 0.06777531432169094.\u001b[0m\n"
     ]
    },
    {
     "name": "stdout",
     "output_type": "stream",
     "text": [
      "Training until validation scores don't improve for 100 rounds\n",
      "[5000]\tvalid_0's l2: 0.0172353\n",
      "[10000]\tvalid_0's l2: 0.0162021\n",
      "Did not meet early stopping. Best iteration is:\n",
      "[10000]\tvalid_0's l2: 0.0162021\n"
     ]
    },
    {
     "name": "stderr",
     "output_type": "stream",
     "text": [
      "\u001b[32m[I 2022-01-14 16:29:57,452]\u001b[0m Trial 62 finished with value: 0.07858896583189232 and parameters: {'num_leaves': 47, 'max_bin': 132, 'max_depth': 4, 'bagging_fraction': 0.7035198302951851, 'bagging_freq': 7, 'feature_fraction': 0.5865174319403738, 'min_data_in_leaf': 9, 'min_sum_hessian_in_leaf': 7}. Best is trial 20 with value: 0.06777531432169094.\u001b[0m\n"
     ]
    },
    {
     "name": "stdout",
     "output_type": "stream",
     "text": [
      "Training until validation scores don't improve for 100 rounds\n",
      "[5000]\tvalid_0's l2: 0.0151093\n",
      "[10000]\tvalid_0's l2: 0.0140807\n",
      "Did not meet early stopping. Best iteration is:\n",
      "[10000]\tvalid_0's l2: 0.0140807\n"
     ]
    },
    {
     "name": "stderr",
     "output_type": "stream",
     "text": [
      "\u001b[32m[I 2022-01-14 16:39:10,547]\u001b[0m Trial 63 finished with value: 0.07407961411234193 and parameters: {'num_leaves': 35, 'max_bin': 240, 'max_depth': 9, 'bagging_fraction': 0.42921417758531716, 'bagging_freq': 6, 'feature_fraction': 0.623067756329601, 'min_data_in_leaf': 3, 'min_sum_hessian_in_leaf': 3}. Best is trial 20 with value: 0.06777531432169094.\u001b[0m\n"
     ]
    },
    {
     "name": "stdout",
     "output_type": "stream",
     "text": [
      "Training until validation scores don't improve for 100 rounds\n",
      "[5000]\tvalid_0's l2: 0.0144229\n",
      "[10000]\tvalid_0's l2: 0.0134178\n",
      "Did not meet early stopping. Best iteration is:\n",
      "[10000]\tvalid_0's l2: 0.0134178\n"
     ]
    },
    {
     "name": "stderr",
     "output_type": "stream",
     "text": [
      "\u001b[32m[I 2022-01-14 16:49:08,104]\u001b[0m Trial 64 finished with value: 0.07029237935663567 and parameters: {'num_leaves': 75, 'max_bin': 190, 'max_depth': 7, 'bagging_fraction': 0.8263170416334074, 'bagging_freq': 5, 'feature_fraction': 0.5708490574323661, 'min_data_in_leaf': 12, 'min_sum_hessian_in_leaf': 8}. Best is trial 20 with value: 0.06777531432169094.\u001b[0m\n"
     ]
    },
    {
     "name": "stdout",
     "output_type": "stream",
     "text": [
      "Training until validation scores don't improve for 100 rounds\n",
      "[5000]\tvalid_0's l2: 0.0185766\n",
      "[10000]\tvalid_0's l2: 0.0171886\n",
      "Did not meet early stopping. Best iteration is:\n",
      "[10000]\tvalid_0's l2: 0.0171886\n"
     ]
    },
    {
     "name": "stderr",
     "output_type": "stream",
     "text": [
      "\u001b[32m[I 2022-01-14 16:54:03,022]\u001b[0m Trial 65 finished with value: 0.08140038797949792 and parameters: {'num_leaves': 55, 'max_bin': 108, 'max_depth': 3, 'bagging_fraction': 0.8262020973845281, 'bagging_freq': 1, 'feature_fraction': 0.5863395349104978, 'min_data_in_leaf': 9, 'min_sum_hessian_in_leaf': 9}. Best is trial 20 with value: 0.06777531432169094.\u001b[0m\n"
     ]
    },
    {
     "name": "stdout",
     "output_type": "stream",
     "text": [
      "Training until validation scores don't improve for 100 rounds\n",
      "[5000]\tvalid_0's l2: 0.0186726\n",
      "[10000]\tvalid_0's l2: 0.0173991\n",
      "Did not meet early stopping. Best iteration is:\n",
      "[10000]\tvalid_0's l2: 0.0173991\n"
     ]
    },
    {
     "name": "stderr",
     "output_type": "stream",
     "text": [
      "\u001b[32m[I 2022-01-14 16:58:33,827]\u001b[0m Trial 66 finished with value: 0.08233569672145369 and parameters: {'num_leaves': 10, 'max_bin': 133, 'max_depth': 3, 'bagging_fraction': 0.6055665906049542, 'bagging_freq': 13, 'feature_fraction': 0.5395339741142993, 'min_data_in_leaf': 5, 'min_sum_hessian_in_leaf': 1}. Best is trial 20 with value: 0.06777531432169094.\u001b[0m\n"
     ]
    },
    {
     "name": "stdout",
     "output_type": "stream",
     "text": [
      "Training until validation scores don't improve for 100 rounds\n",
      "[5000]\tvalid_0's l2: 0.0138133\n",
      "[10000]\tvalid_0's l2: 0.0127628\n",
      "Did not meet early stopping. Best iteration is:\n",
      "[10000]\tvalid_0's l2: 0.0127628\n"
     ]
    },
    {
     "name": "stderr",
     "output_type": "stream",
     "text": [
      "\u001b[32m[I 2022-01-14 17:09:00,216]\u001b[0m Trial 67 finished with value: 0.06827599719309498 and parameters: {'num_leaves': 59, 'max_bin': 193, 'max_depth': 8, 'bagging_fraction': 0.9693166124323044, 'bagging_freq': 1, 'feature_fraction': 0.7235983269470181, 'min_data_in_leaf': 11, 'min_sum_hessian_in_leaf': 5}. Best is trial 20 with value: 0.06777531432169094.\u001b[0m\n"
     ]
    },
    {
     "name": "stdout",
     "output_type": "stream",
     "text": [
      "Training until validation scores don't improve for 100 rounds\n",
      "[5000]\tvalid_0's l2: 0.013786\n",
      "[10000]\tvalid_0's l2: 0.0127145\n",
      "Did not meet early stopping. Best iteration is:\n",
      "[10000]\tvalid_0's l2: 0.0127145\n"
     ]
    },
    {
     "name": "stderr",
     "output_type": "stream",
     "text": [
      "\u001b[32m[I 2022-01-14 17:19:45,393]\u001b[0m Trial 68 finished with value: 0.06821455843080115 and parameters: {'num_leaves': 97, 'max_bin': 53, 'max_depth': 8, 'bagging_fraction': 0.8882071898211181, 'bagging_freq': 11, 'feature_fraction': 0.5669824347984046, 'min_data_in_leaf': 13, 'min_sum_hessian_in_leaf': 0}. Best is trial 20 with value: 0.06777531432169094.\u001b[0m\n"
     ]
    },
    {
     "data": {
      "text/plain": [
       "{'num_leaves': 71,\n",
       " 'max_bin': 143,\n",
       " 'max_depth': 8,\n",
       " 'bagging_fraction': 0.9198293955571775,\n",
       " 'bagging_freq': 20,\n",
       " 'feature_fraction': 0.8279016711963055,\n",
       " 'min_data_in_leaf': 2,\n",
       " 'min_sum_hessian_in_leaf': 3}"
      ]
     },
     "execution_count": 16,
     "metadata": {},
     "output_type": "execute_result"
    }
   ],
   "source": [
    "#Optunaの実行処理\n",
    "study = optuna.create_study(sampler=optuna.samplers.RandomSampler(seed=0))\n",
    "study.optimize(objective, timeout=28800)#n_trials=50がdefault、timeout=60と設定すると60秒間試行する\n",
    "study.best_params #学習結果の表示"
   ]
  },
  {
   "cell_type": "code",
   "execution_count": 17,
   "id": "97415fc5-c0ad-42cc-ad67-1767b8dbc1a8",
   "metadata": {},
   "outputs": [
    {
     "data": {
      "text/plain": [
       "{'num_leaves': 71,\n",
       " 'max_bin': 143,\n",
       " 'max_depth': 8,\n",
       " 'bagging_fraction': 0.9198293955571775,\n",
       " 'bagging_freq': 20,\n",
       " 'feature_fraction': 0.8279016711963055,\n",
       " 'min_data_in_leaf': 2,\n",
       " 'min_sum_hessian_in_leaf': 3}"
      ]
     },
     "execution_count": 17,
     "metadata": {},
     "output_type": "execute_result"
    }
   ],
   "source": [
    "#Optunaの結果表示\n",
    "study.best_params"
   ]
  },
  {
   "cell_type": "code",
   "execution_count": 18,
   "id": "d53cc38d-998c-44fa-9dac-895d02af6336",
   "metadata": {},
   "outputs": [
    {
     "name": "stdout",
     "output_type": "stream",
     "text": [
      "Training until validation scores don't improve for 100 rounds\n",
      "Early stopping, best iteration is:\n",
      "[7741]\ttrain's l1: 0.0752203\n",
      "MAE: 0.07522029677456024\n",
      "Training until validation scores don't improve for 100 rounds\n",
      "Early stopping, best iteration is:\n",
      "[8326]\ttrain's l1: 0.0749394\n",
      "MAE: 0.07493938614330155\n",
      "Training until validation scores don't improve for 100 rounds\n",
      "Early stopping, best iteration is:\n",
      "[7214]\ttrain's l1: 0.0753956\n",
      "MAE: 0.07539555339126403\n",
      "Training until validation scores don't improve for 100 rounds\n",
      "Early stopping, best iteration is:\n",
      "[8280]\ttrain's l1: 0.0749087\n",
      "MAE: 0.07490872767943896\n",
      "Training until validation scores don't improve for 100 rounds\n",
      "Did not meet early stopping. Best iteration is:\n",
      "[9941]\ttrain's l1: 0.0749597\n",
      "MAE: 0.07495974777919655\n",
      "CV score: 0.07508474235355227\n"
     ]
    }
   ],
   "source": [
    "#optunaで最適化したパラメータによるlightgbm_交差検証（#2_10000検証/回_7h）\n",
    "#バリデーション用パラメータ変数\n",
    "FOLD = 5\n",
    "NUM_ROUND = 10000\n",
    "VERBOSE_EVAL = -1\n",
    "\n",
    "#LGB用のパラメータ設定\n",
    "params = {\n",
    "    \"objective\": \"regression_l1\",\n",
    "    \"metrics\": \"mae\",\n",
    "    \"random_seed\":1234,\n",
    "    \"learning_rate\":0.01,\n",
    "    \"n_estimators\":10000,\n",
    "    \"num_leaves\":71,\n",
    "    \"bagging_fraction\": 0.9198293955571775,\n",
    "    \"bagging_freq\": 20,\n",
    "    \"feature_fraction\": 0.8279016711963055,\n",
    "    \"min_data_in_leaf\": 2,\n",
    "    \"min_sum_hessian_in_leaf\": 3,\n",
    "    \"verbose\": -1\n",
    "}\n",
    "\n",
    "#各種リスト\n",
    "valid_scores = []\n",
    "evaluation_results = {}\n",
    "models = []\n",
    "\n",
    "#データ分析の技術_kaggleのチュートリアルより\n",
    "kf = KFold(n_splits=FOLD, shuffle=True, random_state = 42)\n",
    "for (tr_idx, va_idx) in kf.split(train_x, train_y):\n",
    "    tr_x = train_x.iloc[tr_idx]\n",
    "    va_x = train_x.iloc[va_idx]\n",
    "    tr_y = train_y.iloc[tr_idx]\n",
    "    va_y = train_y.iloc[va_idx]\n",
    "\n",
    "    #LGB用のモデルの作成\n",
    "    lgb_train = lgb.Dataset(tr_x, tr_y)\n",
    "    lgb_eval = lgb.Dataset(va_x, va_y)\n",
    "    categorical_features = [\"地区名\", \"最寄駅：名称\", \"間取り\", \"用途\", \"今後の利用目的\", \"都市計画\", \"改装\", \"取引の事情等\"]\n",
    "    \n",
    "    #モデルの学習を行う\n",
    "    model = lgb.train(\n",
    "        params, \n",
    "        lgb_train, \n",
    "        valid_sets=lgb_eval,\n",
    "        valid_names=['train', 'valid'],\n",
    "        evals_result=evaluation_results,\n",
    "                  num_boost_round=NUM_ROUND,\n",
    "                  early_stopping_rounds=100,\n",
    "        verbose_eval=VERBOSE_EVAL,\n",
    "                  categorical_feature = categorical_features)\n",
    "   \n",
    "    y_valid_pred = model.predict(va_x)\n",
    "    score = mae(va_y, y_valid_pred)\n",
    "    print(f'MAE: {score}')\n",
    "    valid_scores.append(score)\n",
    "    models.append(model)\n",
    "\n",
    "cv_score = np.mean(valid_scores)\n",
    "print(f'CV score: {cv_score}')"
   ]
  },
  {
   "cell_type": "code",
   "execution_count": null,
   "id": "a6559039-50ba-4ca6-8a14-e6fda2c434eb",
   "metadata": {},
   "outputs": [],
   "source": []
  },
  {
   "cell_type": "code",
   "execution_count": null,
   "id": "e7198dfd-fe37-487d-8c21-402637805377",
   "metadata": {},
   "outputs": [],
   "source": []
  },
  {
   "cell_type": "code",
   "execution_count": null,
   "id": "17bc6c9e-51a3-4df4-a4f5-31a4cac87b44",
   "metadata": {},
   "outputs": [],
   "source": []
  },
  {
   "cell_type": "code",
   "execution_count": null,
   "id": "9e9ecd12-a938-434c-9531-9543a6063b00",
   "metadata": {},
   "outputs": [],
   "source": []
  },
  {
   "cell_type": "code",
   "execution_count": null,
   "id": "5229d7c2-3bdf-44a7-a995-69571b98c6e6",
   "metadata": {},
   "outputs": [],
   "source": []
  },
  {
   "cell_type": "code",
   "execution_count": null,
   "id": "f48e9392-30d3-4ed9-81d7-fc5d0bae281b",
   "metadata": {},
   "outputs": [],
   "source": []
  },
  {
   "cell_type": "code",
   "execution_count": null,
   "id": "f6720472-8e89-4496-bdb9-a868eef10655",
   "metadata": {},
   "outputs": [],
   "source": []
  },
  {
   "cell_type": "code",
   "execution_count": 14,
   "id": "b8e4c822-dc30-4ea2-a1da-8beb80394141",
   "metadata": {
    "tags": []
   },
   "outputs": [
    {
     "name": "stdout",
     "output_type": "stream",
     "text": [
      "Training until validation scores don't improve for 100 rounds\n",
      "Did not meet early stopping. Best iteration is:\n",
      "[994]\ttrain's l1: 0.0765665\n",
      "MAE: 0.07656654620545104\n",
      "Training until validation scores don't improve for 100 rounds\n",
      "Did not meet early stopping. Best iteration is:\n",
      "[991]\ttrain's l1: 0.076255\n",
      "MAE: 0.07625500998847683\n",
      "Training until validation scores don't improve for 100 rounds\n",
      "Did not meet early stopping. Best iteration is:\n",
      "[998]\ttrain's l1: 0.0768666\n",
      "MAE: 0.076866597473468\n",
      "Training until validation scores don't improve for 100 rounds\n",
      "Did not meet early stopping. Best iteration is:\n",
      "[996]\ttrain's l1: 0.0764167\n",
      "MAE: 0.07641673407246613\n",
      "Training until validation scores don't improve for 100 rounds\n",
      "Did not meet early stopping. Best iteration is:\n",
      "[1000]\ttrain's l1: 0.0766649\n",
      "MAE: 0.07666489778413998\n",
      "CV score: 0.0765539571048004\n"
     ]
    }
   ],
   "source": [
    "#クロスバリデーション_STANDARD\n",
    "#_lgb_kaggleで勝つデータ分析の技術_kaggleのチュートリアル\n",
    "\n",
    "#trainデータの用意\n",
    "col = \"取引価格（総額）_log\"\n",
    "train_y = df[col]\n",
    "train_x = df.drop(col, axis=1)\n",
    "\n",
    "#バリデーション用パラメータ変数\n",
    "FOLD = 5\n",
    "NUM_ROUND = 1000\n",
    "VERBOSE_EVAL = -1\n",
    "\n",
    "#LGB用のパラメータ設定\n",
    "params = {\n",
    "    \"objective\": \"regression\",\n",
    "    \"metrics\": \"mae\",\n",
    "    \"verbose\": -1\n",
    "}\n",
    "\n",
    "#各種リスト\n",
    "valid_scores = []\n",
    "evaluation_results = {}\n",
    "models = []\n",
    "\n",
    "#データ分析の技術_kaggleのチュートリアルより\n",
    "kf = KFold(n_splits=FOLD, shuffle=True, random_state = 42)\n",
    "for (tr_idx, va_idx) in kf.split(train_x, train_y):\n",
    "    tr_x = train_x.iloc[tr_idx]\n",
    "    va_x = train_x.iloc[va_idx]\n",
    "    tr_y = train_y.iloc[tr_idx]\n",
    "    va_y = train_y.iloc[va_idx]\n",
    "\n",
    "    #LGB用のモデルの作成\n",
    "    lgb_train = lgb.Dataset(tr_x, tr_y)\n",
    "    lgb_eval = lgb.Dataset(va_x, va_y)\n",
    "    categorical_features = [\"地区名\", \"最寄駅：名称\", \"間取り\", \"用途\", \"今後の利用目的\", \"都市計画\", \"改装\", \"取引の事情等\"]\n",
    "    \n",
    "    #モデルの学習を行う\n",
    "    model = lgb.train(\n",
    "        params, \n",
    "        lgb_train, \n",
    "        valid_sets=lgb_eval,\n",
    "        valid_names=['train', 'valid'],\n",
    "        evals_result=evaluation_results,\n",
    "                  num_boost_round=NUM_ROUND,\n",
    "                  early_stopping_rounds=100,\n",
    "        verbose_eval=VERBOSE_EVAL,\n",
    "                  categorical_feature = categorical_features)\n",
    "   \n",
    "    y_valid_pred = model.predict(va_x)\n",
    "    score = mae(va_y, y_valid_pred)\n",
    "    print(f'MAE: {score}')\n",
    "    valid_scores.append(score)\n",
    "    models.append(model)\n",
    "\n",
    "cv_score = np.mean(valid_scores)\n",
    "print(f'CV score: {cv_score}')\n",
    "\n"
   ]
  },
  {
   "cell_type": "code",
   "execution_count": null,
   "id": "0f60403b-648c-4dd9-b279-f0e5e6897707",
   "metadata": {},
   "outputs": [],
   "source": []
  },
  {
   "cell_type": "code",
   "execution_count": null,
   "id": "823e8dbf-7471-4ca2-9124-d56888495c96",
   "metadata": {},
   "outputs": [],
   "source": []
  },
  {
   "cell_type": "code",
   "execution_count": null,
   "id": "96ae2992-e21b-4c7a-9d71-61a97493a241",
   "metadata": {},
   "outputs": [],
   "source": []
  },
  {
   "cell_type": "code",
   "execution_count": null,
   "id": "146c9a09-08df-4720-b2ee-f8e3fc49b019",
   "metadata": {},
   "outputs": [],
   "source": []
  },
  {
   "cell_type": "code",
   "execution_count": 7,
   "id": "d8168532-5243-4a06-a982-33ec6b9ebbea",
   "metadata": {
    "tags": []
   },
   "outputs": [
    {
     "ename": "NameError",
     "evalue": "name 'evaluation_results' is not defined",
     "output_type": "error",
     "traceback": [
      "\u001b[1;31m---------------------------------------------------------------------------\u001b[0m",
      "\u001b[1;31mNameError\u001b[0m                                 Traceback (most recent call last)",
      "\u001b[1;32m<ipython-input-7-1d93d1003949>\u001b[0m in \u001b[0;36m<module>\u001b[1;34m\u001b[0m\n\u001b[1;32m----> 1\u001b[1;33m \u001b[0mevaluation_results\u001b[0m\u001b[1;33m\u001b[0m\u001b[1;33m\u001b[0m\u001b[0m\n\u001b[0m",
      "\u001b[1;31mNameError\u001b[0m: name 'evaluation_results' is not defined"
     ]
    }
   ],
   "source": [
    "evaluation_results"
   ]
  },
  {
   "cell_type": "code",
   "execution_count": 6,
   "id": "6840b05f-e741-4b80-8b67-e9616e73fb23",
   "metadata": {},
   "outputs": [
    {
     "ename": "NameError",
     "evalue": "name 'evaluation_results' is not defined",
     "output_type": "error",
     "traceback": [
      "\u001b[1;31m---------------------------------------------------------------------------\u001b[0m",
      "\u001b[1;31mNameError\u001b[0m                                 Traceback (most recent call last)",
      "\u001b[1;32m<ipython-input-6-5e518c43ef51>\u001b[0m in \u001b[0;36m<module>\u001b[1;34m\u001b[0m\n\u001b[0;32m      1\u001b[0m \u001b[1;31m# 学習過程の可視化\u001b[0m\u001b[1;33m\u001b[0m\u001b[1;33m\u001b[0m\u001b[1;33m\u001b[0m\u001b[0m\n\u001b[1;32m----> 2\u001b[1;33m \u001b[0mplt\u001b[0m\u001b[1;33m.\u001b[0m\u001b[0mplot\u001b[0m\u001b[1;33m(\u001b[0m\u001b[0mevaluation_results\u001b[0m\u001b[1;33m[\u001b[0m\u001b[1;34m'train'\u001b[0m\u001b[1;33m]\u001b[0m\u001b[1;33m[\u001b[0m\u001b[1;34m'l1'\u001b[0m\u001b[1;33m]\u001b[0m\u001b[1;33m,\u001b[0m \u001b[0mlabel\u001b[0m\u001b[1;33m=\u001b[0m\u001b[1;34m'train'\u001b[0m\u001b[1;33m)\u001b[0m\u001b[1;33m\u001b[0m\u001b[1;33m\u001b[0m\u001b[0m\n\u001b[0m\u001b[0;32m      3\u001b[0m \u001b[0mplt\u001b[0m\u001b[1;33m.\u001b[0m\u001b[0mylabel\u001b[0m\u001b[1;33m(\u001b[0m\u001b[1;34m'mae'\u001b[0m\u001b[1;33m)\u001b[0m\u001b[1;33m\u001b[0m\u001b[1;33m\u001b[0m\u001b[0m\n\u001b[0;32m      4\u001b[0m \u001b[0mplt\u001b[0m\u001b[1;33m.\u001b[0m\u001b[0mxlabel\u001b[0m\u001b[1;33m(\u001b[0m\u001b[1;34m'Boosting round'\u001b[0m\u001b[1;33m)\u001b[0m\u001b[1;33m\u001b[0m\u001b[1;33m\u001b[0m\u001b[0m\n\u001b[0;32m      5\u001b[0m \u001b[0mplt\u001b[0m\u001b[1;33m.\u001b[0m\u001b[0mtitle\u001b[0m\u001b[1;33m(\u001b[0m\u001b[1;34m'Training performance'\u001b[0m\u001b[1;33m)\u001b[0m\u001b[1;33m\u001b[0m\u001b[1;33m\u001b[0m\u001b[0m\n",
      "\u001b[1;31mNameError\u001b[0m: name 'evaluation_results' is not defined"
     ]
    }
   ],
   "source": [
    "# 学習過程の可視化\n",
    "plt.plot(evaluation_results['train']['l1'], label='train')\n",
    "plt.ylabel('mae')\n",
    "plt.xlabel('Boosting round')\n",
    "plt.title('Training performance')\n",
    "plt.legend()\n",
    "#plt.savefig('cv_logloss.jpg')\n",
    "plt.show()"
   ]
  },
  {
   "cell_type": "code",
   "execution_count": null,
   "id": "2797d930-9c79-4e51-ae8d-24cab5fcdefe",
   "metadata": {},
   "outputs": [],
   "source": []
  },
  {
   "cell_type": "code",
   "execution_count": 8,
   "id": "b0bddddd-2302-4104-8570-8293f6aeede5",
   "metadata": {
    "tags": []
   },
   "outputs": [
    {
     "ename": "NameError",
     "evalue": "name 'test_data1' is not defined",
     "output_type": "error",
     "traceback": [
      "\u001b[1;31m---------------------------------------------------------------------------\u001b[0m",
      "\u001b[1;31mNameError\u001b[0m                                 Traceback (most recent call last)",
      "\u001b[1;32m<ipython-input-8-edaff5e9426f>\u001b[0m in \u001b[0;36m<module>\u001b[1;34m\u001b[0m\n\u001b[0;32m     17\u001b[0m     \u001b[0mplt\u001b[0m\u001b[1;33m.\u001b[0m\u001b[0mtext\u001b[0m\u001b[1;33m(\u001b[0m\u001b[1;36m0.1\u001b[0m\u001b[1;33m,\u001b[0m \u001b[1;36m0.9\u001b[0m\u001b[1;33m,\u001b[0m \u001b[1;34m'MAE = {}'\u001b[0m\u001b[1;33m.\u001b[0m\u001b[0mformat\u001b[0m\u001b[1;33m(\u001b[0m\u001b[0mstr\u001b[0m\u001b[1;33m(\u001b[0m\u001b[0mround\u001b[0m\u001b[1;33m(\u001b[0m\u001b[0mscore_mae\u001b[0m\u001b[1;33m,\u001b[0m\u001b[1;36m3\u001b[0m\u001b[1;33m)\u001b[0m\u001b[1;33m)\u001b[0m\u001b[1;33m)\u001b[0m\u001b[1;33m,\u001b[0m\u001b[0mtransform\u001b[0m \u001b[1;33m=\u001b[0m \u001b[0max\u001b[0m\u001b[1;33m.\u001b[0m\u001b[0mtransAxes\u001b[0m\u001b[1;33m,\u001b[0m \u001b[0mfontsize\u001b[0m \u001b[1;33m=\u001b[0m \u001b[1;36m15\u001b[0m\u001b[1;33m)\u001b[0m\u001b[1;33m\u001b[0m\u001b[1;33m\u001b[0m\u001b[0m\n\u001b[0;32m     18\u001b[0m \u001b[1;33m\u001b[0m\u001b[0m\n\u001b[1;32m---> 19\u001b[1;33m \u001b[0mPrediction_accuracy\u001b[0m\u001b[1;33m(\u001b[0m\u001b[0mval_y\u001b[0m\u001b[1;33m,\u001b[0m \u001b[0mva_pred\u001b[0m\u001b[1;33m)\u001b[0m\u001b[1;33m\u001b[0m\u001b[1;33m\u001b[0m\u001b[0m\n\u001b[0m",
      "\u001b[1;32m<ipython-input-8-edaff5e9426f>\u001b[0m in \u001b[0;36mPrediction_accuracy\u001b[1;34m(val_y, va_pred)\u001b[0m\n\u001b[0;32m      4\u001b[0m     \u001b[0mpredicted_df\u001b[0m\u001b[1;33m[\u001b[0m\u001b[1;34m\"true\"\u001b[0m\u001b[1;33m]\u001b[0m \u001b[1;33m=\u001b[0m \u001b[0mval_y\u001b[0m\u001b[1;33m.\u001b[0m\u001b[0mvalues\u001b[0m   \u001b[1;31m#val_yがSeries型のため、np配列ndarrayに変換処理をしてから入れる\u001b[0m\u001b[1;33m\u001b[0m\u001b[1;33m\u001b[0m\u001b[0m\n\u001b[0;32m      5\u001b[0m     \u001b[0mpredicted_df\u001b[0m\u001b[1;33m[\u001b[0m\u001b[1;34m\"pred\"\u001b[0m\u001b[1;33m]\u001b[0m \u001b[1;33m=\u001b[0m \u001b[0mva_pred\u001b[0m\u001b[1;33m\u001b[0m\u001b[1;33m\u001b[0m\u001b[0m\n\u001b[1;32m----> 6\u001b[1;33m     \u001b[0mscore_mae\u001b[0m \u001b[1;33m=\u001b[0m \u001b[0mmae\u001b[0m\u001b[1;33m(\u001b[0m\u001b[0mtest_data1\u001b[0m\u001b[1;33m[\u001b[0m\u001b[1;34m\"pred\"\u001b[0m\u001b[1;33m]\u001b[0m\u001b[1;33m,\u001b[0m \u001b[0mtest_data1\u001b[0m\u001b[1;33m[\u001b[0m\u001b[1;34m\"true\"\u001b[0m\u001b[1;33m]\u001b[0m\u001b[1;33m)\u001b[0m\u001b[1;33m\u001b[0m\u001b[1;33m\u001b[0m\u001b[0m\n\u001b[0m\u001b[0;32m      7\u001b[0m \u001b[1;33m\u001b[0m\u001b[0m\n\u001b[0;32m      8\u001b[0m     \u001b[0mplt\u001b[0m\u001b[1;33m.\u001b[0m\u001b[0mfigure\u001b[0m\u001b[1;33m(\u001b[0m\u001b[0mfigsize\u001b[0m \u001b[1;33m=\u001b[0m \u001b[1;33m(\u001b[0m\u001b[1;36m15\u001b[0m\u001b[1;33m,\u001b[0m\u001b[1;36m7\u001b[0m\u001b[1;33m)\u001b[0m\u001b[1;33m)\u001b[0m\u001b[1;33m\u001b[0m\u001b[1;33m\u001b[0m\u001b[0m\n",
      "\u001b[1;31mNameError\u001b[0m: name 'test_data1' is not defined"
     ]
    }
   ],
   "source": [
    "#予測精度の確認（視覚化）\n",
    "def Prediction_accuracy(val_y, va_pred):\n",
    "    predicted_df = pd.DataFrame(index=[], columns=[\"pred\", \"true\"])\n",
    "    predicted_df[\"true\"] = val_y.values   #val_yがSeries型のため、np配列ndarrayに変換処理をしてから入れる\n",
    "    predicted_df[\"pred\"] = va_pred\n",
    "    score_mae = mae(test_data1[\"pred\"], test_data1[\"true\"])\n",
    "    \n",
    "    plt.figure(figsize = (15,7))\n",
    "    ax = plt.subplot(1, 1, 1)\n",
    "    ax.scatter('true', 'pred', data = predicted_df)\n",
    "    ax.set_xlabel('True Price', fontsize = 20)\n",
    "    ax.set_ylabel('Predicted Price', fontsize = 20)\n",
    "    plt.tick_params(labelsize = 15)\n",
    "    x = np.linspace(2.5, 12)\n",
    "    y = x\n",
    "    ax.plot(x, y, 'r-')\n",
    "    plt.text(0.1, 0.9, 'MAE = {}'.format(str(round(score_mae,3))),transform = ax.transAxes, fontsize = 15)\n",
    "    \n",
    "Prediction_accuracy(val_y, va_pred)"
   ]
  },
  {
   "cell_type": "code",
   "execution_count": null,
   "id": "2717295d-3fbd-48ac-99f0-95ae7d1142b6",
   "metadata": {
    "tags": []
   },
   "outputs": [],
   "source": []
  },
  {
   "cell_type": "code",
   "execution_count": 19,
   "id": "7e55e846-4a46-4969-ada6-00cf55b5c094",
   "metadata": {},
   "outputs": [
    {
     "name": "stdout",
     "output_type": "stream",
     "text": [
      "test\n"
     ]
    }
   ],
   "source": [
    "#提出用データ作業（cross_varidation用）\n",
    "df_test = pd.read_csv(\"../../data/test.csv\", index_col=0)\n",
    "df_test = df_pre.data_pre(df_test)\n",
    "df_test = df_test.drop(columns=\"取引価格（総額）_log\", axis=1)\n",
    "\n",
    "#結果格納用のデータフレーム\n",
    "df_pred_result = pd.DataFrame(index=[], columns=[1, 2, 3, 4, 5])\n",
    "a=1\n",
    "for model in models:\n",
    "    predict = model.predict(df_test)\n",
    "    df_pred_result[a] = predict\n",
    "    a = a+1\n",
    "df_test[\"取引価格（総額）_log\"] = df_pred_result.mean(axis='columns').to_numpy()\n",
    "df_test[[\"取引価格（総額）_log\"]].to_csv(\"../../data/submit_test.csv\")"
   ]
  },
  {
   "cell_type": "code",
   "execution_count": 6,
   "id": "671311a4-ee96-4c96-8c3a-c4fb6540ffaf",
   "metadata": {},
   "outputs": [
    {
     "name": "stdout",
     "output_type": "stream",
     "text": [
      "test\n"
     ]
    }
   ],
   "source": [
    "#提出用データ作業（単体モデル用）\n",
    "df_test = pd.read_csv(\"../data/test.csv\", index_col=0)\n",
    "df_test = df_pre.data_pre(df_test)\n",
    "df_test = df_test.drop(columns=\"取引価格（総額）_log\", axis=1)\n",
    "\n",
    "predict = model.predict(df_test)\n",
    "df_test[\"取引価格（総額）_log\"] = predict\n",
    "df_test[[\"取引価格（総額）_log\"]].to_csv(\"../../data/submit_test.csv\")\n",
    "\n"
   ]
  },
  {
   "cell_type": "code",
   "execution_count": 6,
   "id": "f8f6820e-32a2-45aa-b3a6-189935326c92",
   "metadata": {
    "collapsed": true,
    "jupyter": {
     "outputs_hidden": true
    },
    "tags": []
   },
   "outputs": [
    {
     "data": {
      "text/html": [
       "<div>\n",
       "<style scoped>\n",
       "    .dataframe tbody tr th:only-of-type {\n",
       "        vertical-align: middle;\n",
       "    }\n",
       "\n",
       "    .dataframe tbody tr th {\n",
       "        vertical-align: top;\n",
       "    }\n",
       "\n",
       "    .dataframe thead th {\n",
       "        text-align: right;\n",
       "    }\n",
       "</style>\n",
       "<table border=\"1\" class=\"dataframe\">\n",
       "  <thead>\n",
       "    <tr style=\"text-align: right;\">\n",
       "      <th></th>\n",
       "      <th>importance</th>\n",
       "    </tr>\n",
       "  </thead>\n",
       "  <tbody>\n",
       "    <tr>\n",
       "      <th>地区名</th>\n",
       "      <td>8621</td>\n",
       "    </tr>\n",
       "    <tr>\n",
       "      <th>最寄駅：名称</th>\n",
       "      <td>6414</td>\n",
       "    </tr>\n",
       "    <tr>\n",
       "      <th>建築年_year</th>\n",
       "      <td>3339</td>\n",
       "    </tr>\n",
       "    <tr>\n",
       "      <th>取引時点_num</th>\n",
       "      <td>3196</td>\n",
       "    </tr>\n",
       "    <tr>\n",
       "      <th>面積（㎡）_num</th>\n",
       "      <td>2025</td>\n",
       "    </tr>\n",
       "    <tr>\n",
       "      <th>最寄駅：距離（分）_min</th>\n",
       "      <td>1757</td>\n",
       "    </tr>\n",
       "    <tr>\n",
       "      <th>間取り</th>\n",
       "      <td>918</td>\n",
       "    </tr>\n",
       "    <tr>\n",
       "      <th>市区町村コード</th>\n",
       "      <td>827</td>\n",
       "    </tr>\n",
       "    <tr>\n",
       "      <th>都道府県名_num</th>\n",
       "      <td>653</td>\n",
       "    </tr>\n",
       "    <tr>\n",
       "      <th>改装</th>\n",
       "      <td>489</td>\n",
       "    </tr>\n",
       "    <tr>\n",
       "      <th>容積率（％）</th>\n",
       "      <td>432</td>\n",
       "    </tr>\n",
       "    <tr>\n",
       "      <th>都市計画</th>\n",
       "      <td>389</td>\n",
       "    </tr>\n",
       "    <tr>\n",
       "      <th>建物の構造_num</th>\n",
       "      <td>336</td>\n",
       "    </tr>\n",
       "    <tr>\n",
       "      <th>建ぺい率（％）</th>\n",
       "      <td>203</td>\n",
       "    </tr>\n",
       "    <tr>\n",
       "      <th>取引の事情等</th>\n",
       "      <td>158</td>\n",
       "    </tr>\n",
       "    <tr>\n",
       "      <th>用途</th>\n",
       "      <td>129</td>\n",
       "    </tr>\n",
       "    <tr>\n",
       "      <th>今後の利用目的</th>\n",
       "      <td>114</td>\n",
       "    </tr>\n",
       "  </tbody>\n",
       "</table>\n",
       "</div>"
      ],
      "text/plain": [
       "               importance\n",
       "地区名                  8621\n",
       "最寄駅：名称               6414\n",
       "建築年_year             3339\n",
       "取引時点_num             3196\n",
       "面積（㎡）_num            2025\n",
       "最寄駅：距離（分）_min        1757\n",
       "間取り                   918\n",
       "市区町村コード               827\n",
       "都道府県名_num             653\n",
       "改装                    489\n",
       "容積率（％）                432\n",
       "都市計画                  389\n",
       "建物の構造_num             336\n",
       "建ぺい率（％）               203\n",
       "取引の事情等                158\n",
       "用途                    129\n",
       "今後の利用目的               114"
      ]
     },
     "execution_count": 6,
     "metadata": {},
     "output_type": "execute_result"
    }
   ],
   "source": [
    "#要素の重要度を確認\n",
    "pd.DataFrame(model.feature_importance(), index=val_x.columns, columns=[\"importance\"]).sort_values(\"importance\", ascending=False)"
   ]
  },
  {
   "cell_type": "code",
   "execution_count": 8,
   "id": "c7e14af0-037a-4255-a024-c8fbeae142dd",
   "metadata": {
    "collapsed": true,
    "jupyter": {
     "outputs_hidden": true
    },
    "tags": []
   },
   "outputs": [
    {
     "data": {
      "text/plain": [
       "<AxesSubplot:title={'center':'Feature importance'}, xlabel='Feature importance', ylabel='Features'>"
      ]
     },
     "execution_count": 8,
     "metadata": {},
     "output_type": "execute_result"
    },
    {
     "data": {
      "image/png": "[encoded data removed]",
      "text/plain": [
       "<Figure size 576x1152 with 1 Axes>"
      ]
     },
     "metadata": {
      "needs_background": "light"
     },
     "output_type": "display_data"
    }
   ],
   "source": [
    "#要素の重要度を可視化\n",
    "lgb.plot_importance(model, height = 0.5, figsize = (8,16))"
   ]
  },
  {
   "cell_type": "code",
   "execution_count": 9,
   "id": "55020878-ac69-4eaf-8d26-47573a37c206",
   "metadata": {
    "collapsed": true,
    "jupyter": {
     "outputs_hidden": true
    },
    "tags": []
   },
   "outputs": [
    {
     "data": {
      "image/svg+xml": [
       "<?xml version=\"1.0\" encoding=\"UTF-8\" standalone=\"no\"?>\r\n",
       "<!DOCTYPE svg PUBLIC \"-//W3C//DTD SVG 1.1//EN\"\r\n",
       " \"http://www.w3.org/Graphics/SVG/1.1/DTD/svg11.dtd\">\r\n",
       "<!-- Generated by graphviz version 2.38.0 (20140413.2041)\r\n",
       " -->\r\n",
       "<!-- Title: %3 Pages: 1 -->\r\n",
       "<svg width=\"6559pt\" height=\"604pt\"\r\n",
       " viewBox=\"0.00 0.00 6559.19 604.00\" xmlns=\"http://www.w3.org/2000/svg\" xmlns:xlink=\"http://www.w3.org/1999/xlink\">\r\n",
       "<g id=\"graph0\" class=\"graph\" transform=\"scale(1 1) rotate(0) translate(4 600)\">\r\n",
       "<title>%3</title>\r\n",
       "<polygon fill=\"white\" stroke=\"none\" points=\"-4,4 -4,-600 6555.19,-600 6555.19,4 -4,4\"/>\r\n",
       "<!-- split0 -->\r\n",
       "<g id=\"node1\" class=\"node\"><title>split0</title>\r\n",
       "<polygon fill=\"none\" stroke=\"black\" points=\"148,-432 0,-432 0,-396 148,-396 148,-432\"/>\r\n",
       "<text text-anchor=\"start\" x=\"8\" y=\"-411.3\" font-family=\"Times New Roman,serif\" font-weight=\"bold\" font-size=\"14.00\">建築年_year</text>\r\n",
       "<text text-anchor=\"start\" x=\"86\" y=\"-411.3\" font-family=\"Times New Roman,serif\" font-size=\"14.00\"> ≤</text>\r\n",
       "<text text-anchor=\"start\" x=\"98\" y=\"-411.3\" font-family=\"Times New Roman,serif\" font-weight=\"bold\" font-size=\"14.00\">26.500</text>\r\n",
       "</g>\r\n",
       "<!-- split2 -->\r\n",
       "<g id=\"node2\" class=\"node\"><title>split2</title>\r\n",
       "<polygon fill=\"none\" stroke=\"black\" points=\"365,-494 189,-494 189,-458 365,-458 365,-494\"/>\r\n",
       "<text text-anchor=\"start\" x=\"197\" y=\"-473.3\" font-family=\"Times New Roman,serif\" font-weight=\"bold\" font-size=\"14.00\">面積（㎡）_num</text>\r\n",
       "<text text-anchor=\"start\" x=\"303\" y=\"-473.3\" font-family=\"Times New Roman,serif\" font-size=\"14.00\"> ≤</text>\r\n",
       "<text text-anchor=\"start\" x=\"315\" y=\"-473.3\" font-family=\"Times New Roman,serif\" font-weight=\"bold\" font-size=\"14.00\">27.500</text>\r\n",
       "</g>\r\n",
       "<!-- split0&#45;&gt;split2 -->\r\n",
       "<g id=\"edge25\" class=\"edge\"><title>split0&#45;&gt;split2</title>\r\n",
       "<path fill=\"none\" stroke=\"black\" d=\"M133.408,-432.016C156.635,-439.181 183.523,-447.475 207.649,-454.917\"/>\r\n",
       "<polygon fill=\"black\" stroke=\"black\" points=\"206.859,-458.336 217.447,-457.939 208.923,-451.647 206.859,-458.336\"/>\r\n",
       "<text text-anchor=\"middle\" x=\"168.5\" y=\"-448.8\" font-family=\"Times New Roman,serif\" font-size=\"14.00\">yes</text>\r\n",
       "</g>\r\n",
       "<!-- split1 -->\r\n",
       "<g id=\"node27\" class=\"node\"><title>split1</title>\r\n",
       "<polygon fill=\"none\" stroke=\"black\" points=\"365,-352 189,-352 189,-316 365,-316 365,-352\"/>\r\n",
       "<text text-anchor=\"start\" x=\"197\" y=\"-331.3\" font-family=\"Times New Roman,serif\" font-weight=\"bold\" font-size=\"14.00\">面積（㎡）_num</text>\r\n",
       "<text text-anchor=\"start\" x=\"303\" y=\"-331.3\" font-family=\"Times New Roman,serif\" font-size=\"14.00\"> ≤</text>\r\n",
       "<text text-anchor=\"start\" x=\"315\" y=\"-331.3\" font-family=\"Times New Roman,serif\" font-weight=\"bold\" font-size=\"14.00\">32.500</text>\r\n",
       "</g>\r\n",
       "<!-- split0&#45;&gt;split1 -->\r\n",
       "<g id=\"edge60\" class=\"edge\"><title>split0&#45;&gt;split1</title>\r\n",
       "<path fill=\"none\" stroke=\"black\" d=\"M120.359,-395.947C150.16,-384.086 189.329,-368.496 220.917,-355.923\"/>\r\n",
       "<polygon fill=\"black\" stroke=\"black\" points=\"222.462,-359.076 230.459,-352.126 219.873,-352.572 222.462,-359.076\"/>\r\n",
       "<text text-anchor=\"middle\" x=\"168.5\" y=\"-382.8\" font-family=\"Times New Roman,serif\" font-size=\"14.00\">no</text>\r\n",
       "</g>\r\n",
       "<!-- split17 -->\r\n",
       "<g id=\"node3\" class=\"node\"><title>split17</title>\r\n",
       "<polygon fill=\"none\" stroke=\"black\" points=\"598,-556 406,-556 406,-520 598,-520 598,-556\"/>\r\n",
       "<text text-anchor=\"start\" x=\"414\" y=\"-535.3\" font-family=\"Times New Roman,serif\" font-weight=\"bold\" font-size=\"14.00\">市区町村コード</text>\r\n",
       "<text text-anchor=\"start\" x=\"514\" y=\"-535.3\" font-family=\"Times New Roman,serif\" font-size=\"14.00\"> ≤</text>\r\n",
       "<text text-anchor=\"start\" x=\"526\" y=\"-535.3\" font-family=\"Times New Roman,serif\" font-weight=\"bold\" font-size=\"14.00\">14134.500</text>\r\n",
       "</g>\r\n",
       "<!-- split2&#45;&gt;split17 -->\r\n",
       "<g id=\"edge3\" class=\"edge\"><title>split2&#45;&gt;split17</title>\r\n",
       "<path fill=\"none\" stroke=\"black\" d=\"M342.8,-494.016C368.913,-501.276 399.198,-509.696 426.237,-517.214\"/>\r\n",
       "<polygon fill=\"black\" stroke=\"black\" points=\"425.466,-520.632 436.038,-519.939 427.341,-513.888 425.466,-520.632\"/>\r\n",
       "<text text-anchor=\"middle\" x=\"385.5\" y=\"-510.8\" font-family=\"Times New Roman,serif\" font-size=\"14.00\">yes</text>\r\n",
       "</g>\r\n",
       "<!-- split3 -->\r\n",
       "<g id=\"node6\" class=\"node\"><title>split3</title>\r\n",
       "<polygon fill=\"none\" stroke=\"black\" points=\"576,-494 428,-494 428,-458 576,-458 576,-494\"/>\r\n",
       "<text text-anchor=\"start\" x=\"436\" y=\"-473.3\" font-family=\"Times New Roman,serif\" font-weight=\"bold\" font-size=\"14.00\">建築年_year</text>\r\n",
       "<text text-anchor=\"start\" x=\"514\" y=\"-473.3\" font-family=\"Times New Roman,serif\" font-size=\"14.00\"> ≤</text>\r\n",
       "<text text-anchor=\"start\" x=\"526\" y=\"-473.3\" font-family=\"Times New Roman,serif\" font-weight=\"bold\" font-size=\"14.00\">22.500</text>\r\n",
       "</g>\r\n",
       "<!-- split2&#45;&gt;split3 -->\r\n",
       "<g id=\"edge24\" class=\"edge\"><title>split2&#45;&gt;split3</title>\r\n",
       "<path fill=\"none\" stroke=\"black\" d=\"M365.176,-476C382.536,-476 400.722,-476 417.94,-476\"/>\r\n",
       "<polygon fill=\"black\" stroke=\"black\" points=\"417.951,-479.5 427.951,-476 417.951,-472.5 417.951,-479.5\"/>\r\n",
       "<text text-anchor=\"middle\" x=\"385.5\" y=\"-479.8\" font-family=\"Times New Roman,serif\" font-size=\"14.00\">no</text>\r\n",
       "</g>\r\n",
       "<!-- leaf0 -->\r\n",
       "<g id=\"node4\" class=\"node\"><title>leaf0</title>\r\n",
       "<ellipse fill=\"none\" stroke=\"black\" cx=\"1205.5\" cy=\"-578\" rx=\"56.59\" ry=\"18\"/>\r\n",
       "<text text-anchor=\"start\" x=\"1170\" y=\"-575.3\" font-family=\"Times New Roman,serif\" font-size=\"14.00\">leaf 0: </text>\r\n",
       "<text text-anchor=\"start\" x=\"1207\" y=\"-575.3\" font-family=\"Times New Roman,serif\" font-weight=\"bold\" font-size=\"14.00\">0.007</text>\r\n",
       "</g>\r\n",
       "<!-- split17&#45;&gt;leaf0 -->\r\n",
       "<g id=\"edge1\" class=\"edge\"><title>split17&#45;&gt;leaf0</title>\r\n",
       "<path fill=\"none\" stroke=\"black\" d=\"M598.011,-552.732C601.719,-553.183 605.392,-553.608 609,-554 622.285,-555.443 625.656,-555.296 639,-556 819.885,-565.546 1033.52,-572.753 1138.93,-576.038\"/>\r\n",
       "<polygon fill=\"black\" stroke=\"black\" points=\"1138.99,-579.542 1149.09,-576.354 1139.2,-572.545 1138.99,-579.542\"/>\r\n",
       "<text text-anchor=\"middle\" x=\"618.5\" y=\"-558.8\" font-family=\"Times New Roman,serif\" font-size=\"14.00\">yes</text>\r\n",
       "</g>\r\n",
       "<!-- leaf18 -->\r\n",
       "<g id=\"node5\" class=\"node\"><title>leaf18</title>\r\n",
       "<ellipse fill=\"none\" stroke=\"black\" cx=\"1205.5\" cy=\"-538\" rx=\"64.189\" ry=\"18\"/>\r\n",
       "<text text-anchor=\"start\" x=\"1164\" y=\"-535.3\" font-family=\"Times New Roman,serif\" font-size=\"14.00\">leaf 18: </text>\r\n",
       "<text text-anchor=\"start\" x=\"1208\" y=\"-535.3\" font-family=\"Times New Roman,serif\" font-weight=\"bold\" font-size=\"14.00\">&#45;0.012</text>\r\n",
       "</g>\r\n",
       "<!-- split17&#45;&gt;leaf18 -->\r\n",
       "<g id=\"edge2\" class=\"edge\"><title>split17&#45;&gt;leaf18</title>\r\n",
       "<path fill=\"none\" stroke=\"black\" d=\"M598.337,-538C740.038,-538 1003.21,-538 1131.03,-538\"/>\r\n",
       "<polygon fill=\"black\" stroke=\"black\" points=\"1131.11,-541.5 1141.11,-538 1131.11,-534.5 1131.11,-541.5\"/>\r\n",
       "<text text-anchor=\"middle\" x=\"618.5\" y=\"-541.8\" font-family=\"Times New Roman,serif\" font-size=\"14.00\">no</text>\r\n",
       "</g>\r\n",
       "<!-- split7 -->\r\n",
       "<g id=\"node7\" class=\"node\"><title>split7</title>\r\n",
       "<polygon fill=\"none\" stroke=\"black\" points=\"1772,-516 639,-516 639,-480 1772,-480 1772,-516\"/>\r\n",
       "<text text-anchor=\"start\" x=\"647\" y=\"-495.3\" font-family=\"Times New Roman,serif\" font-weight=\"bold\" font-size=\"14.00\">最寄駅：名称</text>\r\n",
       "<text text-anchor=\"start\" x=\"733\" y=\"-495.3\" font-family=\"Times New Roman,serif\" font-size=\"14.00\"> =</text>\r\n",
       "<text text-anchor=\"start\" x=\"746\" y=\"-495.3\" font-family=\"Times New Roman,serif\" font-weight=\"bold\" font-size=\"14.00\">60||310||334||382||491||494||654||655||740||837||1040||1132||1192||1598||1668||2426||2431||2527||2575||2602||2720||2761||2762||2875||3205||3402||3411||3642||3701||3759||3829||3830</text>\r\n",
       "</g>\r\n",
       "<!-- split3&#45;&gt;split7 -->\r\n",
       "<g id=\"edge16\" class=\"edge\"><title>split3&#45;&gt;split7</title>\r\n",
       "<path fill=\"none\" stroke=\"black\" d=\"M576.259,-480.431C587.231,-481.012 598.411,-481.558 609,-482 615.442,-482.269 621.924,-482.534 628.439,-482.796\"/>\r\n",
       "<polygon fill=\"black\" stroke=\"black\" points=\"628.573,-486.304 638.704,-483.204 628.851,-479.309 628.573,-486.304\"/>\r\n",
       "<text text-anchor=\"middle\" x=\"618.5\" y=\"-485.8\" font-family=\"Times New Roman,serif\" font-size=\"14.00\">yes</text>\r\n",
       "</g>\r\n",
       "<!-- split18 -->\r\n",
       "<g id=\"node20\" class=\"node\"><title>split18</title>\r\n",
       "<polygon fill=\"none\" stroke=\"black\" points=\"1301.5,-476 1109.5,-476 1109.5,-440 1301.5,-440 1301.5,-476\"/>\r\n",
       "<text text-anchor=\"start\" x=\"1117.5\" y=\"-455.3\" font-family=\"Times New Roman,serif\" font-weight=\"bold\" font-size=\"14.00\">市区町村コード</text>\r\n",
       "<text text-anchor=\"start\" x=\"1217.5\" y=\"-455.3\" font-family=\"Times New Roman,serif\" font-size=\"14.00\"> ≤</text>\r\n",
       "<text text-anchor=\"start\" x=\"1229.5\" y=\"-455.3\" font-family=\"Times New Roman,serif\" font-weight=\"bold\" font-size=\"14.00\">14211.500</text>\r\n",
       "</g>\r\n",
       "<!-- split3&#45;&gt;split18 -->\r\n",
       "<g id=\"edge23\" class=\"edge\"><title>split3&#45;&gt;split18</title>\r\n",
       "<path fill=\"none\" stroke=\"black\" d=\"M576.257,-471.505C587.228,-470.933 598.409,-470.406 609,-470 780.565,-463.418 980.082,-460.326 1099.12,-458.966\"/>\r\n",
       "<polygon fill=\"black\" stroke=\"black\" points=\"1099.37,-462.463 1109.33,-458.851 1099.29,-455.464 1099.37,-462.463\"/>\r\n",
       "<text text-anchor=\"middle\" x=\"618.5\" y=\"-473.8\" font-family=\"Times New Roman,serif\" font-size=\"14.00\">no</text>\r\n",
       "</g>\r\n",
       "<!-- leaf3 -->\r\n",
       "<g id=\"node8\" class=\"node\"><title>leaf3</title>\r\n",
       "<ellipse fill=\"none\" stroke=\"black\" cx=\"2394.5\" cy=\"-538\" rx=\"56.59\" ry=\"18\"/>\r\n",
       "<text text-anchor=\"start\" x=\"2359\" y=\"-535.3\" font-family=\"Times New Roman,serif\" font-size=\"14.00\">leaf 3: </text>\r\n",
       "<text text-anchor=\"start\" x=\"2396\" y=\"-535.3\" font-family=\"Times New Roman,serif\" font-weight=\"bold\" font-size=\"14.00\">0.062</text>\r\n",
       "</g>\r\n",
       "<!-- split7&#45;&gt;leaf3 -->\r\n",
       "<g id=\"edge4\" class=\"edge\"><title>split7&#45;&gt;leaf3</title>\r\n",
       "<path fill=\"none\" stroke=\"black\" d=\"M1740.97,-516.011C1971.6,-523.783 2214.25,-531.959 2327.73,-535.784\"/>\r\n",
       "<polygon fill=\"black\" stroke=\"black\" points=\"2327.86,-539.29 2337.97,-536.129 2328.1,-532.294 2327.86,-539.29\"/>\r\n",
       "<text text-anchor=\"middle\" x=\"1792.5\" y=\"-521.8\" font-family=\"Times New Roman,serif\" font-size=\"14.00\">yes</text>\r\n",
       "</g>\r\n",
       "<!-- split10 -->\r\n",
       "<g id=\"node9\" class=\"node\"><title>split10</title>\r\n",
       "<polygon fill=\"none\" stroke=\"black\" points=\"2976,-516 1813,-516 1813,-480 2976,-480 2976,-516\"/>\r\n",
       "<text text-anchor=\"start\" x=\"1821\" y=\"-495.3\" font-family=\"Times New Roman,serif\" font-weight=\"bold\" font-size=\"14.00\">最寄駅：名称</text>\r\n",
       "<text text-anchor=\"start\" x=\"1907\" y=\"-495.3\" font-family=\"Times New Roman,serif\" font-size=\"14.00\"> =</text>\r\n",
       "<text text-anchor=\"start\" x=\"1920\" y=\"-495.3\" font-family=\"Times New Roman,serif\" font-weight=\"bold\" font-size=\"14.00\">15||158||162||396||492||716||1019||1048||1150||1272||1326||1749||1761||1852||2010||2017||2133||2170||2317||2390||2485||2526||2553||2773||2774||2855||3104||3387||3404||3490||3546||3674</text>\r\n",
       "</g>\r\n",
       "<!-- split7&#45;&gt;split10 -->\r\n",
       "<g id=\"edge15\" class=\"edge\"><title>split7&#45;&gt;split10</title>\r\n",
       "<path fill=\"none\" stroke=\"black\" d=\"M1772.19,-498C1782.38,-498 1792.58,-498 1802.77,-498\"/>\r\n",
       "<polygon fill=\"black\" stroke=\"black\" points=\"1802.97,-501.5 1812.97,-498 1802.97,-494.5 1802.97,-501.5\"/>\r\n",
       "<text text-anchor=\"middle\" x=\"1792.5\" y=\"-501.8\" font-family=\"Times New Roman,serif\" font-size=\"14.00\">no</text>\r\n",
       "</g>\r\n",
       "<!-- leaf8 -->\r\n",
       "<g id=\"node10\" class=\"node\"><title>leaf8</title>\r\n",
       "<ellipse fill=\"none\" stroke=\"black\" cx=\"3561\" cy=\"-538\" rx=\"56.59\" ry=\"18\"/>\r\n",
       "<text text-anchor=\"start\" x=\"3525.5\" y=\"-535.3\" font-family=\"Times New Roman,serif\" font-size=\"14.00\">leaf 8: </text>\r\n",
       "<text text-anchor=\"start\" x=\"3562.5\" y=\"-535.3\" font-family=\"Times New Roman,serif\" font-weight=\"bold\" font-size=\"14.00\">0.049</text>\r\n",
       "</g>\r\n",
       "<!-- split10&#45;&gt;leaf8 -->\r\n",
       "<g id=\"edge5\" class=\"edge\"><title>split10&#45;&gt;leaf8</title>\r\n",
       "<path fill=\"none\" stroke=\"black\" d=\"M2919.84,-516.011C3145.51,-523.763 3382.91,-531.917 3494.61,-535.754\"/>\r\n",
       "<polygon fill=\"black\" stroke=\"black\" points=\"3494.58,-539.255 3504.69,-536.1 3494.82,-532.259 3494.58,-539.255\"/>\r\n",
       "<text text-anchor=\"middle\" x=\"2996.5\" y=\"-521.8\" font-family=\"Times New Roman,serif\" font-size=\"14.00\">yes</text>\r\n",
       "</g>\r\n",
       "<!-- split14 -->\r\n",
       "<g id=\"node11\" class=\"node\"><title>split14</title>\r\n",
       "<polygon fill=\"none\" stroke=\"black\" points=\"3657,-516 3465,-516 3465,-480 3657,-480 3657,-516\"/>\r\n",
       "<text text-anchor=\"start\" x=\"3473\" y=\"-495.3\" font-family=\"Times New Roman,serif\" font-weight=\"bold\" font-size=\"14.00\">市区町村コード</text>\r\n",
       "<text text-anchor=\"start\" x=\"3573\" y=\"-495.3\" font-family=\"Times New Roman,serif\" font-size=\"14.00\"> ≤</text>\r\n",
       "<text text-anchor=\"start\" x=\"3585\" y=\"-495.3\" font-family=\"Times New Roman,serif\" font-weight=\"bold\" font-size=\"14.00\">14205.500</text>\r\n",
       "</g>\r\n",
       "<!-- split10&#45;&gt;split14 -->\r\n",
       "<g id=\"edge14\" class=\"edge\"><title>split10&#45;&gt;split14</title>\r\n",
       "<path fill=\"none\" stroke=\"black\" d=\"M2976.04,-498C3159.74,-498 3343.66,-498 3454.67,-498\"/>\r\n",
       "<polygon fill=\"black\" stroke=\"black\" points=\"3454.85,-501.5 3464.85,-498 3454.85,-494.5 3454.85,-501.5\"/>\r\n",
       "<text text-anchor=\"middle\" x=\"2996.5\" y=\"-501.8\" font-family=\"Times New Roman,serif\" font-size=\"14.00\">no</text>\r\n",
       "</g>\r\n",
       "<!-- split15 -->\r\n",
       "<g id=\"node12\" class=\"node\"><title>split15</title>\r\n",
       "<polygon fill=\"none\" stroke=\"black\" points=\"4800.5,-522 4624.5,-522 4624.5,-486 4800.5,-486 4800.5,-522\"/>\r\n",
       "<text text-anchor=\"start\" x=\"4632.5\" y=\"-501.3\" font-family=\"Times New Roman,serif\" font-weight=\"bold\" font-size=\"14.00\">都道府県名_num</text>\r\n",
       "<text text-anchor=\"start\" x=\"4738.5\" y=\"-501.3\" font-family=\"Times New Roman,serif\" font-size=\"14.00\"> ≤</text>\r\n",
       "<text text-anchor=\"start\" x=\"4750.5\" y=\"-501.3\" font-family=\"Times New Roman,serif\" font-weight=\"bold\" font-size=\"14.00\">12.500</text>\r\n",
       "</g>\r\n",
       "<!-- split14&#45;&gt;split15 -->\r\n",
       "<g id=\"edge10\" class=\"edge\"><title>split14&#45;&gt;split15</title>\r\n",
       "<path fill=\"none\" stroke=\"black\" d=\"M3657.05,-498.496C3872.55,-499.621 4396.44,-502.355 4614.14,-503.492\"/>\r\n",
       "<polygon fill=\"black\" stroke=\"black\" points=\"4614.25,-506.992 4624.27,-503.545 4614.29,-499.992 4614.25,-506.992\"/>\r\n",
       "<text text-anchor=\"middle\" x=\"4125.5\" y=\"-503.8\" font-family=\"Times New Roman,serif\" font-size=\"14.00\">yes</text>\r\n",
       "</g>\r\n",
       "<!-- split26 -->\r\n",
       "<g id=\"node17\" class=\"node\"><title>split26</title>\r\n",
       "<polygon fill=\"none\" stroke=\"black\" points=\"5269,-482 4156,-482 4156,-446 5269,-446 5269,-482\"/>\r\n",
       "<text text-anchor=\"start\" x=\"4164\" y=\"-461.3\" font-family=\"Times New Roman,serif\" font-weight=\"bold\" font-size=\"14.00\">最寄駅：名称</text>\r\n",
       "<text text-anchor=\"start\" x=\"4250\" y=\"-461.3\" font-family=\"Times New Roman,serif\" font-size=\"14.00\"> =</text>\r\n",
       "<text text-anchor=\"start\" x=\"4263\" y=\"-461.3\" font-family=\"Times New Roman,serif\" font-weight=\"bold\" font-size=\"14.00\">10||13||263||460||534||770||828||1044||1246||1251||1253||1271||1535||1711||1712||1920||2135||2296||2448||2550||2623||2624||2863||2890||3073||3074||3243||3346||3460||3738||3856</text>\r\n",
       "</g>\r\n",
       "<!-- split14&#45;&gt;split26 -->\r\n",
       "<g id=\"edge13\" class=\"edge\"><title>split14&#45;&gt;split26</title>\r\n",
       "<path fill=\"none\" stroke=\"black\" d=\"M3657.05,-495.189C3766.9,-491.94 3956.88,-486.32 4145.58,-480.739\"/>\r\n",
       "<polygon fill=\"black\" stroke=\"black\" points=\"4145.82,-484.233 4155.71,-480.439 4145.61,-477.236 4145.82,-484.233\"/>\r\n",
       "<text text-anchor=\"middle\" x=\"4125.5\" y=\"-484.8\" font-family=\"Times New Roman,serif\" font-size=\"14.00\">no</text>\r\n",
       "</g>\r\n",
       "<!-- split28 -->\r\n",
       "<g id=\"node13\" class=\"node\"><title>split28</title>\r\n",
       "<polygon fill=\"none\" stroke=\"black\" points=\"6388,-562 5320,-562 5320,-526 6388,-526 6388,-562\"/>\r\n",
       "<text text-anchor=\"start\" x=\"5328\" y=\"-541.3\" font-family=\"Times New Roman,serif\" font-weight=\"bold\" font-size=\"14.00\">最寄駅：名称</text>\r\n",
       "<text text-anchor=\"start\" x=\"5414\" y=\"-541.3\" font-family=\"Times New Roman,serif\" font-size=\"14.00\"> =</text>\r\n",
       "<text text-anchor=\"start\" x=\"5427\" y=\"-541.3\" font-family=\"Times New Roman,serif\" font-weight=\"bold\" font-size=\"14.00\">21||52||83||167||182||241||252||305||725||771||894||999||1183||1302||1575||1601||1774||1783||1896||1925||2055||2254||2394||2505||2532||2534||2543||2843||3063||3198||3653</text>\r\n",
       "</g>\r\n",
       "<!-- split15&#45;&gt;split28 -->\r\n",
       "<g id=\"edge8\" class=\"edge\"><title>split15&#45;&gt;split28</title>\r\n",
       "<path fill=\"none\" stroke=\"black\" d=\"M4800.55,-507.056C4915.28,-511.083 5126.43,-518.495 5329.65,-525.629\"/>\r\n",
       "<polygon fill=\"black\" stroke=\"black\" points=\"5329.82,-529.137 5339.93,-525.99 5330.06,-522.141 5329.82,-529.137\"/>\r\n",
       "<text text-anchor=\"middle\" x=\"5299.5\" y=\"-527.8\" font-family=\"Times New Roman,serif\" font-size=\"14.00\">yes</text>\r\n",
       "</g>\r\n",
       "<!-- leaf16 -->\r\n",
       "<g id=\"node16\" class=\"node\"><title>leaf16</title>\r\n",
       "<ellipse fill=\"none\" stroke=\"black\" cx=\"5854\" cy=\"-504\" rx=\"61.1893\" ry=\"18\"/>\r\n",
       "<text text-anchor=\"start\" x=\"5815\" y=\"-501.3\" font-family=\"Times New Roman,serif\" font-size=\"14.00\">leaf 16: </text>\r\n",
       "<text text-anchor=\"start\" x=\"5859\" y=\"-501.3\" font-family=\"Times New Roman,serif\" font-weight=\"bold\" font-size=\"14.00\">0.031</text>\r\n",
       "</g>\r\n",
       "<!-- split15&#45;&gt;leaf16 -->\r\n",
       "<g id=\"edge9\" class=\"edge\"><title>split15&#45;&gt;leaf16</title>\r\n",
       "<path fill=\"none\" stroke=\"black\" d=\"M4800.55,-504C5018.4,-504 5583.82,-504 5782.62,-504\"/>\r\n",
       "<polygon fill=\"black\" stroke=\"black\" points=\"5782.65,-507.5 5792.65,-504 5782.65,-500.5 5782.65,-507.5\"/>\r\n",
       "<text text-anchor=\"middle\" x=\"5299.5\" y=\"-507.8\" font-family=\"Times New Roman,serif\" font-size=\"14.00\">no</text>\r\n",
       "</g>\r\n",
       "<!-- leaf11 -->\r\n",
       "<g id=\"node14\" class=\"node\"><title>leaf11</title>\r\n",
       "<ellipse fill=\"none\" stroke=\"black\" cx=\"6490.09\" cy=\"-564\" rx=\"61.1893\" ry=\"18\"/>\r\n",
       "<text text-anchor=\"start\" x=\"6451.09\" y=\"-561.3\" font-family=\"Times New Roman,serif\" font-size=\"14.00\">leaf 11: </text>\r\n",
       "<text text-anchor=\"start\" x=\"6495.09\" y=\"-561.3\" font-family=\"Times New Roman,serif\" font-weight=\"bold\" font-size=\"14.00\">0.031</text>\r\n",
       "</g>\r\n",
       "<!-- split28&#45;&gt;leaf11 -->\r\n",
       "<g id=\"edge6\" class=\"edge\"><title>split28&#45;&gt;leaf11</title>\r\n",
       "<path fill=\"none\" stroke=\"black\" d=\"M6388.27,-560.82C6399.28,-561.167 6409.62,-561.493 6419.17,-561.795\"/>\r\n",
       "<polygon fill=\"black\" stroke=\"black\" points=\"6419.12,-565.295 6429.22,-562.112 6419.34,-558.298 6419.12,-565.295\"/>\r\n",
       "<text text-anchor=\"middle\" x=\"6408.5\" y=\"-564.8\" font-family=\"Times New Roman,serif\" font-size=\"14.00\">yes</text>\r\n",
       "</g>\r\n",
       "<!-- leaf29 -->\r\n",
       "<g id=\"node15\" class=\"node\"><title>leaf29</title>\r\n",
       "<ellipse fill=\"none\" stroke=\"black\" cx=\"6490.09\" cy=\"-524\" rx=\"61.1893\" ry=\"18\"/>\r\n",
       "<text text-anchor=\"start\" x=\"6451.09\" y=\"-521.3\" font-family=\"Times New Roman,serif\" font-size=\"14.00\">leaf 29: </text>\r\n",
       "<text text-anchor=\"start\" x=\"6495.09\" y=\"-521.3\" font-family=\"Times New Roman,serif\" font-weight=\"bold\" font-size=\"14.00\">0.012</text>\r\n",
       "</g>\r\n",
       "<!-- split28&#45;&gt;leaf29 -->\r\n",
       "<g id=\"edge7\" class=\"edge\"><title>split28&#45;&gt;leaf29</title>\r\n",
       "<path fill=\"none\" stroke=\"black\" d=\"M6388.27,-527.18C6399.28,-526.833 6409.62,-526.507 6419.17,-526.205\"/>\r\n",
       "<polygon fill=\"black\" stroke=\"black\" points=\"6419.34,-529.702 6429.22,-525.888 6419.12,-522.705 6419.34,-529.702\"/>\r\n",
       "<text text-anchor=\"middle\" x=\"6408.5\" y=\"-529.8\" font-family=\"Times New Roman,serif\" font-size=\"14.00\">no</text>\r\n",
       "</g>\r\n",
       "<!-- leaf15 -->\r\n",
       "<g id=\"node18\" class=\"node\"><title>leaf15</title>\r\n",
       "<ellipse fill=\"none\" stroke=\"black\" cx=\"5854\" cy=\"-464\" rx=\"61.1893\" ry=\"18\"/>\r\n",
       "<text text-anchor=\"start\" x=\"5815\" y=\"-461.3\" font-family=\"Times New Roman,serif\" font-size=\"14.00\">leaf 15: </text>\r\n",
       "<text text-anchor=\"start\" x=\"5859\" y=\"-461.3\" font-family=\"Times New Roman,serif\" font-weight=\"bold\" font-size=\"14.00\">0.037</text>\r\n",
       "</g>\r\n",
       "<!-- split26&#45;&gt;leaf15 -->\r\n",
       "<g id=\"edge11\" class=\"edge\"><title>split26&#45;&gt;leaf15</title>\r\n",
       "<path fill=\"none\" stroke=\"black\" d=\"M5269.06,-464C5472.37,-464 5678.08,-464 5782.58,-464\"/>\r\n",
       "<polygon fill=\"black\" stroke=\"black\" points=\"5782.67,-467.5 5792.67,-464 5782.67,-460.5 5782.67,-467.5\"/>\r\n",
       "<text text-anchor=\"middle\" x=\"5299.5\" y=\"-467.8\" font-family=\"Times New Roman,serif\" font-size=\"14.00\">yes</text>\r\n",
       "</g>\r\n",
       "<!-- leaf27 -->\r\n",
       "<g id=\"node19\" class=\"node\"><title>leaf27</title>\r\n",
       "<ellipse fill=\"none\" stroke=\"black\" cx=\"5854\" cy=\"-424\" rx=\"61.1893\" ry=\"18\"/>\r\n",
       "<text text-anchor=\"start\" x=\"5815\" y=\"-421.3\" font-family=\"Times New Roman,serif\" font-size=\"14.00\">leaf 27: </text>\r\n",
       "<text text-anchor=\"start\" x=\"5859\" y=\"-421.3\" font-family=\"Times New Roman,serif\" font-weight=\"bold\" font-size=\"14.00\">0.015</text>\r\n",
       "</g>\r\n",
       "<!-- split26&#45;&gt;leaf27 -->\r\n",
       "<g id=\"edge12\" class=\"edge\"><title>split26&#45;&gt;leaf27</title>\r\n",
       "<path fill=\"none\" stroke=\"black\" d=\"M5226.58,-445.989C5443.4,-438.378 5671.28,-430.379 5782.93,-426.46\"/>\r\n",
       "<polygon fill=\"black\" stroke=\"black\" points=\"5783.18,-429.953 5793.05,-426.104 5782.93,-422.958 5783.18,-429.953\"/>\r\n",
       "<text text-anchor=\"middle\" x=\"5299.5\" y=\"-446.8\" font-family=\"Times New Roman,serif\" font-size=\"14.00\">no</text>\r\n",
       "</g>\r\n",
       "<!-- split19 -->\r\n",
       "<g id=\"node21\" class=\"node\"><title>split19</title>\r\n",
       "<polygon fill=\"none\" stroke=\"black\" points=\"2482.5,-476 2306.5,-476 2306.5,-440 2482.5,-440 2482.5,-476\"/>\r\n",
       "<text text-anchor=\"start\" x=\"2314.5\" y=\"-455.3\" font-family=\"Times New Roman,serif\" font-weight=\"bold\" font-size=\"14.00\">都道府県名_num</text>\r\n",
       "<text text-anchor=\"start\" x=\"2420.5\" y=\"-455.3\" font-family=\"Times New Roman,serif\" font-size=\"14.00\"> ≤</text>\r\n",
       "<text text-anchor=\"start\" x=\"2432.5\" y=\"-455.3\" font-family=\"Times New Roman,serif\" font-weight=\"bold\" font-size=\"14.00\">12.500</text>\r\n",
       "</g>\r\n",
       "<!-- split18&#45;&gt;split19 -->\r\n",
       "<g id=\"edge21\" class=\"edge\"><title>split18&#45;&gt;split19</title>\r\n",
       "<path fill=\"none\" stroke=\"black\" d=\"M1301.63,-458C1523.37,-458 2072.64,-458 2296.35,-458\"/>\r\n",
       "<polygon fill=\"black\" stroke=\"black\" points=\"2296.43,-461.5 2306.43,-458 2296.43,-454.5 2296.43,-461.5\"/>\r\n",
       "<text text-anchor=\"middle\" x=\"1792.5\" y=\"-461.8\" font-family=\"Times New Roman,serif\" font-size=\"14.00\">yes</text>\r\n",
       "</g>\r\n",
       "<!-- leaf19 -->\r\n",
       "<g id=\"node26\" class=\"node\"><title>leaf19</title>\r\n",
       "<ellipse fill=\"none\" stroke=\"black\" cx=\"2394.5\" cy=\"-418\" rx=\"64.189\" ry=\"18\"/>\r\n",
       "<text text-anchor=\"start\" x=\"2353\" y=\"-415.3\" font-family=\"Times New Roman,serif\" font-size=\"14.00\">leaf 19: </text>\r\n",
       "<text text-anchor=\"start\" x=\"2397\" y=\"-415.3\" font-family=\"Times New Roman,serif\" font-weight=\"bold\" font-size=\"14.00\">&#45;0.000</text>\r\n",
       "</g>\r\n",
       "<!-- split18&#45;&gt;leaf19 -->\r\n",
       "<g id=\"edge22\" class=\"edge\"><title>split18&#45;&gt;leaf19</title>\r\n",
       "<path fill=\"none\" stroke=\"black\" d=\"M1301.63,-454.794C1531.83,-447.037 2115.04,-427.384 2320.5,-420.46\"/>\r\n",
       "<polygon fill=\"black\" stroke=\"black\" points=\"2320.7,-423.955 2330.58,-420.12 2320.47,-416.959 2320.7,-423.955\"/>\r\n",
       "<text text-anchor=\"middle\" x=\"1792.5\" y=\"-441.8\" font-family=\"Times New Roman,serif\" font-size=\"14.00\">no</text>\r\n",
       "</g>\r\n",
       "<!-- leaf4 -->\r\n",
       "<g id=\"node22\" class=\"node\"><title>leaf4</title>\r\n",
       "<ellipse fill=\"none\" stroke=\"black\" cx=\"3561\" cy=\"-458\" rx=\"59.5901\" ry=\"18\"/>\r\n",
       "<text text-anchor=\"start\" x=\"3523\" y=\"-455.3\" font-family=\"Times New Roman,serif\" font-size=\"14.00\">leaf 4: </text>\r\n",
       "<text text-anchor=\"start\" x=\"3560\" y=\"-455.3\" font-family=\"Times New Roman,serif\" font-weight=\"bold\" font-size=\"14.00\">&#45;0.000</text>\r\n",
       "</g>\r\n",
       "<!-- split19&#45;&gt;leaf4 -->\r\n",
       "<g id=\"edge17\" class=\"edge\"><title>split19&#45;&gt;leaf4</title>\r\n",
       "<path fill=\"none\" stroke=\"black\" d=\"M2482.55,-458C2704.81,-458 3289.87,-458 3490.96,-458\"/>\r\n",
       "<polygon fill=\"black\" stroke=\"black\" points=\"3491.1,-461.5 3501.1,-458 3491.1,-454.5 3491.1,-461.5\"/>\r\n",
       "<text text-anchor=\"middle\" x=\"2996.5\" y=\"-461.8\" font-family=\"Times New Roman,serif\" font-size=\"14.00\">yes</text>\r\n",
       "</g>\r\n",
       "<!-- split29 -->\r\n",
       "<g id=\"node23\" class=\"node\"><title>split29</title>\r\n",
       "<polygon fill=\"none\" stroke=\"black\" points=\"3657,-436 3465,-436 3465,-400 3657,-400 3657,-436\"/>\r\n",
       "<text text-anchor=\"start\" x=\"3473\" y=\"-415.3\" font-family=\"Times New Roman,serif\" font-weight=\"bold\" font-size=\"14.00\">市区町村コード</text>\r\n",
       "<text text-anchor=\"start\" x=\"3573\" y=\"-415.3\" font-family=\"Times New Roman,serif\" font-size=\"14.00\"> ≤</text>\r\n",
       "<text text-anchor=\"start\" x=\"3585\" y=\"-415.3\" font-family=\"Times New Roman,serif\" font-weight=\"bold\" font-size=\"14.00\">13116.500</text>\r\n",
       "</g>\r\n",
       "<!-- split19&#45;&gt;split29 -->\r\n",
       "<g id=\"edge20\" class=\"edge\"><title>split19&#45;&gt;split29</title>\r\n",
       "<path fill=\"none\" stroke=\"black\" d=\"M2482.55,-455.01C2692.64,-447.793 3226.89,-429.442 3454.6,-421.621\"/>\r\n",
       "<polygon fill=\"black\" stroke=\"black\" points=\"3455,-425.109 3464.88,-421.267 3454.76,-418.113 3455,-425.109\"/>\r\n",
       "<text text-anchor=\"middle\" x=\"2996.5\" y=\"-440.8\" font-family=\"Times New Roman,serif\" font-size=\"14.00\">no</text>\r\n",
       "</g>\r\n",
       "<!-- leaf20 -->\r\n",
       "<g id=\"node24\" class=\"node\"><title>leaf20</title>\r\n",
       "<ellipse fill=\"none\" stroke=\"black\" cx=\"4712.5\" cy=\"-422\" rx=\"61.1893\" ry=\"18\"/>\r\n",
       "<text text-anchor=\"start\" x=\"4673.5\" y=\"-419.3\" font-family=\"Times New Roman,serif\" font-size=\"14.00\">leaf 20: </text>\r\n",
       "<text text-anchor=\"start\" x=\"4717.5\" y=\"-419.3\" font-family=\"Times New Roman,serif\" font-weight=\"bold\" font-size=\"14.00\">0.034</text>\r\n",
       "</g>\r\n",
       "<!-- split29&#45;&gt;leaf20 -->\r\n",
       "<g id=\"edge18\" class=\"edge\"><title>split29&#45;&gt;leaf20</title>\r\n",
       "<path fill=\"none\" stroke=\"black\" d=\"M3657.05,-418.331C3882.03,-419.114 4443.13,-421.066 4641.04,-421.755\"/>\r\n",
       "<polygon fill=\"black\" stroke=\"black\" points=\"4641.3,-425.256 4651.31,-421.791 4641.32,-418.256 4641.3,-425.256\"/>\r\n",
       "<text text-anchor=\"middle\" x=\"4125.5\" y=\"-423.8\" font-family=\"Times New Roman,serif\" font-size=\"14.00\">yes</text>\r\n",
       "</g>\r\n",
       "<!-- leaf30 -->\r\n",
       "<g id=\"node25\" class=\"node\"><title>leaf30</title>\r\n",
       "<ellipse fill=\"none\" stroke=\"black\" cx=\"4712.5\" cy=\"-382\" rx=\"61.1893\" ry=\"18\"/>\r\n",
       "<text text-anchor=\"start\" x=\"4673.5\" y=\"-379.3\" font-family=\"Times New Roman,serif\" font-size=\"14.00\">leaf 30: </text>\r\n",
       "<text text-anchor=\"start\" x=\"4717.5\" y=\"-379.3\" font-family=\"Times New Roman,serif\" font-weight=\"bold\" font-size=\"14.00\">0.016</text>\r\n",
       "</g>\r\n",
       "<!-- split29&#45;&gt;leaf30 -->\r\n",
       "<g id=\"edge19\" class=\"edge\"><title>split29&#45;&gt;leaf30</title>\r\n",
       "<path fill=\"none\" stroke=\"black\" d=\"M3657.05,-415.023C3882.16,-407.973 4443.79,-390.384 4641.39,-384.196\"/>\r\n",
       "<polygon fill=\"black\" stroke=\"black\" points=\"4641.75,-387.686 4651.64,-383.875 4641.53,-380.69 4641.75,-387.686\"/>\r\n",
       "<text text-anchor=\"middle\" x=\"4125.5\" y=\"-404.8\" font-family=\"Times New Roman,serif\" font-size=\"14.00\">no</text>\r\n",
       "</g>\r\n",
       "<!-- split6 -->\r\n",
       "<g id=\"node28\" class=\"node\"><title>split6</title>\r\n",
       "<polygon fill=\"none\" stroke=\"black\" points=\"598,-352 406,-352 406,-316 598,-316 598,-352\"/>\r\n",
       "<text text-anchor=\"start\" x=\"414\" y=\"-331.3\" font-family=\"Times New Roman,serif\" font-weight=\"bold\" font-size=\"14.00\">市区町村コード</text>\r\n",
       "<text text-anchor=\"start\" x=\"514\" y=\"-331.3\" font-family=\"Times New Roman,serif\" font-size=\"14.00\"> ≤</text>\r\n",
       "<text text-anchor=\"start\" x=\"526\" y=\"-331.3\" font-family=\"Times New Roman,serif\" font-weight=\"bold\" font-size=\"14.00\">14144.000</text>\r\n",
       "</g>\r\n",
       "<!-- split1&#45;&gt;split6 -->\r\n",
       "<g id=\"edge32\" class=\"edge\"><title>split1&#45;&gt;split6</title>\r\n",
       "<path fill=\"none\" stroke=\"black\" d=\"M365.176,-334C375.162,-334 385.422,-334 395.614,-334\"/>\r\n",
       "<polygon fill=\"black\" stroke=\"black\" points=\"395.77,-337.5 405.77,-334 395.77,-330.5 395.77,-337.5\"/>\r\n",
       "<text text-anchor=\"middle\" x=\"385.5\" y=\"-337.8\" font-family=\"Times New Roman,serif\" font-size=\"14.00\">yes</text>\r\n",
       "</g>\r\n",
       "<!-- split4 -->\r\n",
       "<g id=\"node35\" class=\"node\"><title>split4</title>\r\n",
       "<polygon fill=\"none\" stroke=\"black\" points=\"598,-248 406,-248 406,-212 598,-212 598,-248\"/>\r\n",
       "<text text-anchor=\"start\" x=\"414\" y=\"-227.3\" font-family=\"Times New Roman,serif\" font-weight=\"bold\" font-size=\"14.00\">市区町村コード</text>\r\n",
       "<text text-anchor=\"start\" x=\"514\" y=\"-227.3\" font-family=\"Times New Roman,serif\" font-size=\"14.00\"> ≤</text>\r\n",
       "<text text-anchor=\"start\" x=\"526\" y=\"-227.3\" font-family=\"Times New Roman,serif\" font-weight=\"bold\" font-size=\"14.00\">14144.000</text>\r\n",
       "</g>\r\n",
       "<!-- split1&#45;&gt;split4 -->\r\n",
       "<g id=\"edge59\" class=\"edge\"><title>split1&#45;&gt;split4</title>\r\n",
       "<path fill=\"none\" stroke=\"black\" d=\"M316.844,-315.885C354.7,-298.23 412.349,-271.344 453.044,-252.365\"/>\r\n",
       "<polygon fill=\"black\" stroke=\"black\" points=\"454.644,-255.481 462.228,-248.082 451.686,-249.137 454.644,-255.481\"/>\r\n",
       "<text text-anchor=\"middle\" x=\"385.5\" y=\"-292.8\" font-family=\"Times New Roman,serif\" font-size=\"14.00\">no</text>\r\n",
       "</g>\r\n",
       "<!-- split8 -->\r\n",
       "<g id=\"node29\" class=\"node\"><title>split8</title>\r\n",
       "<polygon fill=\"none\" stroke=\"black\" points=\"1301.5,-380 1109.5,-380 1109.5,-344 1301.5,-344 1301.5,-380\"/>\r\n",
       "<text text-anchor=\"start\" x=\"1117.5\" y=\"-359.3\" font-family=\"Times New Roman,serif\" font-weight=\"bold\" font-size=\"14.00\">市区町村コード</text>\r\n",
       "<text text-anchor=\"start\" x=\"1217.5\" y=\"-359.3\" font-family=\"Times New Roman,serif\" font-size=\"14.00\"> ≤</text>\r\n",
       "<text text-anchor=\"start\" x=\"1229.5\" y=\"-359.3\" font-family=\"Times New Roman,serif\" font-weight=\"bold\" font-size=\"14.00\">12232.500</text>\r\n",
       "</g>\r\n",
       "<!-- split6&#45;&gt;split8 -->\r\n",
       "<g id=\"edge30\" class=\"edge\"><title>split6&#45;&gt;split8</title>\r\n",
       "<path fill=\"none\" stroke=\"black\" d=\"M598.024,-345.157C601.728,-345.465 605.397,-345.748 609,-346 780.426,-357.984 980.188,-361.152 1099.29,-361.899\"/>\r\n",
       "<polygon fill=\"black\" stroke=\"black\" points=\"1099.47,-365.4 1109.49,-361.959 1099.51,-358.4 1099.47,-365.4\"/>\r\n",
       "<text text-anchor=\"middle\" x=\"618.5\" y=\"-351.8\" font-family=\"Times New Roman,serif\" font-size=\"14.00\">yes</text>\r\n",
       "</g>\r\n",
       "<!-- leaf7 -->\r\n",
       "<g id=\"node34\" class=\"node\"><title>leaf7</title>\r\n",
       "<ellipse fill=\"none\" stroke=\"black\" cx=\"1205.5\" cy=\"-322\" rx=\"59.5901\" ry=\"18\"/>\r\n",
       "<text text-anchor=\"start\" x=\"1167.5\" y=\"-319.3\" font-family=\"Times New Roman,serif\" font-size=\"14.00\">leaf 7: </text>\r\n",
       "<text text-anchor=\"start\" x=\"1204.5\" y=\"-319.3\" font-family=\"Times New Roman,serif\" font-weight=\"bold\" font-size=\"14.00\">&#45;0.064</text>\r\n",
       "</g>\r\n",
       "<!-- split6&#45;&gt;leaf7 -->\r\n",
       "<g id=\"edge31\" class=\"edge\"><title>split6&#45;&gt;leaf7</title>\r\n",
       "<path fill=\"none\" stroke=\"black\" d=\"M598.337,-332.369C741.536,-329.92 1008.79,-325.348 1135.04,-323.188\"/>\r\n",
       "<polygon fill=\"black\" stroke=\"black\" points=\"1135.41,-326.683 1145.35,-323.012 1135.29,-319.684 1135.41,-326.683\"/>\r\n",
       "<text text-anchor=\"middle\" x=\"618.5\" y=\"-335.8\" font-family=\"Times New Roman,serif\" font-size=\"14.00\">no</text>\r\n",
       "</g>\r\n",
       "<!-- leaf1 -->\r\n",
       "<g id=\"node30\" class=\"node\"><title>leaf1</title>\r\n",
       "<ellipse fill=\"none\" stroke=\"black\" cx=\"2394.5\" cy=\"-378\" rx=\"59.5901\" ry=\"18\"/>\r\n",
       "<text text-anchor=\"start\" x=\"2356.5\" y=\"-375.3\" font-family=\"Times New Roman,serif\" font-size=\"14.00\">leaf 1: </text>\r\n",
       "<text text-anchor=\"start\" x=\"2393.5\" y=\"-375.3\" font-family=\"Times New Roman,serif\" font-weight=\"bold\" font-size=\"14.00\">&#45;0.068</text>\r\n",
       "</g>\r\n",
       "<!-- split8&#45;&gt;leaf1 -->\r\n",
       "<g id=\"edge26\" class=\"edge\"><title>split8&#45;&gt;leaf1</title>\r\n",
       "<path fill=\"none\" stroke=\"black\" d=\"M1301.63,-363.282C1533.34,-366.406 2122.69,-374.35 2324.49,-377.07\"/>\r\n",
       "<polygon fill=\"black\" stroke=\"black\" points=\"2324.61,-380.572 2334.66,-377.207 2324.71,-373.572 2324.61,-380.572\"/>\r\n",
       "<text text-anchor=\"middle\" x=\"1792.5\" y=\"-373.8\" font-family=\"Times New Roman,serif\" font-size=\"14.00\">yes</text>\r\n",
       "</g>\r\n",
       "<!-- split20 -->\r\n",
       "<g id=\"node31\" class=\"node\"><title>split20</title>\r\n",
       "<polygon fill=\"none\" stroke=\"black\" points=\"2490.5,-356 2298.5,-356 2298.5,-320 2490.5,-320 2490.5,-356\"/>\r\n",
       "<text text-anchor=\"start\" x=\"2306.5\" y=\"-335.3\" font-family=\"Times New Roman,serif\" font-weight=\"bold\" font-size=\"14.00\">市区町村コード</text>\r\n",
       "<text text-anchor=\"start\" x=\"2406.5\" y=\"-335.3\" font-family=\"Times New Roman,serif\" font-size=\"14.00\"> ≤</text>\r\n",
       "<text text-anchor=\"start\" x=\"2418.5\" y=\"-335.3\" font-family=\"Times New Roman,serif\" font-weight=\"bold\" font-size=\"14.00\">13118.500</text>\r\n",
       "</g>\r\n",
       "<!-- split8&#45;&gt;split20 -->\r\n",
       "<g id=\"edge29\" class=\"edge\"><title>split8&#45;&gt;split20</title>\r\n",
       "<path fill=\"none\" stroke=\"black\" d=\"M1301.63,-360.077C1520.66,-355.648 2059.26,-344.758 2288,-340.133\"/>\r\n",
       "<polygon fill=\"black\" stroke=\"black\" points=\"2288.4,-343.626 2298.33,-339.924 2288.26,-336.627 2288.4,-343.626\"/>\r\n",
       "<text text-anchor=\"middle\" x=\"1792.5\" y=\"-354.8\" font-family=\"Times New Roman,serif\" font-size=\"14.00\">no</text>\r\n",
       "</g>\r\n",
       "<!-- leaf9 -->\r\n",
       "<g id=\"node32\" class=\"node\"><title>leaf9</title>\r\n",
       "<ellipse fill=\"none\" stroke=\"black\" cx=\"3561\" cy=\"-378\" rx=\"59.5901\" ry=\"18\"/>\r\n",
       "<text text-anchor=\"start\" x=\"3523\" y=\"-375.3\" font-family=\"Times New Roman,serif\" font-size=\"14.00\">leaf 9: </text>\r\n",
       "<text text-anchor=\"start\" x=\"3560\" y=\"-375.3\" font-family=\"Times New Roman,serif\" font-weight=\"bold\" font-size=\"14.00\">&#45;0.019</text>\r\n",
       "</g>\r\n",
       "<!-- split20&#45;&gt;leaf9 -->\r\n",
       "<g id=\"edge27\" class=\"edge\"><title>split20&#45;&gt;leaf9</title>\r\n",
       "<path fill=\"none\" stroke=\"black\" d=\"M2490.8,-341.273C2719.06,-349.114 3292.9,-368.825 3491.27,-375.639\"/>\r\n",
       "<polygon fill=\"black\" stroke=\"black\" points=\"3491.44,-379.147 3501.55,-375.992 3491.68,-372.151 3491.44,-379.147\"/>\r\n",
       "<text text-anchor=\"middle\" x=\"2996.5\" y=\"-362.8\" font-family=\"Times New Roman,serif\" font-size=\"14.00\">yes</text>\r\n",
       "</g>\r\n",
       "<!-- leaf21 -->\r\n",
       "<g id=\"node33\" class=\"node\"><title>leaf21</title>\r\n",
       "<ellipse fill=\"none\" stroke=\"black\" cx=\"3561\" cy=\"-338\" rx=\"64.189\" ry=\"18\"/>\r\n",
       "<text text-anchor=\"start\" x=\"3519.5\" y=\"-335.3\" font-family=\"Times New Roman,serif\" font-size=\"14.00\">leaf 21: </text>\r\n",
       "<text text-anchor=\"start\" x=\"3563.5\" y=\"-335.3\" font-family=\"Times New Roman,serif\" font-weight=\"bold\" font-size=\"14.00\">&#45;0.039</text>\r\n",
       "</g>\r\n",
       "<!-- split20&#45;&gt;leaf21 -->\r\n",
       "<g id=\"edge28\" class=\"edge\"><title>split20&#45;&gt;leaf21</title>\r\n",
       "<path fill=\"none\" stroke=\"black\" d=\"M2490.8,-338C2717.18,-338 3283.42,-338 3486.27,-338\"/>\r\n",
       "<polygon fill=\"black\" stroke=\"black\" points=\"3486.51,-341.5 3496.51,-338 3486.51,-334.5 3486.51,-341.5\"/>\r\n",
       "<text text-anchor=\"middle\" x=\"2996.5\" y=\"-341.8\" font-family=\"Times New Roman,serif\" font-size=\"14.00\">no</text>\r\n",
       "</g>\r\n",
       "<!-- split5 -->\r\n",
       "<g id=\"node36\" class=\"node\"><title>split5</title>\r\n",
       "<polygon fill=\"none\" stroke=\"black\" points=\"1293.5,-248 1117.5,-248 1117.5,-212 1293.5,-212 1293.5,-248\"/>\r\n",
       "<text text-anchor=\"start\" x=\"1125.5\" y=\"-227.3\" font-family=\"Times New Roman,serif\" font-weight=\"bold\" font-size=\"14.00\">都道府県名_num</text>\r\n",
       "<text text-anchor=\"start\" x=\"1231.5\" y=\"-227.3\" font-family=\"Times New Roman,serif\" font-size=\"14.00\"> ≤</text>\r\n",
       "<text text-anchor=\"start\" x=\"1243.5\" y=\"-227.3\" font-family=\"Times New Roman,serif\" font-weight=\"bold\" font-size=\"14.00\">12.500</text>\r\n",
       "</g>\r\n",
       "<!-- split4&#45;&gt;split5 -->\r\n",
       "<g id=\"edge49\" class=\"edge\"><title>split4&#45;&gt;split5</title>\r\n",
       "<path fill=\"none\" stroke=\"black\" d=\"M598.337,-230C731.692,-230 972.628,-230 1107.09,-230\"/>\r\n",
       "<polygon fill=\"black\" stroke=\"black\" points=\"1107.38,-233.5 1117.38,-230 1107.38,-226.5 1107.38,-233.5\"/>\r\n",
       "<text text-anchor=\"middle\" x=\"618.5\" y=\"-233.8\" font-family=\"Times New Roman,serif\" font-size=\"14.00\">yes</text>\r\n",
       "</g>\r\n",
       "<!-- split9 -->\r\n",
       "<g id=\"node53\" class=\"node\"><title>split9</title>\r\n",
       "<polygon fill=\"none\" stroke=\"black\" points=\"1293.5,-144 1117.5,-144 1117.5,-108 1293.5,-108 1293.5,-144\"/>\r\n",
       "<text text-anchor=\"start\" x=\"1125.5\" y=\"-123.3\" font-family=\"Times New Roman,serif\" font-weight=\"bold\" font-size=\"14.00\">面積（㎡）_num</text>\r\n",
       "<text text-anchor=\"start\" x=\"1231.5\" y=\"-123.3\" font-family=\"Times New Roman,serif\" font-size=\"14.00\"> ≤</text>\r\n",
       "<text text-anchor=\"start\" x=\"1243.5\" y=\"-123.3\" font-family=\"Times New Roman,serif\" font-weight=\"bold\" font-size=\"14.00\">67.500</text>\r\n",
       "</g>\r\n",
       "<!-- split4&#45;&gt;split9 -->\r\n",
       "<g id=\"edge58\" class=\"edge\"><title>split4&#45;&gt;split9</title>\r\n",
       "<path fill=\"none\" stroke=\"black\" d=\"M598.058,-215.637C601.753,-215.083 605.411,-214.536 609,-214 784.509,-187.786 989.182,-157.631 1107.12,-140.296\"/>\r\n",
       "<polygon fill=\"black\" stroke=\"black\" points=\"1107.82,-143.731 1117.2,-138.814 1106.8,-136.805 1107.82,-143.731\"/>\r\n",
       "<text text-anchor=\"middle\" x=\"618.5\" y=\"-217.8\" font-family=\"Times New Roman,serif\" font-size=\"14.00\">no</text>\r\n",
       "</g>\r\n",
       "<!-- split12 -->\r\n",
       "<g id=\"node37\" class=\"node\"><title>split12</title>\r\n",
       "<polygon fill=\"none\" stroke=\"black\" points=\"2468.5,-276 2320.5,-276 2320.5,-240 2468.5,-240 2468.5,-276\"/>\r\n",
       "<text text-anchor=\"start\" x=\"2328.5\" y=\"-255.3\" font-family=\"Times New Roman,serif\" font-weight=\"bold\" font-size=\"14.00\">建築年_year</text>\r\n",
       "<text text-anchor=\"start\" x=\"2406.5\" y=\"-255.3\" font-family=\"Times New Roman,serif\" font-size=\"14.00\"> ≤</text>\r\n",
       "<text text-anchor=\"start\" x=\"2418.5\" y=\"-255.3\" font-family=\"Times New Roman,serif\" font-weight=\"bold\" font-size=\"14.00\">44.500</text>\r\n",
       "</g>\r\n",
       "<!-- split5&#45;&gt;split12 -->\r\n",
       "<g id=\"edge39\" class=\"edge\"><title>split5&#45;&gt;split12</title>\r\n",
       "<path fill=\"none\" stroke=\"black\" d=\"M1293.78,-232.059C1514.74,-237.271 2094,-250.935 2310.38,-256.039\"/>\r\n",
       "<polygon fill=\"black\" stroke=\"black\" points=\"2310.33,-259.539 2320.41,-256.276 2310.49,-252.541 2310.33,-259.539\"/>\r\n",
       "<text text-anchor=\"middle\" x=\"1792.5\" y=\"-247.8\" font-family=\"Times New Roman,serif\" font-size=\"14.00\">yes</text>\r\n",
       "</g>\r\n",
       "<!-- split11 -->\r\n",
       "<g id=\"node44\" class=\"node\"><title>split11</title>\r\n",
       "<polygon fill=\"none\" stroke=\"black\" points=\"2490.5,-236 2298.5,-236 2298.5,-200 2490.5,-200 2490.5,-236\"/>\r\n",
       "<text text-anchor=\"start\" x=\"2306.5\" y=\"-215.3\" font-family=\"Times New Roman,serif\" font-weight=\"bold\" font-size=\"14.00\">市区町村コード</text>\r\n",
       "<text text-anchor=\"start\" x=\"2406.5\" y=\"-215.3\" font-family=\"Times New Roman,serif\" font-size=\"14.00\"> ≤</text>\r\n",
       "<text text-anchor=\"start\" x=\"2418.5\" y=\"-215.3\" font-family=\"Times New Roman,serif\" font-weight=\"bold\" font-size=\"14.00\">13117.500</text>\r\n",
       "</g>\r\n",
       "<!-- split5&#45;&gt;split11 -->\r\n",
       "<g id=\"edge48\" class=\"edge\"><title>split5&#45;&gt;split11</title>\r\n",
       "<path fill=\"none\" stroke=\"black\" d=\"M1293.78,-229.118C1507.57,-226.956 2056.8,-221.404 2288.21,-219.064\"/>\r\n",
       "<polygon fill=\"black\" stroke=\"black\" points=\"2288.35,-222.563 2298.31,-218.962 2288.28,-215.564 2288.35,-222.563\"/>\r\n",
       "<text text-anchor=\"middle\" x=\"1792.5\" y=\"-228.8\" font-family=\"Times New Roman,serif\" font-size=\"14.00\">no</text>\r\n",
       "</g>\r\n",
       "<!-- split16 -->\r\n",
       "<g id=\"node38\" class=\"node\"><title>split16</title>\r\n",
       "<polygon fill=\"none\" stroke=\"black\" points=\"4105,-316 3017,-316 3017,-280 4105,-280 4105,-316\"/>\r\n",
       "<text text-anchor=\"start\" x=\"3025\" y=\"-295.3\" font-family=\"Times New Roman,serif\" font-weight=\"bold\" font-size=\"14.00\">最寄駅：名称</text>\r\n",
       "<text text-anchor=\"start\" x=\"3111\" y=\"-295.3\" font-family=\"Times New Roman,serif\" font-size=\"14.00\"> =</text>\r\n",
       "<text text-anchor=\"start\" x=\"3124\" y=\"-295.3\" font-family=\"Times New Roman,serif\" font-weight=\"bold\" font-size=\"14.00\">11||35||52||90||241||437||725||771||822||883||898||925||999||1213||1302||1345||1575||1601||1635||1774||1776||1896||2055||2096||2394||2505||2509||2534||2571||3063||3258||3309</text>\r\n",
       "</g>\r\n",
       "<!-- split12&#45;&gt;split16 -->\r\n",
       "<g id=\"edge37\" class=\"edge\"><title>split12&#45;&gt;split16</title>\r\n",
       "<path fill=\"none\" stroke=\"black\" d=\"M2468.79,-260.517C2581.74,-264.397 2808.16,-272.175 3025.62,-279.644\"/>\r\n",
       "<polygon fill=\"black\" stroke=\"black\" points=\"3025.52,-283.143 3035.64,-279.988 3025.76,-276.147 3025.52,-283.143\"/>\r\n",
       "<text text-anchor=\"middle\" x=\"2996.5\" y=\"-282.8\" font-family=\"Times New Roman,serif\" font-size=\"14.00\">yes</text>\r\n",
       "</g>\r\n",
       "<!-- leaf13 -->\r\n",
       "<g id=\"node43\" class=\"node\"><title>leaf13</title>\r\n",
       "<ellipse fill=\"none\" stroke=\"black\" cx=\"3561\" cy=\"-258\" rx=\"64.189\" ry=\"18\"/>\r\n",
       "<text text-anchor=\"start\" x=\"3519.5\" y=\"-255.3\" font-family=\"Times New Roman,serif\" font-size=\"14.00\">leaf 13: </text>\r\n",
       "<text text-anchor=\"start\" x=\"3563.5\" y=\"-255.3\" font-family=\"Times New Roman,serif\" font-weight=\"bold\" font-size=\"14.00\">&#45;0.043</text>\r\n",
       "</g>\r\n",
       "<!-- split12&#45;&gt;leaf13 -->\r\n",
       "<g id=\"edge38\" class=\"edge\"><title>split12&#45;&gt;leaf13</title>\r\n",
       "<path fill=\"none\" stroke=\"black\" d=\"M2468.79,-258C2677.93,-258 3276.03,-258 3486.02,-258\"/>\r\n",
       "<polygon fill=\"black\" stroke=\"black\" points=\"3486.32,-261.5 3496.32,-258 3486.32,-254.5 3486.32,-261.5\"/>\r\n",
       "<text text-anchor=\"middle\" x=\"2996.5\" y=\"-261.8\" font-family=\"Times New Roman,serif\" font-size=\"14.00\">no</text>\r\n",
       "</g>\r\n",
       "<!-- leaf2 -->\r\n",
       "<g id=\"node39\" class=\"node\"><title>leaf2</title>\r\n",
       "<ellipse fill=\"none\" stroke=\"black\" cx=\"4712.5\" cy=\"-338\" rx=\"56.59\" ry=\"18\"/>\r\n",
       "<text text-anchor=\"start\" x=\"4677\" y=\"-335.3\" font-family=\"Times New Roman,serif\" font-size=\"14.00\">leaf 2: </text>\r\n",
       "<text text-anchor=\"start\" x=\"4714\" y=\"-335.3\" font-family=\"Times New Roman,serif\" font-weight=\"bold\" font-size=\"14.00\">0.009</text>\r\n",
       "</g>\r\n",
       "<!-- split16&#45;&gt;leaf2 -->\r\n",
       "<g id=\"edge33\" class=\"edge\"><title>split16&#45;&gt;leaf2</title>\r\n",
       "<path fill=\"none\" stroke=\"black\" d=\"M4079.58,-316.011C4301.78,-323.743 4535.48,-331.875 4646.09,-335.724\"/>\r\n",
       "<polygon fill=\"black\" stroke=\"black\" points=\"4645.97,-339.222 4656.08,-336.072 4646.21,-332.226 4645.97,-339.222\"/>\r\n",
       "<text text-anchor=\"middle\" x=\"4125.5\" y=\"-321.8\" font-family=\"Times New Roman,serif\" font-size=\"14.00\">yes</text>\r\n",
       "</g>\r\n",
       "<!-- split27 -->\r\n",
       "<g id=\"node40\" class=\"node\"><title>split27</title>\r\n",
       "<polygon fill=\"none\" stroke=\"black\" points=\"5279,-316 4146,-316 4146,-280 5279,-280 5279,-316\"/>\r\n",
       "<text text-anchor=\"start\" x=\"4154\" y=\"-295.3\" font-family=\"Times New Roman,serif\" font-weight=\"bold\" font-size=\"14.00\">最寄駅：名称</text>\r\n",
       "<text text-anchor=\"start\" x=\"4240\" y=\"-295.3\" font-family=\"Times New Roman,serif\" font-size=\"14.00\"> =</text>\r\n",
       "<text text-anchor=\"start\" x=\"4253\" y=\"-295.3\" font-family=\"Times New Roman,serif\" font-weight=\"bold\" font-size=\"14.00\">1||507||548||580||848||863||929||932||939||1417||1433||1437||1454||1502||1782||1828||1831||2559||2631||2759||2798||2944||3096||3179||3200||3317||3381||3425||3497||3531||3650||3847</text>\r\n",
       "</g>\r\n",
       "<!-- split16&#45;&gt;split27 -->\r\n",
       "<g id=\"edge36\" class=\"edge\"><title>split16&#45;&gt;split27</title>\r\n",
       "<path fill=\"none\" stroke=\"black\" d=\"M4105.19,-298C4115.32,-298 4125.47,-298 4135.62,-298\"/>\r\n",
       "<polygon fill=\"black\" stroke=\"black\" points=\"4135.76,-301.5 4145.76,-298 4135.76,-294.5 4135.76,-301.5\"/>\r\n",
       "<text text-anchor=\"middle\" x=\"4125.5\" y=\"-301.8\" font-family=\"Times New Roman,serif\" font-size=\"14.00\">no</text>\r\n",
       "</g>\r\n",
       "<!-- leaf17 -->\r\n",
       "<g id=\"node41\" class=\"node\"><title>leaf17</title>\r\n",
       "<ellipse fill=\"none\" stroke=\"black\" cx=\"5854\" cy=\"-318\" rx=\"64.189\" ry=\"18\"/>\r\n",
       "<text text-anchor=\"start\" x=\"5812.5\" y=\"-315.3\" font-family=\"Times New Roman,serif\" font-size=\"14.00\">leaf 17: </text>\r\n",
       "<text text-anchor=\"start\" x=\"5856.5\" y=\"-315.3\" font-family=\"Times New Roman,serif\" font-weight=\"bold\" font-size=\"14.00\">&#45;0.045</text>\r\n",
       "</g>\r\n",
       "<!-- split27&#45;&gt;leaf17 -->\r\n",
       "<g id=\"edge34\" class=\"edge\"><title>split27&#45;&gt;leaf17</title>\r\n",
       "<path fill=\"none\" stroke=\"black\" d=\"M5279.08,-307.927C5477.11,-311.403 5675.82,-314.89 5779.49,-316.71\"/>\r\n",
       "<polygon fill=\"black\" stroke=\"black\" points=\"5779.47,-320.21 5789.53,-316.886 5779.59,-313.211 5779.47,-320.21\"/>\r\n",
       "<text text-anchor=\"middle\" x=\"5299.5\" y=\"-312.8\" font-family=\"Times New Roman,serif\" font-size=\"14.00\">yes</text>\r\n",
       "</g>\r\n",
       "<!-- leaf28 -->\r\n",
       "<g id=\"node42\" class=\"node\"><title>leaf28</title>\r\n",
       "<ellipse fill=\"none\" stroke=\"black\" cx=\"5854\" cy=\"-278\" rx=\"64.189\" ry=\"18\"/>\r\n",
       "<text text-anchor=\"start\" x=\"5812.5\" y=\"-275.3\" font-family=\"Times New Roman,serif\" font-size=\"14.00\">leaf 28: </text>\r\n",
       "<text text-anchor=\"start\" x=\"5856.5\" y=\"-275.3\" font-family=\"Times New Roman,serif\" font-weight=\"bold\" font-size=\"14.00\">&#45;0.019</text>\r\n",
       "</g>\r\n",
       "<!-- split27&#45;&gt;leaf28 -->\r\n",
       "<g id=\"edge35\" class=\"edge\"><title>split27&#45;&gt;leaf28</title>\r\n",
       "<path fill=\"none\" stroke=\"black\" d=\"M5279.08,-288.073C5477.11,-284.597 5675.82,-281.11 5779.49,-279.29\"/>\r\n",
       "<polygon fill=\"black\" stroke=\"black\" points=\"5779.59,-282.789 5789.53,-279.114 5779.47,-275.79 5779.59,-282.789\"/>\r\n",
       "<text text-anchor=\"middle\" x=\"5299.5\" y=\"-291.8\" font-family=\"Times New Roman,serif\" font-size=\"14.00\">no</text>\r\n",
       "</g>\r\n",
       "<!-- split21 -->\r\n",
       "<g id=\"node45\" class=\"node\"><title>split21</title>\r\n",
       "<polygon fill=\"none\" stroke=\"black\" points=\"3649,-236 3473,-236 3473,-200 3649,-200 3649,-236\"/>\r\n",
       "<text text-anchor=\"start\" x=\"3481\" y=\"-215.3\" font-family=\"Times New Roman,serif\" font-weight=\"bold\" font-size=\"14.00\">面積（㎡）_num</text>\r\n",
       "<text text-anchor=\"start\" x=\"3587\" y=\"-215.3\" font-family=\"Times New Roman,serif\" font-size=\"14.00\"> ≤</text>\r\n",
       "<text text-anchor=\"start\" x=\"3599\" y=\"-215.3\" font-family=\"Times New Roman,serif\" font-weight=\"bold\" font-size=\"14.00\">62.500</text>\r\n",
       "</g>\r\n",
       "<!-- split11&#45;&gt;split21 -->\r\n",
       "<g id=\"edge42\" class=\"edge\"><title>split11&#45;&gt;split21</title>\r\n",
       "<path fill=\"none\" stroke=\"black\" d=\"M2490.8,-218C2708.82,-218 3242.11,-218 3462.37,-218\"/>\r\n",
       "<polygon fill=\"black\" stroke=\"black\" points=\"3462.62,-221.5 3472.62,-218 3462.62,-214.5 3462.62,-221.5\"/>\r\n",
       "<text text-anchor=\"middle\" x=\"2996.5\" y=\"-221.8\" font-family=\"Times New Roman,serif\" font-size=\"14.00\">yes</text>\r\n",
       "</g>\r\n",
       "<!-- split13 -->\r\n",
       "<g id=\"node48\" class=\"node\"><title>split13</title>\r\n",
       "<polygon fill=\"none\" stroke=\"black\" points=\"3649,-196 3473,-196 3473,-160 3649,-160 3649,-196\"/>\r\n",
       "<text text-anchor=\"start\" x=\"3481\" y=\"-175.3\" font-family=\"Times New Roman,serif\" font-weight=\"bold\" font-size=\"14.00\">面積（㎡）_num</text>\r\n",
       "<text text-anchor=\"start\" x=\"3587\" y=\"-175.3\" font-family=\"Times New Roman,serif\" font-size=\"14.00\"> ≤</text>\r\n",
       "<text text-anchor=\"start\" x=\"3599\" y=\"-175.3\" font-family=\"Times New Roman,serif\" font-weight=\"bold\" font-size=\"14.00\">57.500</text>\r\n",
       "</g>\r\n",
       "<!-- split11&#45;&gt;split13 -->\r\n",
       "<g id=\"edge47\" class=\"edge\"><title>split11&#45;&gt;split13</title>\r\n",
       "<path fill=\"none\" stroke=\"black\" d=\"M2490.8,-214.727C2708.82,-207.237 3242.11,-188.919 3462.37,-181.354\"/>\r\n",
       "<polygon fill=\"black\" stroke=\"black\" points=\"3462.74,-184.843 3472.62,-181.002 3462.5,-177.847 3462.74,-184.843\"/>\r\n",
       "<text text-anchor=\"middle\" x=\"2996.5\" y=\"-201.8\" font-family=\"Times New Roman,serif\" font-size=\"14.00\">no</text>\r\n",
       "</g>\r\n",
       "<!-- leaf6 -->\r\n",
       "<g id=\"node46\" class=\"node\"><title>leaf6</title>\r\n",
       "<ellipse fill=\"none\" stroke=\"black\" cx=\"4712.5\" cy=\"-258\" rx=\"56.59\" ry=\"18\"/>\r\n",
       "<text text-anchor=\"start\" x=\"4677\" y=\"-255.3\" font-family=\"Times New Roman,serif\" font-size=\"14.00\">leaf 6: </text>\r\n",
       "<text text-anchor=\"start\" x=\"4714\" y=\"-255.3\" font-family=\"Times New Roman,serif\" font-weight=\"bold\" font-size=\"14.00\">0.014</text>\r\n",
       "</g>\r\n",
       "<!-- split21&#45;&gt;leaf6 -->\r\n",
       "<g id=\"edge40\" class=\"edge\"><title>split21&#45;&gt;leaf6</title>\r\n",
       "<path fill=\"none\" stroke=\"black\" d=\"M3649.34,-221.039C3870.8,-228.746 4450.52,-248.918 4646.03,-255.722\"/>\r\n",
       "<polygon fill=\"black\" stroke=\"black\" points=\"4646.04,-259.224 4656.15,-256.074 4646.28,-252.228 4646.04,-259.224\"/>\r\n",
       "<text text-anchor=\"middle\" x=\"4125.5\" y=\"-241.8\" font-family=\"Times New Roman,serif\" font-size=\"14.00\">yes</text>\r\n",
       "</g>\r\n",
       "<!-- leaf22 -->\r\n",
       "<g id=\"node47\" class=\"node\"><title>leaf22</title>\r\n",
       "<ellipse fill=\"none\" stroke=\"black\" cx=\"4712.5\" cy=\"-218\" rx=\"61.1893\" ry=\"18\"/>\r\n",
       "<text text-anchor=\"start\" x=\"4673.5\" y=\"-215.3\" font-family=\"Times New Roman,serif\" font-size=\"14.00\">leaf 22: </text>\r\n",
       "<text text-anchor=\"start\" x=\"4717.5\" y=\"-215.3\" font-family=\"Times New Roman,serif\" font-weight=\"bold\" font-size=\"14.00\">0.040</text>\r\n",
       "</g>\r\n",
       "<!-- split21&#45;&gt;leaf22 -->\r\n",
       "<g id=\"edge41\" class=\"edge\"><title>split21&#45;&gt;leaf22</title>\r\n",
       "<path fill=\"none\" stroke=\"black\" d=\"M3649.34,-218C3868.98,-218 4441.01,-218 4641.13,-218\"/>\r\n",
       "<polygon fill=\"black\" stroke=\"black\" points=\"4641.23,-221.5 4651.23,-218 4641.23,-214.5 4641.23,-221.5\"/>\r\n",
       "<text text-anchor=\"middle\" x=\"4125.5\" y=\"-221.8\" font-family=\"Times New Roman,serif\" font-size=\"14.00\">no</text>\r\n",
       "</g>\r\n",
       "<!-- split25 -->\r\n",
       "<g id=\"node49\" class=\"node\"><title>split25</title>\r\n",
       "<polygon fill=\"none\" stroke=\"black\" points=\"5243,-196 4182,-196 4182,-160 5243,-160 5243,-196\"/>\r\n",
       "<text text-anchor=\"start\" x=\"4190\" y=\"-175.3\" font-family=\"Times New Roman,serif\" font-weight=\"bold\" font-size=\"14.00\">地区名</text>\r\n",
       "<text text-anchor=\"start\" x=\"4233\" y=\"-175.3\" font-family=\"Times New Roman,serif\" font-size=\"14.00\"> =</text>\r\n",
       "<text text-anchor=\"start\" x=\"4246\" y=\"-175.3\" font-family=\"Times New Roman,serif\" font-weight=\"bold\" font-size=\"14.00\">301||361||560||790||1539||1850||2414||2878||5319||5830||6042||6579||7015||7065||7348||7530||7698||7924||8322||8749||8807||9055||9273||9310||9592||9980||10105||11355||11996</text>\r\n",
       "</g>\r\n",
       "<!-- split13&#45;&gt;split25 -->\r\n",
       "<g id=\"edge45\" class=\"edge\"><title>split13&#45;&gt;split25</title>\r\n",
       "<path fill=\"none\" stroke=\"black\" d=\"M3649.34,-178C3762.76,-178 3970.14,-178 4171.75,-178\"/>\r\n",
       "<polygon fill=\"black\" stroke=\"black\" points=\"4171.96,-181.5 4181.96,-178 4171.96,-174.5 4171.96,-181.5\"/>\r\n",
       "<text text-anchor=\"middle\" x=\"4125.5\" y=\"-181.8\" font-family=\"Times New Roman,serif\" font-size=\"14.00\">yes</text>\r\n",
       "</g>\r\n",
       "<!-- leaf14 -->\r\n",
       "<g id=\"node52\" class=\"node\"><title>leaf14</title>\r\n",
       "<ellipse fill=\"none\" stroke=\"black\" cx=\"4712.5\" cy=\"-138\" rx=\"61.1893\" ry=\"18\"/>\r\n",
       "<text text-anchor=\"start\" x=\"4673.5\" y=\"-135.3\" font-family=\"Times New Roman,serif\" font-size=\"14.00\">leaf 14: </text>\r\n",
       "<text text-anchor=\"start\" x=\"4717.5\" y=\"-135.3\" font-family=\"Times New Roman,serif\" font-weight=\"bold\" font-size=\"14.00\">0.011</text>\r\n",
       "</g>\r\n",
       "<!-- split13&#45;&gt;leaf14 -->\r\n",
       "<g id=\"edge46\" class=\"edge\"><title>split13&#45;&gt;leaf14</title>\r\n",
       "<path fill=\"none\" stroke=\"black\" d=\"M3649.34,-174.961C3869.11,-167.313 4441.68,-147.389 4641.48,-140.436\"/>\r\n",
       "<polygon fill=\"black\" stroke=\"black\" points=\"4641.69,-143.931 4651.56,-140.086 4641.45,-136.936 4641.69,-143.931\"/>\r\n",
       "<text text-anchor=\"middle\" x=\"4125.5\" y=\"-162.8\" font-family=\"Times New Roman,serif\" font-size=\"14.00\">no</text>\r\n",
       "</g>\r\n",
       "<!-- leaf12 -->\r\n",
       "<g id=\"node50\" class=\"node\"><title>leaf12</title>\r\n",
       "<ellipse fill=\"none\" stroke=\"black\" cx=\"5854\" cy=\"-198\" rx=\"64.189\" ry=\"18\"/>\r\n",
       "<text text-anchor=\"start\" x=\"5812.5\" y=\"-195.3\" font-family=\"Times New Roman,serif\" font-size=\"14.00\">leaf 12: </text>\r\n",
       "<text text-anchor=\"start\" x=\"5856.5\" y=\"-195.3\" font-family=\"Times New Roman,serif\" font-weight=\"bold\" font-size=\"14.00\">&#45;0.040</text>\r\n",
       "</g>\r\n",
       "<!-- split25&#45;&gt;leaf12 -->\r\n",
       "<g id=\"edge43\" class=\"edge\"><title>split25&#45;&gt;leaf12</title>\r\n",
       "<path fill=\"none\" stroke=\"black\" d=\"M5243.22,-187.297C5452.67,-190.974 5669.37,-194.777 5779.35,-196.707\"/>\r\n",
       "<polygon fill=\"black\" stroke=\"black\" points=\"5779.59,-200.212 5789.65,-196.888 5779.72,-193.213 5779.59,-200.212\"/>\r\n",
       "<text text-anchor=\"middle\" x=\"5299.5\" y=\"-192.8\" font-family=\"Times New Roman,serif\" font-size=\"14.00\">yes</text>\r\n",
       "</g>\r\n",
       "<!-- leaf26 -->\r\n",
       "<g id=\"node51\" class=\"node\"><title>leaf26</title>\r\n",
       "<ellipse fill=\"none\" stroke=\"black\" cx=\"5854\" cy=\"-158\" rx=\"64.189\" ry=\"18\"/>\r\n",
       "<text text-anchor=\"start\" x=\"5812.5\" y=\"-155.3\" font-family=\"Times New Roman,serif\" font-size=\"14.00\">leaf 26: </text>\r\n",
       "<text text-anchor=\"start\" x=\"5856.5\" y=\"-155.3\" font-family=\"Times New Roman,serif\" font-weight=\"bold\" font-size=\"14.00\">&#45;0.006</text>\r\n",
       "</g>\r\n",
       "<!-- split25&#45;&gt;leaf26 -->\r\n",
       "<g id=\"edge44\" class=\"edge\"><title>split25&#45;&gt;leaf26</title>\r\n",
       "<path fill=\"none\" stroke=\"black\" d=\"M5243.22,-168.703C5452.67,-165.026 5669.37,-161.223 5779.35,-159.293\"/>\r\n",
       "<polygon fill=\"black\" stroke=\"black\" points=\"5779.72,-162.787 5789.65,-159.112 5779.59,-155.788 5779.72,-162.787\"/>\r\n",
       "<text text-anchor=\"middle\" x=\"5299.5\" y=\"-171.8\" font-family=\"Times New Roman,serif\" font-size=\"14.00\">no</text>\r\n",
       "</g>\r\n",
       "<!-- split22 -->\r\n",
       "<g id=\"node54\" class=\"node\"><title>split22</title>\r\n",
       "<polygon fill=\"none\" stroke=\"black\" points=\"2932.5,-144 1856.5,-144 1856.5,-108 2932.5,-108 2932.5,-144\"/>\r\n",
       "<text text-anchor=\"start\" x=\"1864.5\" y=\"-123.3\" font-family=\"Times New Roman,serif\" font-weight=\"bold\" font-size=\"14.00\">地区名</text>\r\n",
       "<text text-anchor=\"start\" x=\"1907.5\" y=\"-123.3\" font-family=\"Times New Roman,serif\" font-size=\"14.00\"> =</text>\r\n",
       "<text text-anchor=\"start\" x=\"1920.5\" y=\"-123.3\" font-family=\"Times New Roman,serif\" font-weight=\"bold\" font-size=\"14.00\">67||85||238||239||612||1001||2020||4331||4503||4741||5063||6481||6949||8255||8413||8460||8852||9111||9664||9891||9966||10126||10144||10366||10447||10484||11043||11363||11721</text>\r\n",
       "</g>\r\n",
       "<!-- split9&#45;&gt;split22 -->\r\n",
       "<g id=\"edge54\" class=\"edge\"><title>split9&#45;&gt;split22</title>\r\n",
       "<path fill=\"none\" stroke=\"black\" d=\"M1293.78,-126C1412.1,-126 1633.16,-126 1846.22,-126\"/>\r\n",
       "<polygon fill=\"black\" stroke=\"black\" points=\"1846.36,-129.5 1856.36,-126 1846.36,-122.5 1846.36,-129.5\"/>\r\n",
       "<text text-anchor=\"middle\" x=\"1792.5\" y=\"-129.8\" font-family=\"Times New Roman,serif\" font-size=\"14.00\">yes</text>\r\n",
       "</g>\r\n",
       "<!-- split24 -->\r\n",
       "<g id=\"node59\" class=\"node\"><title>split24</title>\r\n",
       "<polygon fill=\"none\" stroke=\"black\" points=\"2482.5,-76 2306.5,-76 2306.5,-40 2482.5,-40 2482.5,-76\"/>\r\n",
       "<text text-anchor=\"start\" x=\"2314.5\" y=\"-55.3\" font-family=\"Times New Roman,serif\" font-weight=\"bold\" font-size=\"14.00\">面積（㎡）_num</text>\r\n",
       "<text text-anchor=\"start\" x=\"2420.5\" y=\"-55.3\" font-family=\"Times New Roman,serif\" font-size=\"14.00\"> ≤</text>\r\n",
       "<text text-anchor=\"start\" x=\"2432.5\" y=\"-55.3\" font-family=\"Times New Roman,serif\" font-weight=\"bold\" font-size=\"14.00\">82.500</text>\r\n",
       "</g>\r\n",
       "<!-- split9&#45;&gt;split24 -->\r\n",
       "<g id=\"edge57\" class=\"edge\"><title>split9&#45;&gt;split24</title>\r\n",
       "<path fill=\"none\" stroke=\"black\" d=\"M1293.78,-121C1510.1,-108.607 2069.85,-76.541 2296.29,-63.569\"/>\r\n",
       "<polygon fill=\"black\" stroke=\"black\" points=\"2296.71,-67.0508 2306.49,-62.9845 2296.31,-60.0623 2296.71,-67.0508\"/>\r\n",
       "<text text-anchor=\"middle\" x=\"1792.5\" y=\"-96.8\" font-family=\"Times New Roman,serif\" font-size=\"14.00\">no</text>\r\n",
       "</g>\r\n",
       "<!-- leaf5 -->\r\n",
       "<g id=\"node55\" class=\"node\"><title>leaf5</title>\r\n",
       "<ellipse fill=\"none\" stroke=\"black\" cx=\"3561\" cy=\"-138\" rx=\"59.5901\" ry=\"18\"/>\r\n",
       "<text text-anchor=\"start\" x=\"3523\" y=\"-135.3\" font-family=\"Times New Roman,serif\" font-size=\"14.00\">leaf 5: </text>\r\n",
       "<text text-anchor=\"start\" x=\"3560\" y=\"-135.3\" font-family=\"Times New Roman,serif\" font-weight=\"bold\" font-size=\"14.00\">&#45;0.067</text>\r\n",
       "</g>\r\n",
       "<!-- split22&#45;&gt;leaf5 -->\r\n",
       "<g id=\"edge50\" class=\"edge\"><title>split22&#45;&gt;leaf5</title>\r\n",
       "<path fill=\"none\" stroke=\"black\" d=\"M2932.59,-131.535C3152.08,-133.796 3380.18,-136.147 3491.12,-137.29\"/>\r\n",
       "<polygon fill=\"black\" stroke=\"black\" points=\"3491.13,-140.79 3501.17,-137.394 3491.2,-133.791 3491.13,-140.79\"/>\r\n",
       "<text text-anchor=\"middle\" x=\"2996.5\" y=\"-136.8\" font-family=\"Times New Roman,serif\" font-size=\"14.00\">yes</text>\r\n",
       "</g>\r\n",
       "<!-- split23 -->\r\n",
       "<g id=\"node56\" class=\"node\"><title>split23</title>\r\n",
       "<polygon fill=\"none\" stroke=\"black\" points=\"3594,-116 3528,-116 3528,-80 3594,-80 3594,-116\"/>\r\n",
       "<text text-anchor=\"start\" x=\"3536\" y=\"-95.3\" font-family=\"Times New Roman,serif\" font-weight=\"bold\" font-size=\"14.00\">改装</text>\r\n",
       "<text text-anchor=\"start\" x=\"3565\" y=\"-95.3\" font-family=\"Times New Roman,serif\" font-size=\"14.00\"> =</text>\r\n",
       "<text text-anchor=\"start\" x=\"3578\" y=\"-95.3\" font-family=\"Times New Roman,serif\" font-weight=\"bold\" font-size=\"14.00\">0</text>\r\n",
       "</g>\r\n",
       "<!-- split22&#45;&gt;split23 -->\r\n",
       "<g id=\"edge53\" class=\"edge\"><title>split22&#45;&gt;split23</title>\r\n",
       "<path fill=\"none\" stroke=\"black\" d=\"M2932.59,-113.086C3171.45,-107.343 3420.51,-101.354 3517.67,-99.0178\"/>\r\n",
       "<polygon fill=\"black\" stroke=\"black\" points=\"3518.03,-102.51 3527.95,-98.7707 3517.87,-95.5122 3518.03,-102.51\"/>\r\n",
       "<text text-anchor=\"middle\" x=\"2996.5\" y=\"-115.8\" font-family=\"Times New Roman,serif\" font-size=\"14.00\">no</text>\r\n",
       "</g>\r\n",
       "<!-- leaf23 -->\r\n",
       "<g id=\"node57\" class=\"node\"><title>leaf23</title>\r\n",
       "<ellipse fill=\"none\" stroke=\"black\" cx=\"4712.5\" cy=\"-98\" rx=\"64.189\" ry=\"18\"/>\r\n",
       "<text text-anchor=\"start\" x=\"4671\" y=\"-95.3\" font-family=\"Times New Roman,serif\" font-size=\"14.00\">leaf 23: </text>\r\n",
       "<text text-anchor=\"start\" x=\"4715\" y=\"-95.3\" font-family=\"Times New Roman,serif\" font-weight=\"bold\" font-size=\"14.00\">&#45;0.017</text>\r\n",
       "</g>\r\n",
       "<!-- split23&#45;&gt;leaf23 -->\r\n",
       "<g id=\"edge51\" class=\"edge\"><title>split23&#45;&gt;leaf23</title>\r\n",
       "<path fill=\"none\" stroke=\"black\" d=\"M3594.25,-98C3748.58,-98 4413.56,-98 4637.54,-98\"/>\r\n",
       "<polygon fill=\"black\" stroke=\"black\" points=\"4637.87,-101.5 4647.87,-98 4637.87,-94.5001 4637.87,-101.5\"/>\r\n",
       "<text text-anchor=\"middle\" x=\"4125.5\" y=\"-101.8\" font-family=\"Times New Roman,serif\" font-size=\"14.00\">yes</text>\r\n",
       "</g>\r\n",
       "<!-- leaf24 -->\r\n",
       "<g id=\"node58\" class=\"node\"><title>leaf24</title>\r\n",
       "<ellipse fill=\"none\" stroke=\"black\" cx=\"4712.5\" cy=\"-58\" rx=\"64.189\" ry=\"18\"/>\r\n",
       "<text text-anchor=\"start\" x=\"4671\" y=\"-55.3\" font-family=\"Times New Roman,serif\" font-size=\"14.00\">leaf 24: </text>\r\n",
       "<text text-anchor=\"start\" x=\"4715\" y=\"-55.3\" font-family=\"Times New Roman,serif\" font-weight=\"bold\" font-size=\"14.00\">&#45;0.030</text>\r\n",
       "</g>\r\n",
       "<!-- split23&#45;&gt;leaf24 -->\r\n",
       "<g id=\"edge52\" class=\"edge\"><title>split23&#45;&gt;leaf24</title>\r\n",
       "<path fill=\"none\" stroke=\"black\" d=\"M3594.25,-96.8779C3748.76,-91.5011 4415.11,-68.3139 4638.32,-60.5466\"/>\r\n",
       "<polygon fill=\"black\" stroke=\"black\" points=\"4638.74,-64.0343 4648.61,-60.1885 4638.49,-57.0385 4638.74,-64.0343\"/>\r\n",
       "<text text-anchor=\"middle\" x=\"4125.5\" y=\"-82.8\" font-family=\"Times New Roman,serif\" font-size=\"14.00\">no</text>\r\n",
       "</g>\r\n",
       "<!-- leaf10 -->\r\n",
       "<g id=\"node60\" class=\"node\"><title>leaf10</title>\r\n",
       "<ellipse fill=\"none\" stroke=\"black\" cx=\"3561\" cy=\"-58\" rx=\"64.189\" ry=\"18\"/>\r\n",
       "<text text-anchor=\"start\" x=\"3519.5\" y=\"-55.3\" font-family=\"Times New Roman,serif\" font-size=\"14.00\">leaf 10: </text>\r\n",
       "<text text-anchor=\"start\" x=\"3563.5\" y=\"-55.3\" font-family=\"Times New Roman,serif\" font-weight=\"bold\" font-size=\"14.00\">&#45;0.014</text>\r\n",
       "</g>\r\n",
       "<!-- split24&#45;&gt;leaf10 -->\r\n",
       "<g id=\"edge55\" class=\"edge\"><title>split24&#45;&gt;leaf10</title>\r\n",
       "<path fill=\"none\" stroke=\"black\" d=\"M2482.55,-58C2703.1,-58 3280.9,-58 3486.26,-58\"/>\r\n",
       "<polygon fill=\"black\" stroke=\"black\" points=\"3486.34,-61.5001 3496.34,-58 3486.34,-54.5001 3486.34,-61.5001\"/>\r\n",
       "<text text-anchor=\"middle\" x=\"2996.5\" y=\"-61.8\" font-family=\"Times New Roman,serif\" font-size=\"14.00\">yes</text>\r\n",
       "</g>\r\n",
       "<!-- leaf25 -->\r\n",
       "<g id=\"node61\" class=\"node\"><title>leaf25</title>\r\n",
       "<ellipse fill=\"none\" stroke=\"black\" cx=\"3561\" cy=\"-18\" rx=\"61.1893\" ry=\"18\"/>\r\n",
       "<text text-anchor=\"start\" x=\"3522\" y=\"-15.3\" font-family=\"Times New Roman,serif\" font-size=\"14.00\">leaf 25: </text>\r\n",
       "<text text-anchor=\"start\" x=\"3566\" y=\"-15.3\" font-family=\"Times New Roman,serif\" font-weight=\"bold\" font-size=\"14.00\">0.002</text>\r\n",
       "</g>\r\n",
       "<!-- split24&#45;&gt;leaf25 -->\r\n",
       "<g id=\"edge56\" class=\"edge\"><title>split24&#45;&gt;leaf25</title>\r\n",
       "<path fill=\"none\" stroke=\"black\" d=\"M2482.55,-55.0099C2704.42,-47.3887 3287.82,-27.3493 3489.9,-20.4079\"/>\r\n",
       "<polygon fill=\"black\" stroke=\"black\" points=\"3490.22,-23.8992 3500.09,-20.0579 3489.98,-16.9033 3490.22,-23.8992\"/>\r\n",
       "<text text-anchor=\"middle\" x=\"2996.5\" y=\"-41.8\" font-family=\"Times New Roman,serif\" font-size=\"14.00\">no</text>\r\n",
       "</g>\r\n",
       "</g>\r\n",
       "</svg>\r\n"
      ],
      "text/plain": [
       "<graphviz.dot.Digraph at 0x21c97950940>"
      ]
     },
     "execution_count": 9,
     "metadata": {},
     "output_type": "execute_result"
    }
   ],
   "source": [
    "#要素の重要度を樹形図で表示\n",
    "lgb.create_tree_digraph(model, 1)"
   ]
  },
  {
   "cell_type": "code",
   "execution_count": null,
   "id": "36a6d64c-10f4-48d0-af1f-fdb43e8867d7",
   "metadata": {},
   "outputs": [],
   "source": []
  },
  {
   "cell_type": "code",
   "execution_count": null,
   "id": "fd2f3dd1-441c-47d4-bbe8-5f350485363a",
   "metadata": {},
   "outputs": [],
   "source": []
  },
  {
   "cell_type": "code",
   "execution_count": null,
   "id": "ab402670-190c-4f9c-b1ea-368d8bbfcfba",
   "metadata": {},
   "outputs": [],
   "source": []
  },
  {
   "cell_type": "code",
   "execution_count": null,
   "id": "1386e2ac-c5ad-49d3-877d-19409a4aa7de",
   "metadata": {},
   "outputs": [],
   "source": []
  },
  {
   "cell_type": "code",
   "execution_count": null,
   "id": "2854b74c-ade1-4778-a4d9-0ff239f87154",
   "metadata": {},
   "outputs": [],
   "source": []
  },
  {
   "cell_type": "code",
   "execution_count": null,
   "id": "26618d64-6524-4eb3-ad8b-8f6462606afa",
   "metadata": {},
   "outputs": [],
   "source": []
  },
  {
   "cell_type": "code",
   "execution_count": 20,
   "id": "817722c8-ef7a-40df-b959-9dc2232adea6",
   "metadata": {},
   "outputs": [
    {
     "name": "stdout",
     "output_type": "stream",
     "text": [
      "Best trial:\n",
      "Value:0.06777531432169094\n",
      "Params:\n",
      "\"num_leaves\" : 71\n",
      "\"max_bin\" : 143\n",
      "\"max_depth\" : 8\n",
      "\"bagging_fraction\" : 0.9198293955571775\n",
      "\"bagging_freq\" : 20\n",
      "\"feature_fraction\" : 0.8279016711963055\n",
      "\"min_data_in_leaf\" : 2\n",
      "\"min_sum_hessian_in_leaf\" : 3\n"
     ]
    }
   ],
   "source": [
    "print('Best trial:')\n",
    "trial = study.best_trial\n",
    "print('Value:{}'.format(trial.value))\n",
    "print('Params:')\n",
    "for key, value in trial.params.items():\n",
    "    print('\"{}\" : {}'.format(key, value))"
   ]
  },
  {
   "cell_type": "code",
   "execution_count": null,
   "id": "6c30c4c3-6638-49a8-9093-d70bc0229668",
   "metadata": {},
   "outputs": [],
   "source": []
  },
  {
   "cell_type": "code",
   "execution_count": null,
   "id": "7d17f457-399d-41a6-852a-69a771ba24a5",
   "metadata": {},
   "outputs": [],
   "source": []
  },
  {
   "cell_type": "code",
   "execution_count": null,
   "id": "38705e98-df0f-46c3-b4a9-97ce0fb1e791",
   "metadata": {},
   "outputs": [],
   "source": []
  },
  {
   "cell_type": "code",
   "execution_count": null,
   "id": "6296da86-cac9-4f7a-b795-ed64efa28ca9",
   "metadata": {},
   "outputs": [],
   "source": []
  },
  {
   "cell_type": "code",
   "execution_count": null,
   "id": "921e689a-79d8-49ae-b7b2-6b70f8f551d3",
   "metadata": {},
   "outputs": [],
   "source": []
  },
  {
   "cell_type": "code",
   "execution_count": null,
   "id": "f8b24bc7-ede0-430f-b9ee-96c6f2d8c343",
   "metadata": {},
   "outputs": [],
   "source": []
  },
  {
   "cell_type": "code",
   "execution_count": null,
   "id": "d6fdc73c-3d34-4683-a493-12ac6fb5e4bd",
   "metadata": {},
   "outputs": [],
   "source": []
  },
  {
   "cell_type": "code",
   "execution_count": null,
   "id": "0171e7fd-8d25-4a9b-bc6e-081a6c2005df",
   "metadata": {},
   "outputs": [],
   "source": []
  },
  {
   "cell_type": "code",
   "execution_count": null,
   "id": "c1588b3f-93aa-48ea-8841-5a01ca098b9b",
   "metadata": {},
   "outputs": [],
   "source": []
  },
  {
   "cell_type": "code",
   "execution_count": null,
   "id": "d3ae8e0d-0d6e-4f1c-bafe-53f7e3f8c8dd",
   "metadata": {},
   "outputs": [],
   "source": []
  },
  {
   "cell_type": "code",
   "execution_count": null,
   "id": "0283d98e-bf39-42f2-9649-9cf3074f382b",
   "metadata": {},
   "outputs": [],
   "source": []
  },
  {
   "cell_type": "code",
   "execution_count": null,
   "id": "33d49275-2015-4316-ab12-2b1b728f818d",
   "metadata": {},
   "outputs": [],
   "source": []
  }
 ],
 "metadata": {
  "kernelspec": {
   "display_name": "Python 3",
   "language": "python",
   "name": "python3"
  },
  "language_info": {
   "codemirror_mode": {
    "name": "ipython",
    "version": 3
   },
   "file_extension": ".py",
   "mimetype": "text/x-python",
   "name": "python",
   "nbconvert_exporter": "python",
   "pygments_lexer": "ipython3",
   "version": "3.8.8"
  },
  "toc-autonumbering": false,
  "toc-showmarkdowntxt": false,
  "toc-showtags": false
 },
 "nbformat": 4,
 "nbformat_minor": 5
}
