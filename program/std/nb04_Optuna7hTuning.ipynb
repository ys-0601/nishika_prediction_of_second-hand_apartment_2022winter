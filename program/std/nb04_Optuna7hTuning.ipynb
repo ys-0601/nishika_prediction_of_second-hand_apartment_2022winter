{
 "cells": [
  {
   "cell_type": "code",
   "execution_count": 1,
   "id": "92aeaa45-7203-49bf-821c-cf403c8e77c9",
   "metadata": {},
   "outputs": [],
   "source": [
    "#ライブラリのインポート\n",
    "import glob\n",
    "import pandas as pd\n",
    "import pandas_profiling as pdp\n",
    "import numpy as np\n",
    "import matplotlib.pyplot as plt\n",
    "import japanize_matplotlib\n",
    "import seaborn as sns\n",
    "import lightgbm as lgb\n",
    "from sklearn.model_selection import train_test_split\n",
    "from sklearn.metrics import mean_absolute_error as mae\n",
    "import df_pre as df_pre\n",
    "import optuna\n",
    "\n",
    "#lgb用\n",
    "import lightgbm as lgb\n",
    "from sklearn.model_selection import train_test_split\n",
    "from sklearn.metrics import mean_absolute_error as mae\n",
    "from sklearn.metrics import mean_squared_error\n",
    "\n",
    "from sklearn.model_selection import KFold\n",
    "import optuna.integration.lightgbm as o_lgb\n",
    "\n",
    "#警告を非表示\n",
    "import warnings\n",
    "warnings.simplefilter('ignore')"
   ]
  },
  {
   "cell_type": "code",
   "execution_count": 2,
   "id": "16e081a3-7b86-42fc-a115-7a16d6c54bb3",
   "metadata": {
    "tags": []
   },
   "outputs": [],
   "source": [
    "#ファイルの読み込み\n",
    "files = glob.glob(\"../../data/train/*.csv\")\n",
    "data_list = []\n",
    "for file in files:\n",
    "    data_list.append(pd.read_csv(file, index_col=0))\n",
    "data_list\n",
    "df = pd.concat(data_list)"
   ]
  },
  {
   "cell_type": "code",
   "execution_count": 3,
   "id": "52d41893-7349-4695-a0b9-8ddbc3479c69",
   "metadata": {
    "collapsed": true,
    "jupyter": {
     "outputs_hidden": true
    },
    "tags": []
   },
   "outputs": [
    {
     "name": "stdout",
     "output_type": "stream",
     "text": [
      "test\n"
     ]
    },
    {
     "data": {
      "text/html": [
       "<div>\n",
       "<style scoped>\n",
       "    .dataframe tbody tr th:only-of-type {\n",
       "        vertical-align: middle;\n",
       "    }\n",
       "\n",
       "    .dataframe tbody tr th {\n",
       "        vertical-align: top;\n",
       "    }\n",
       "\n",
       "    .dataframe thead th {\n",
       "        text-align: right;\n",
       "    }\n",
       "</style>\n",
       "<table border=\"1\" class=\"dataframe\">\n",
       "  <thead>\n",
       "    <tr style=\"text-align: right;\">\n",
       "      <th></th>\n",
       "      <th>市区町村コード</th>\n",
       "      <th>都道府県名_num</th>\n",
       "      <th>地区名</th>\n",
       "      <th>最寄駅：名称</th>\n",
       "      <th>最寄駅：距離（分）_min</th>\n",
       "      <th>間取り</th>\n",
       "      <th>面積（㎡）_num</th>\n",
       "      <th>建築年_year</th>\n",
       "      <th>建物の構造_num</th>\n",
       "      <th>用途</th>\n",
       "      <th>今後の利用目的</th>\n",
       "      <th>都市計画</th>\n",
       "      <th>建ぺい率（％）</th>\n",
       "      <th>容積率（％）</th>\n",
       "      <th>取引時点_num</th>\n",
       "      <th>改装</th>\n",
       "      <th>取引の事情等</th>\n",
       "      <th>取引価格（総額）_log</th>\n",
       "    </tr>\n",
       "    <tr>\n",
       "      <th>ID</th>\n",
       "      <th></th>\n",
       "      <th></th>\n",
       "      <th></th>\n",
       "      <th></th>\n",
       "      <th></th>\n",
       "      <th></th>\n",
       "      <th></th>\n",
       "      <th></th>\n",
       "      <th></th>\n",
       "      <th></th>\n",
       "      <th></th>\n",
       "      <th></th>\n",
       "      <th></th>\n",
       "      <th></th>\n",
       "      <th></th>\n",
       "      <th></th>\n",
       "      <th></th>\n",
       "      <th></th>\n",
       "    </tr>\n",
       "  </thead>\n",
       "  <tbody>\n",
       "    <tr>\n",
       "      <th>1088170</th>\n",
       "      <td>1204</td>\n",
       "      <td>1</td>\n",
       "      <td>７条通</td>\n",
       "      <td>旭川</td>\n",
       "      <td>16.0</td>\n",
       "      <td>２ＤＫ</td>\n",
       "      <td>45</td>\n",
       "      <td>33.0</td>\n",
       "      <td>5.0</td>\n",
       "      <td>住宅</td>\n",
       "      <td>NaN</td>\n",
       "      <td>近隣商業地域</td>\n",
       "      <td>80.0</td>\n",
       "      <td>300.0</td>\n",
       "      <td>2011.99</td>\n",
       "      <td>未改装</td>\n",
       "      <td>NaN</td>\n",
       "      <td>6.740363</td>\n",
       "    </tr>\n",
       "    <tr>\n",
       "      <th>1048405</th>\n",
       "      <td>1106</td>\n",
       "      <td>1</td>\n",
       "      <td>真駒内柏丘</td>\n",
       "      <td>真駒内</td>\n",
       "      <td>25.0</td>\n",
       "      <td>３ＬＤＫ</td>\n",
       "      <td>70</td>\n",
       "      <td>30.0</td>\n",
       "      <td>5.0</td>\n",
       "      <td>住宅</td>\n",
       "      <td>住宅</td>\n",
       "      <td>第１種住居地域</td>\n",
       "      <td>60.0</td>\n",
       "      <td>200.0</td>\n",
       "      <td>2017.50</td>\n",
       "      <td>改装済</td>\n",
       "      <td>NaN</td>\n",
       "      <td>6.875061</td>\n",
       "    </tr>\n",
       "    <tr>\n",
       "      <th>1030233</th>\n",
       "      <td>1104</td>\n",
       "      <td>1</td>\n",
       "      <td>菊水１条</td>\n",
       "      <td>菊水</td>\n",
       "      <td>6.0</td>\n",
       "      <td>４ＬＤＫ</td>\n",
       "      <td>105</td>\n",
       "      <td>14.0</td>\n",
       "      <td>5.0</td>\n",
       "      <td>NaN</td>\n",
       "      <td>住宅</td>\n",
       "      <td>第１種住居地域</td>\n",
       "      <td>60.0</td>\n",
       "      <td>200.0</td>\n",
       "      <td>2020.50</td>\n",
       "      <td>未改装</td>\n",
       "      <td>NaN</td>\n",
       "      <td>7.518514</td>\n",
       "    </tr>\n",
       "    <tr>\n",
       "      <th>1000080</th>\n",
       "      <td>1101</td>\n",
       "      <td>1</td>\n",
       "      <td>大通西</td>\n",
       "      <td>西１１丁目</td>\n",
       "      <td>4.0</td>\n",
       "      <td>３ＬＤＫ</td>\n",
       "      <td>100</td>\n",
       "      <td>17.0</td>\n",
       "      <td>5.0</td>\n",
       "      <td>住宅</td>\n",
       "      <td>住宅</td>\n",
       "      <td>商業地域</td>\n",
       "      <td>80.0</td>\n",
       "      <td>600.0</td>\n",
       "      <td>2019.99</td>\n",
       "      <td>未改装</td>\n",
       "      <td>NaN</td>\n",
       "      <td>7.792392</td>\n",
       "    </tr>\n",
       "    <tr>\n",
       "      <th>1065071</th>\n",
       "      <td>1108</td>\n",
       "      <td>1</td>\n",
       "      <td>大谷地東</td>\n",
       "      <td>ひばりが丘(北海道)</td>\n",
       "      <td>9.0</td>\n",
       "      <td>３ＬＤＫ</td>\n",
       "      <td>75</td>\n",
       "      <td>15.0</td>\n",
       "      <td>5.0</td>\n",
       "      <td>住宅</td>\n",
       "      <td>NaN</td>\n",
       "      <td>近隣商業地域</td>\n",
       "      <td>80.0</td>\n",
       "      <td>300.0</td>\n",
       "      <td>2009.50</td>\n",
       "      <td>未改装</td>\n",
       "      <td>NaN</td>\n",
       "      <td>7.000000</td>\n",
       "    </tr>\n",
       "    <tr>\n",
       "      <th>...</th>\n",
       "      <td>...</td>\n",
       "      <td>...</td>\n",
       "      <td>...</td>\n",
       "      <td>...</td>\n",
       "      <td>...</td>\n",
       "      <td>...</td>\n",
       "      <td>...</td>\n",
       "      <td>...</td>\n",
       "      <td>...</td>\n",
       "      <td>...</td>\n",
       "      <td>...</td>\n",
       "      <td>...</td>\n",
       "      <td>...</td>\n",
       "      <td>...</td>\n",
       "      <td>...</td>\n",
       "      <td>...</td>\n",
       "      <td>...</td>\n",
       "      <td>...</td>\n",
       "    </tr>\n",
       "    <tr>\n",
       "      <th>47014161</th>\n",
       "      <td>47208</td>\n",
       "      <td>47</td>\n",
       "      <td>勢理客</td>\n",
       "      <td>NaN</td>\n",
       "      <td>NaN</td>\n",
       "      <td>３ＬＤＫ</td>\n",
       "      <td>70</td>\n",
       "      <td>20.0</td>\n",
       "      <td>5.0</td>\n",
       "      <td>住宅</td>\n",
       "      <td>NaN</td>\n",
       "      <td>第１種住居地域</td>\n",
       "      <td>60.0</td>\n",
       "      <td>200.0</td>\n",
       "      <td>2010.50</td>\n",
       "      <td>未改装</td>\n",
       "      <td>NaN</td>\n",
       "      <td>7.255273</td>\n",
       "    </tr>\n",
       "    <tr>\n",
       "      <th>47027826</th>\n",
       "      <td>47208</td>\n",
       "      <td>47</td>\n",
       "      <td>牧港</td>\n",
       "      <td>NaN</td>\n",
       "      <td>NaN</td>\n",
       "      <td>３ＬＤＫ</td>\n",
       "      <td>65</td>\n",
       "      <td>24.0</td>\n",
       "      <td>5.0</td>\n",
       "      <td>住宅</td>\n",
       "      <td>NaN</td>\n",
       "      <td>準工業地域</td>\n",
       "      <td>60.0</td>\n",
       "      <td>200.0</td>\n",
       "      <td>2013.99</td>\n",
       "      <td>改装済</td>\n",
       "      <td>NaN</td>\n",
       "      <td>7.278754</td>\n",
       "    </tr>\n",
       "    <tr>\n",
       "      <th>47003754</th>\n",
       "      <td>47208</td>\n",
       "      <td>47</td>\n",
       "      <td>港川</td>\n",
       "      <td>NaN</td>\n",
       "      <td>NaN</td>\n",
       "      <td>３ＬＤＫ</td>\n",
       "      <td>65</td>\n",
       "      <td>17.0</td>\n",
       "      <td>5.0</td>\n",
       "      <td>NaN</td>\n",
       "      <td>その他</td>\n",
       "      <td>商業地域</td>\n",
       "      <td>80.0</td>\n",
       "      <td>400.0</td>\n",
       "      <td>2018.50</td>\n",
       "      <td>改装済</td>\n",
       "      <td>NaN</td>\n",
       "      <td>7.397940</td>\n",
       "    </tr>\n",
       "    <tr>\n",
       "      <th>47005865</th>\n",
       "      <td>47211</td>\n",
       "      <td>47</td>\n",
       "      <td>胡屋</td>\n",
       "      <td>NaN</td>\n",
       "      <td>NaN</td>\n",
       "      <td>２ＬＤＫ</td>\n",
       "      <td>60</td>\n",
       "      <td>37.0</td>\n",
       "      <td>5.0</td>\n",
       "      <td>住宅</td>\n",
       "      <td>住宅</td>\n",
       "      <td>第１種中高層住居専用地域</td>\n",
       "      <td>60.0</td>\n",
       "      <td>200.0</td>\n",
       "      <td>2017.25</td>\n",
       "      <td>未改装</td>\n",
       "      <td>NaN</td>\n",
       "      <td>7.230449</td>\n",
       "    </tr>\n",
       "    <tr>\n",
       "      <th>47027230</th>\n",
       "      <td>47201</td>\n",
       "      <td>47</td>\n",
       "      <td>首里金城町</td>\n",
       "      <td>首里</td>\n",
       "      <td>15.0</td>\n",
       "      <td>４ＬＤＫ</td>\n",
       "      <td>85</td>\n",
       "      <td>23.0</td>\n",
       "      <td>5.0</td>\n",
       "      <td>住宅</td>\n",
       "      <td>NaN</td>\n",
       "      <td>第１種低層住居専用地域</td>\n",
       "      <td>50.0</td>\n",
       "      <td>100.0</td>\n",
       "      <td>2013.75</td>\n",
       "      <td>改装済</td>\n",
       "      <td>NaN</td>\n",
       "      <td>7.342423</td>\n",
       "    </tr>\n",
       "  </tbody>\n",
       "</table>\n",
       "<p>692882 rows × 18 columns</p>\n",
       "</div>"
      ],
      "text/plain": [
       "          市区町村コード  都道府県名_num    地区名      最寄駅：名称  最寄駅：距離（分）_min   間取り  \\\n",
       "ID                                                                     \n",
       "1088170      1204          1    ７条通          旭川           16.0   ２ＤＫ   \n",
       "1048405      1106          1  真駒内柏丘         真駒内           25.0  ３ＬＤＫ   \n",
       "1030233      1104          1   菊水１条          菊水            6.0  ４ＬＤＫ   \n",
       "1000080      1101          1    大通西       西１１丁目            4.0  ３ＬＤＫ   \n",
       "1065071      1108          1   大谷地東  ひばりが丘(北海道)            9.0  ３ＬＤＫ   \n",
       "...           ...        ...    ...         ...            ...   ...   \n",
       "47014161    47208         47    勢理客         NaN            NaN  ３ＬＤＫ   \n",
       "47027826    47208         47     牧港         NaN            NaN  ３ＬＤＫ   \n",
       "47003754    47208         47     港川         NaN            NaN  ３ＬＤＫ   \n",
       "47005865    47211         47     胡屋         NaN            NaN  ２ＬＤＫ   \n",
       "47027230    47201         47  首里金城町          首里           15.0  ４ＬＤＫ   \n",
       "\n",
       "          面積（㎡）_num  建築年_year  建物の構造_num   用途 今後の利用目的          都市計画  建ぺい率（％）  \\\n",
       "ID                                                                             \n",
       "1088170          45      33.0        5.0   住宅     NaN        近隣商業地域     80.0   \n",
       "1048405          70      30.0        5.0   住宅      住宅       第１種住居地域     60.0   \n",
       "1030233         105      14.0        5.0  NaN      住宅       第１種住居地域     60.0   \n",
       "1000080         100      17.0        5.0   住宅      住宅          商業地域     80.0   \n",
       "1065071          75      15.0        5.0   住宅     NaN        近隣商業地域     80.0   \n",
       "...             ...       ...        ...  ...     ...           ...      ...   \n",
       "47014161         70      20.0        5.0   住宅     NaN       第１種住居地域     60.0   \n",
       "47027826         65      24.0        5.0   住宅     NaN         準工業地域     60.0   \n",
       "47003754         65      17.0        5.0  NaN     その他          商業地域     80.0   \n",
       "47005865         60      37.0        5.0   住宅      住宅  第１種中高層住居専用地域     60.0   \n",
       "47027230         85      23.0        5.0   住宅     NaN   第１種低層住居専用地域     50.0   \n",
       "\n",
       "          容積率（％）  取引時点_num   改装 取引の事情等  取引価格（総額）_log  \n",
       "ID                                                    \n",
       "1088170    300.0   2011.99  未改装    NaN      6.740363  \n",
       "1048405    200.0   2017.50  改装済    NaN      6.875061  \n",
       "1030233    200.0   2020.50  未改装    NaN      7.518514  \n",
       "1000080    600.0   2019.99  未改装    NaN      7.792392  \n",
       "1065071    300.0   2009.50  未改装    NaN      7.000000  \n",
       "...          ...       ...  ...    ...           ...  \n",
       "47014161   200.0   2010.50  未改装    NaN      7.255273  \n",
       "47027826   200.0   2013.99  改装済    NaN      7.278754  \n",
       "47003754   400.0   2018.50  改装済    NaN      7.397940  \n",
       "47005865   200.0   2017.25  未改装    NaN      7.230449  \n",
       "47027230   100.0   2013.75  改装済    NaN      7.342423  \n",
       "\n",
       "[692882 rows x 18 columns]"
      ]
     },
     "execution_count": 3,
     "metadata": {},
     "output_type": "execute_result"
    }
   ],
   "source": [
    "#変換処理の適用\n",
    "df = df_pre.data_pre(df)\n",
    "df"
   ]
  },
  {
   "cell_type": "code",
   "execution_count": 4,
   "id": "31d14366-009a-486a-80db-e6ded0da9f67",
   "metadata": {},
   "outputs": [],
   "source": [
    "#テストデータの用意\n",
    "df_train, df_val =train_test_split(df, test_size=0.2)\n",
    "col = \"取引価格（総額）_log\"\n",
    "train_y = df_train[col]\n",
    "train_x = df_train.drop(col, axis=1)\n",
    "\n",
    "val_y = df_val[col]\n",
    "val_x = df_val.drop(col, axis=1)\n"
   ]
  },
  {
   "cell_type": "code",
   "execution_count": 15,
   "id": "40fd8eda-f300-442a-a998-37da0519a92e",
   "metadata": {},
   "outputs": [],
   "source": [
    "#Optunaの実装（テスト）\n",
    "def objective(trial):\n",
    "    params = {\n",
    "        \"objective\":\"regression_l1\",    #MAEを指標とした回帰を指定\n",
    "        \"random_seed\":1234,             #乱数シードを固定\n",
    "        \"learning_rate\":0.01,           #どれだけ1回の学習を次の学習に反映させるか\n",
    "        \"n_estimators\":10000,              #学習回数（1round）\n",
    "        \"verbosity\":-1,                 #学習過程の非表示/各回最終の学習結果は表示される\n",
    "\n",
    "        \"num_leaves\":trial.suggest_int(\"num_leaves\", 2, 100),                             #先端の葉の最大数\n",
    "        \"max_bin\":trial.suggest_int(\"max_bin\", 50, 255),                                 #1特徴量の分割条件を増やす\n",
    "        \"max_depth\":trial.suggest_int(\"max_depth\", 3, 10),                               #決定木の深さを指定\n",
    "        \"bagging_fraction\":trial.suggest_uniform(\"bagging_fraction\", 0.4, 1.0),          #何％の訓練データをランダムに利用するか\n",
    "        \"bagging_freq\":trial.suggest_int(\"bagging_freq\", 1, 20),                         #何回ごとにランダムサンプリングをするかを制御\n",
    "        \"feature_fraction\":trial.suggest_uniform(\"feature_fraction\", 0.4, 0.9),          #各木を作成するときに何パーセントの特徴量をランダムで利用するか\n",
    "        \"min_data_in_leaf\":trial.suggest_int(\"min_data_in_leaf\", 2, 16),                 #各葉に所属する最小データ数\n",
    "        \"min_sum_hessian_in_leaf\":trial.suggest_int(\"min_sum_hessian_in_leaf\", 0.001, 10),   #葉を分割するのに必要なhessianの合計値？？->値が小さいと葉を分割し、オーバーフィッティングへ。デフォルト値が0.001で設定おかしい？\n",
    "    }\n",
    "    categorical_features = [\"地区名\", \"最寄駅：名称\", \"間取り\", \"用途\", \"今後の利用目的\", \"都市計画\", \"改装\", \"取引の事情等\"]\n",
    "    lgb_train = lgb.Dataset(train_x, train_y)\n",
    "    lgb_eval = lgb.Dataset(val_x, val_y, reference=lgb_train)\n",
    "\n",
    "    model_lgb = lgb.train(params, lgb_train,\n",
    "                         valid_sets=lgb_eval,\n",
    "                         num_boost_round=1000,        #学習回数(1round)->n_estimatorsと被る？？\n",
    "                         early_stopping_rounds=100,    #何回連続でscoreが改善されなかった場合に打ち切るかの指定\n",
    "                         verbose_eval=5000)            #何回の学習毎に結果を表示させるか\n",
    "    y_pred = model_lgb.predict(val_x, num_iteration=model_lgb.best_iteration)\n",
    "    score=mae(val_y, y_pred)\n",
    "    return score\n",
    "\n",
    "\n"
   ]
  },
  {
   "cell_type": "code",
   "execution_count": 16,
   "id": "13f2f6c3-7675-421a-b814-5814de1cc8f5",
   "metadata": {
    "collapsed": true,
    "jupyter": {
     "outputs_hidden": true
    },
    "tags": []
   },
   "outputs": [
    {
     "name": "stderr",
     "output_type": "stream",
     "text": [
      "\u001b[32m[I 2022-01-14 09:14:54,969]\u001b[0m A new study created in memory with name: no-name-63f4332d-434d-4607-adba-4699067d4cde\u001b[0m\n"
     ]
    },
    {
     "name": "stdout",
     "output_type": "stream",
     "text": [
      "Training until validation scores don't improve for 100 rounds\n",
      "[5000]\tvalid_0's l2: 0.014579\n",
      "[10000]\tvalid_0's l2: 0.0135831\n",
      "Did not meet early stopping. Best iteration is:\n",
      "[10000]\tvalid_0's l2: 0.0135831\n"
     ]
    },
    {
     "name": "stderr",
     "output_type": "stream",
     "text": [
      "\u001b[32m[I 2022-01-14 09:22:40,787]\u001b[0m Trial 0 finished with value: 0.07153661351919775 and parameters: {'num_leaves': 56, 'max_bin': 197, 'max_depth': 7, 'bagging_fraction': 0.7269299097981381, 'bagging_freq': 9, 'feature_fraction': 0.722947056533328, 'min_data_in_leaf': 8, 'min_sum_hessian_in_leaf': 8}. Best is trial 0 with value: 0.07153661351919775.\u001b[0m\n"
     ]
    },
    {
     "name": "stdout",
     "output_type": "stream",
     "text": [
      "Training until validation scores don't improve for 100 rounds\n",
      "[5000]\tvalid_0's l2: 0.0130088\n",
      "[10000]\tvalid_0's l2: 0.0118411\n",
      "Did not meet early stopping. Best iteration is:\n",
      "[10000]\tvalid_0's l2: 0.0118411\n"
     ]
    },
    {
     "name": "stderr",
     "output_type": "stream",
     "text": [
      "\u001b[32m[I 2022-01-14 09:32:29,560]\u001b[0m Trial 1 finished with value: 0.06805188204214459 and parameters: {'num_leaves': 97, 'max_bin': 128, 'max_depth': 9, 'bagging_fraction': 0.7173369518517427, 'bagging_freq': 12, 'feature_fraction': 0.8627983191463305, 'min_data_in_leaf': 3, 'min_sum_hessian_in_leaf': 0}. Best is trial 1 with value: 0.06805188204214459.\u001b[0m\n"
     ]
    },
    {
     "name": "stdout",
     "output_type": "stream",
     "text": [
      "Training until validation scores don't improve for 100 rounds\n",
      "[5000]\tvalid_0's l2: 0.019881\n",
      "[10000]\tvalid_0's l2: 0.0179963\n",
      "Did not meet early stopping. Best iteration is:\n",
      "[10000]\tvalid_0's l2: 0.0179963\n"
     ]
    },
    {
     "name": "stderr",
     "output_type": "stream",
     "text": [
      "\u001b[32m[I 2022-01-14 09:36:33,335]\u001b[0m Trial 2 finished with value: 0.08387870662885188 and parameters: {'num_leaves': 4, 'max_bin': 221, 'max_depth': 9, 'bagging_fraction': 0.9220072889480915, 'bagging_freq': 20, 'feature_fraction': 0.7995792821083618, 'min_data_in_leaf': 8, 'min_sum_hessian_in_leaf': 7}. Best is trial 1 with value: 0.06805188204214459.\u001b[0m\n"
     ]
    },
    {
     "name": "stdout",
     "output_type": "stream",
     "text": [
      "Training until validation scores don't improve for 100 rounds\n",
      "[5000]\tvalid_0's l2: 0.0171322\n",
      "[10000]\tvalid_0's l2: 0.0159762\n",
      "Did not meet early stopping. Best iteration is:\n",
      "[10000]\tvalid_0's l2: 0.0159762\n"
     ]
    },
    {
     "name": "stderr",
     "output_type": "stream",
     "text": [
      "\u001b[32m[I 2022-01-14 09:41:58,673]\u001b[0m Trial 3 finished with value: 0.07733214404704997 and parameters: {'num_leaves': 13, 'max_bin': 181, 'max_depth': 4, 'bagging_fraction': 0.9668013502297503, 'bagging_freq': 11, 'feature_fraction': 0.6073309699952618, 'min_data_in_leaf': 5, 'min_sum_hessian_in_leaf': 7}. Best is trial 1 with value: 0.06805188204214459.\u001b[0m\n"
     ]
    },
    {
     "name": "stdout",
     "output_type": "stream",
     "text": [
      "Training until validation scores don't improve for 100 rounds\n",
      "[5000]\tvalid_0's l2: 0.0184548\n",
      "[10000]\tvalid_0's l2: 0.0171535\n",
      "Did not meet early stopping. Best iteration is:\n",
      "[9999]\tvalid_0's l2: 0.0171534\n"
     ]
    },
    {
     "name": "stderr",
     "output_type": "stream",
     "text": [
      "\u001b[32m[I 2022-01-14 09:46:08,204]\u001b[0m Trial 4 finished with value: 0.0815096697118791 and parameters: {'num_leaves': 47, 'max_bin': 167, 'max_depth': 3, 'bagging_fraction': 0.7705812982455262, 'bagging_freq': 13, 'feature_fraction': 0.7084669984373785, 'min_data_in_leaf': 16, 'min_sum_hessian_in_leaf': 6}. Best is trial 1 with value: 0.06805188204214459.\u001b[0m\n"
     ]
    },
    {
     "name": "stdout",
     "output_type": "stream",
     "text": [
      "Training until validation scores don't improve for 100 rounds\n",
      "[5000]\tvalid_0's l2: 0.015267\n",
      "[10000]\tvalid_0's l2: 0.0142656\n",
      "Did not meet early stopping. Best iteration is:\n",
      "[10000]\tvalid_0's l2: 0.0142656\n"
     ]
    },
    {
     "name": "stderr",
     "output_type": "stream",
     "text": [
      "\u001b[32m[I 2022-01-14 09:53:14,534]\u001b[0m Trial 5 finished with value: 0.07473169363826077 and parameters: {'num_leaves': 37, 'max_bin': 140, 'max_depth': 8, 'bagging_fraction': 0.43613528297756193, 'bagging_freq': 14, 'feature_fraction': 0.7353189348090797, 'min_data_in_leaf': 5, 'min_sum_hessian_in_leaf': 1}. Best is trial 1 with value: 0.06805188204214459.\u001b[0m\n"
     ]
    },
    {
     "name": "stdout",
     "output_type": "stream",
     "text": [
      "Training until validation scores don't improve for 100 rounds\n",
      "[5000]\tvalid_0's l2: 0.015299\n",
      "[10000]\tvalid_0's l2: 0.0143587\n",
      "Did not meet early stopping. Best iteration is:\n",
      "[10000]\tvalid_0's l2: 0.0143587\n"
     ]
    },
    {
     "name": "stderr",
     "output_type": "stream",
     "text": [
      "\u001b[32m[I 2022-01-14 09:59:40,877]\u001b[0m Trial 6 finished with value: 0.07356648700210422 and parameters: {'num_leaves': 33, 'max_bin': 124, 'max_depth': 7, 'bagging_fraction': 0.6631609080773921, 'bagging_freq': 20, 'feature_fraction': 0.45102240537401406, 'min_data_in_leaf': 5, 'min_sum_hessian_in_leaf': 1}. Best is trial 1 with value: 0.06805188204214459.\u001b[0m\n"
     ]
    },
    {
     "name": "stdout",
     "output_type": "stream",
     "text": [
      "Training until validation scores don't improve for 100 rounds\n",
      "[5000]\tvalid_0's l2: 0.0154582\n",
      "[10000]\tvalid_0's l2: 0.0145162\n",
      "Did not meet early stopping. Best iteration is:\n",
      "[10000]\tvalid_0's l2: 0.0145162\n"
     ]
    },
    {
     "name": "stderr",
     "output_type": "stream",
     "text": [
      "\u001b[32m[I 2022-01-14 10:05:51,079]\u001b[0m Trial 7 finished with value: 0.07378369407937246 and parameters: {'num_leaves': 66, 'max_bin': 102, 'max_depth': 6, 'bagging_fraction': 0.5466553552009616, 'bagging_freq': 4, 'feature_fraction': 0.4551875705821526, 'min_data_in_leaf': 11, 'min_sum_hessian_in_leaf': 1}. Best is trial 1 with value: 0.06805188204214459.\u001b[0m\n"
     ]
    },
    {
     "name": "stdout",
     "output_type": "stream",
     "text": [
      "Training until validation scores don't improve for 100 rounds\n",
      "[5000]\tvalid_0's l2: 0.0160778\n",
      "[10000]\tvalid_0's l2: 0.0152935\n",
      "Did not meet early stopping. Best iteration is:\n",
      "[10000]\tvalid_0's l2: 0.0152935\n"
     ]
    },
    {
     "name": "stderr",
     "output_type": "stream",
     "text": [
      "\u001b[32m[I 2022-01-14 10:12:15,421]\u001b[0m Trial 8 finished with value: 0.07591200735518493 and parameters: {'num_leaves': 21, 'max_bin': 125, 'max_depth': 9, 'bagging_fraction': 0.4582607654758368, 'bagging_freq': 17, 'feature_fraction': 0.44804920394698156, 'min_data_in_leaf': 16, 'min_sum_hessian_in_leaf': 4}. Best is trial 1 with value: 0.06805188204214459.\u001b[0m\n"
     ]
    },
    {
     "name": "stdout",
     "output_type": "stream",
     "text": [
      "Training until validation scores don't improve for 100 rounds\n",
      "[5000]\tvalid_0's l2: 0.014124\n",
      "[10000]\tvalid_0's l2: 0.0128538\n",
      "Did not meet early stopping. Best iteration is:\n",
      "[10000]\tvalid_0's l2: 0.0128538\n"
     ]
    },
    {
     "name": "stderr",
     "output_type": "stream",
     "text": [
      "\u001b[32m[I 2022-01-14 10:19:20,062]\u001b[0m Trial 9 finished with value: 0.07018352078596819 and parameters: {'num_leaves': 98, 'max_bin': 174, 'max_depth': 8, 'bagging_fraction': 0.4235126753525924, 'bagging_freq': 6, 'feature_fraction': 0.4600982806065845, 'min_data_in_leaf': 6, 'min_sum_hessian_in_leaf': 1}. Best is trial 1 with value: 0.06805188204214459.\u001b[0m\n"
     ]
    },
    {
     "name": "stdout",
     "output_type": "stream",
     "text": [
      "Training until validation scores don't improve for 100 rounds\n",
      "[5000]\tvalid_0's l2: 0.0186331\n",
      "[10000]\tvalid_0's l2: 0.0172714\n",
      "Did not meet early stopping. Best iteration is:\n",
      "[10000]\tvalid_0's l2: 0.0172714\n"
     ]
    },
    {
     "name": "stderr",
     "output_type": "stream",
     "text": [
      "\u001b[32m[I 2022-01-14 10:23:26,587]\u001b[0m Trial 10 finished with value: 0.08157857104802164 and parameters: {'num_leaves': 33, 'max_bin': 135, 'max_depth': 3, 'bagging_fraction': 0.815483271622012, 'bagging_freq': 12, 'feature_fraction': 0.5326947454697227, 'min_data_in_leaf': 9, 'min_sum_hessian_in_leaf': 0}. Best is trial 1 with value: 0.06805188204214459.\u001b[0m\n"
     ]
    },
    {
     "name": "stdout",
     "output_type": "stream",
     "text": [
      "Training until validation scores don't improve for 100 rounds\n",
      "[5000]\tvalid_0's l2: 0.0158304\n",
      "[10000]\tvalid_0's l2: 0.0149208\n",
      "Did not meet early stopping. Best iteration is:\n",
      "[10000]\tvalid_0's l2: 0.0149208\n"
     ]
    },
    {
     "name": "stderr",
     "output_type": "stream",
     "text": [
      "\u001b[32m[I 2022-01-14 10:29:58,619]\u001b[0m Trial 11 finished with value: 0.07519194107336638 and parameters: {'num_leaves': 59, 'max_bin': 241, 'max_depth': 5, 'bagging_fraction': 0.800446227978209, 'bagging_freq': 3, 'feature_fraction': 0.7581636020592828, 'min_data_in_leaf': 6, 'min_sum_hessian_in_leaf': 1}. Best is trial 1 with value: 0.06805188204214459.\u001b[0m\n"
     ]
    },
    {
     "name": "stdout",
     "output_type": "stream",
     "text": [
      "Training until validation scores don't improve for 100 rounds\n",
      "[5000]\tvalid_0's l2: 0.0147046\n",
      "[10000]\tvalid_0's l2: 0.0135883\n",
      "Did not meet early stopping. Best iteration is:\n",
      "[10000]\tvalid_0's l2: 0.0135883\n"
     ]
    },
    {
     "name": "stderr",
     "output_type": "stream",
     "text": [
      "\u001b[32m[I 2022-01-14 10:37:28,964]\u001b[0m Trial 12 finished with value: 0.0721151902455544 and parameters: {'num_leaves': 60, 'max_bin': 54, 'max_depth': 9, 'bagging_fraction': 0.4028172857155283, 'bagging_freq': 14, 'feature_fraction': 0.5350039865960825, 'min_data_in_leaf': 13, 'min_sum_hessian_in_leaf': 9}. Best is trial 1 with value: 0.06805188204214459.\u001b[0m\n"
     ]
    },
    {
     "name": "stdout",
     "output_type": "stream",
     "text": [
      "Training until validation scores don't improve for 100 rounds\n",
      "[5000]\tvalid_0's l2: 0.0152934\n",
      "[10000]\tvalid_0's l2: 0.014534\n",
      "Did not meet early stopping. Best iteration is:\n",
      "[10000]\tvalid_0's l2: 0.014534\n"
     ]
    },
    {
     "name": "stderr",
     "output_type": "stream",
     "text": [
      "\u001b[32m[I 2022-01-14 10:45:16,028]\u001b[0m Trial 13 finished with value: 0.07460700766469681 and parameters: {'num_leaves': 26, 'max_bin': 168, 'max_depth': 7, 'bagging_fraction': 0.743351143474524, 'bagging_freq': 5, 'feature_fraction': 0.8763745057584925, 'min_data_in_leaf': 8, 'min_sum_hessian_in_leaf': 8}. Best is trial 1 with value: 0.06805188204214459.\u001b[0m\n"
     ]
    },
    {
     "name": "stdout",
     "output_type": "stream",
     "text": [
      "Training until validation scores don't improve for 100 rounds\n",
      "[5000]\tvalid_0's l2: 0.0141034\n",
      "[10000]\tvalid_0's l2: 0.0130554\n",
      "Did not meet early stopping. Best iteration is:\n",
      "[10000]\tvalid_0's l2: 0.0130554\n"
     ]
    },
    {
     "name": "stderr",
     "output_type": "stream",
     "text": [
      "\u001b[32m[I 2022-01-14 10:53:56,405]\u001b[0m Trial 14 finished with value: 0.07017049438710261 and parameters: {'num_leaves': 71, 'max_bin': 111, 'max_depth': 9, 'bagging_fraction': 0.6379034445081908, 'bagging_freq': 18, 'feature_fraction': 0.6906364363179294, 'min_data_in_leaf': 15, 'min_sum_hessian_in_leaf': 6}. Best is trial 1 with value: 0.06805188204214459.\u001b[0m\n"
     ]
    },
    {
     "name": "stdout",
     "output_type": "stream",
     "text": [
      "Training until validation scores don't improve for 100 rounds\n",
      "[5000]\tvalid_0's l2: 0.0132204\n",
      "[10000]\tvalid_0's l2: 0.0120992\n",
      "Did not meet early stopping. Best iteration is:\n",
      "[10000]\tvalid_0's l2: 0.0120992\n"
     ]
    },
    {
     "name": "stderr",
     "output_type": "stream",
     "text": [
      "\u001b[32m[I 2022-01-14 11:04:02,612]\u001b[0m Trial 15 finished with value: 0.06816115713550785 and parameters: {'num_leaves': 73, 'max_bin': 153, 'max_depth': 10, 'bagging_fraction': 0.7863941195377824, 'bagging_freq': 9, 'feature_fraction': 0.7031966070639621, 'min_data_in_leaf': 2, 'min_sum_hessian_in_leaf': 3}. Best is trial 1 with value: 0.06805188204214459.\u001b[0m\n"
     ]
    },
    {
     "name": "stdout",
     "output_type": "stream",
     "text": [
      "Training until validation scores don't improve for 100 rounds\n",
      "[5000]\tvalid_0's l2: 0.0146898\n",
      "[10000]\tvalid_0's l2: 0.0136424\n",
      "Did not meet early stopping. Best iteration is:\n",
      "[10000]\tvalid_0's l2: 0.0136424\n"
     ]
    },
    {
     "name": "stderr",
     "output_type": "stream",
     "text": [
      "\u001b[32m[I 2022-01-14 11:11:28,722]\u001b[0m Trial 16 finished with value: 0.07135239033695193 and parameters: {'num_leaves': 67, 'max_bin': 109, 'max_depth': 7, 'bagging_fraction': 0.6572612205674597, 'bagging_freq': 3, 'feature_fraction': 0.5491411629780154, 'min_data_in_leaf': 10, 'min_sum_hessian_in_leaf': 5}. Best is trial 1 with value: 0.06805188204214459.\u001b[0m\n"
     ]
    },
    {
     "name": "stdout",
     "output_type": "stream",
     "text": [
      "Training until validation scores don't improve for 100 rounds\n",
      "[5000]\tvalid_0's l2: 0.0144323\n",
      "[10000]\tvalid_0's l2: 0.0133636\n",
      "Did not meet early stopping. Best iteration is:\n",
      "[10000]\tvalid_0's l2: 0.0133636\n"
     ]
    },
    {
     "name": "stderr",
     "output_type": "stream",
     "text": [
      "\u001b[32m[I 2022-01-14 11:19:11,323]\u001b[0m Trial 17 finished with value: 0.07101279937600585 and parameters: {'num_leaves': 58, 'max_bin': 184, 'max_depth': 8, 'bagging_fraction': 0.6588510612603844, 'bagging_freq': 18, 'feature_fraction': 0.5837809350239482, 'min_data_in_leaf': 8, 'min_sum_hessian_in_leaf': 8}. Best is trial 1 with value: 0.06805188204214459.\u001b[0m\n"
     ]
    },
    {
     "name": "stdout",
     "output_type": "stream",
     "text": [
      "Training until validation scores don't improve for 100 rounds\n",
      "[5000]\tvalid_0's l2: 0.0181141\n",
      "[10000]\tvalid_0's l2: 0.0166423\n",
      "Did not meet early stopping. Best iteration is:\n",
      "[10000]\tvalid_0's l2: 0.0166423\n"
     ]
    },
    {
     "name": "stderr",
     "output_type": "stream",
     "text": [
      "\u001b[32m[I 2022-01-14 11:23:49,538]\u001b[0m Trial 18 finished with value: 0.07981509361833614 and parameters: {'num_leaves': 81, 'max_bin': 195, 'max_depth': 3, 'bagging_fraction': 0.9516895682468042, 'bagging_freq': 15, 'feature_fraction': 0.8994235032839333, 'min_data_in_leaf': 4, 'min_sum_hessian_in_leaf': 8}. Best is trial 1 with value: 0.06805188204214459.\u001b[0m\n"
     ]
    },
    {
     "name": "stdout",
     "output_type": "stream",
     "text": [
      "Training until validation scores don't improve for 100 rounds\n",
      "[5000]\tvalid_0's l2: 0.0182934\n",
      "[10000]\tvalid_0's l2: 0.0168062\n",
      "Did not meet early stopping. Best iteration is:\n",
      "[10000]\tvalid_0's l2: 0.0168062\n"
     ]
    },
    {
     "name": "stderr",
     "output_type": "stream",
     "text": [
      "\u001b[32m[I 2022-01-14 11:28:21,499]\u001b[0m Trial 19 finished with value: 0.08028380665037728 and parameters: {'num_leaves': 18, 'max_bin': 176, 'max_depth': 3, 'bagging_fraction': 0.9088049375933407, 'bagging_freq': 17, 'feature_fraction': 0.6845503693072967, 'min_data_in_leaf': 8, 'min_sum_hessian_in_leaf': 0}. Best is trial 1 with value: 0.06805188204214459.\u001b[0m\n"
     ]
    },
    {
     "name": "stdout",
     "output_type": "stream",
     "text": [
      "Training until validation scores don't improve for 100 rounds\n",
      "[5000]\tvalid_0's l2: 0.013214\n",
      "[10000]\tvalid_0's l2: 0.0121115\n",
      "Did not meet early stopping. Best iteration is:\n",
      "[10000]\tvalid_0's l2: 0.0121115\n"
     ]
    },
    {
     "name": "stderr",
     "output_type": "stream",
     "text": [
      "\u001b[32m[I 2022-01-14 11:37:50,206]\u001b[0m Trial 20 finished with value: 0.06777531432169094 and parameters: {'num_leaves': 71, 'max_bin': 143, 'max_depth': 8, 'bagging_fraction': 0.9198293955571775, 'bagging_freq': 20, 'feature_fraction': 0.8279016711963055, 'min_data_in_leaf': 2, 'min_sum_hessian_in_leaf': 3}. Best is trial 20 with value: 0.06777531432169094.\u001b[0m\n"
     ]
    },
    {
     "name": "stdout",
     "output_type": "stream",
     "text": [
      "Training until validation scores don't improve for 100 rounds\n",
      "[5000]\tvalid_0's l2: 0.0150595\n",
      "[10000]\tvalid_0's l2: 0.0140534\n",
      "Did not meet early stopping. Best iteration is:\n",
      "[10000]\tvalid_0's l2: 0.0140534\n"
     ]
    },
    {
     "name": "stderr",
     "output_type": "stream",
     "text": [
      "\u001b[32m[I 2022-01-14 11:44:24,371]\u001b[0m Trial 21 finished with value: 0.07266412647754023 and parameters: {'num_leaves': 74, 'max_bin': 85, 'max_depth': 7, 'bagging_fraction': 0.4326027930035522, 'bagging_freq': 4, 'feature_fraction': 0.409260897230307, 'min_data_in_leaf': 13, 'min_sum_hessian_in_leaf': 2}. Best is trial 20 with value: 0.06777531432169094.\u001b[0m\n"
     ]
    },
    {
     "name": "stdout",
     "output_type": "stream",
     "text": [
      "Training until validation scores don't improve for 100 rounds\n",
      "[5000]\tvalid_0's l2: 0.0153965\n",
      "[10000]\tvalid_0's l2: 0.0143852\n",
      "Did not meet early stopping. Best iteration is:\n",
      "[10000]\tvalid_0's l2: 0.0143852\n"
     ]
    },
    {
     "name": "stderr",
     "output_type": "stream",
     "text": [
      "\u001b[32m[I 2022-01-14 11:51:28,507]\u001b[0m Trial 22 finished with value: 0.07452415383413827 and parameters: {'num_leaves': 36, 'max_bin': 241, 'max_depth': 8, 'bagging_fraction': 0.4191033577187847, 'bagging_freq': 4, 'feature_fraction': 0.7107392007498818, 'min_data_in_leaf': 10, 'min_sum_hessian_in_leaf': 2}. Best is trial 20 with value: 0.06777531432169094.\u001b[0m\n"
     ]
    },
    {
     "name": "stdout",
     "output_type": "stream",
     "text": [
      "Training until validation scores don't improve for 100 rounds\n",
      "[5000]\tvalid_0's l2: 0.0143053\n",
      "[10000]\tvalid_0's l2: 0.0132249\n",
      "Did not meet early stopping. Best iteration is:\n",
      "[10000]\tvalid_0's l2: 0.0132249\n"
     ]
    },
    {
     "name": "stderr",
     "output_type": "stream",
     "text": [
      "\u001b[32m[I 2022-01-14 11:59:13,999]\u001b[0m Trial 23 finished with value: 0.07009234397026251 and parameters: {'num_leaves': 94, 'max_bin': 176, 'max_depth': 7, 'bagging_fraction': 0.7539459858127426, 'bagging_freq': 15, 'feature_fraction': 0.555972497739801, 'min_data_in_leaf': 7, 'min_sum_hessian_in_leaf': 2}. Best is trial 20 with value: 0.06777531432169094.\u001b[0m\n"
     ]
    },
    {
     "name": "stdout",
     "output_type": "stream",
     "text": [
      "Training until validation scores don't improve for 100 rounds\n",
      "[5000]\tvalid_0's l2: 0.0158056\n",
      "[10000]\tvalid_0's l2: 0.0149936\n",
      "Did not meet early stopping. Best iteration is:\n",
      "[10000]\tvalid_0's l2: 0.0149936\n"
     ]
    },
    {
     "name": "stderr",
     "output_type": "stream",
     "text": [
      "\u001b[32m[I 2022-01-14 12:06:35,567]\u001b[0m Trial 24 finished with value: 0.07524679359005536 and parameters: {'num_leaves': 20, 'max_bin': 244, 'max_depth': 8, 'bagging_fraction': 0.6942752851705403, 'bagging_freq': 5, 'feature_fraction': 0.5271782408851965, 'min_data_in_leaf': 2, 'min_sum_hessian_in_leaf': 4}. Best is trial 20 with value: 0.06777531432169094.\u001b[0m\n"
     ]
    },
    {
     "name": "stdout",
     "output_type": "stream",
     "text": [
      "Training until validation scores don't improve for 100 rounds\n",
      "[5000]\tvalid_0's l2: 0.0158452\n",
      "[10000]\tvalid_0's l2: 0.0149484\n",
      "Did not meet early stopping. Best iteration is:\n",
      "[10000]\tvalid_0's l2: 0.0149484\n"
     ]
    },
    {
     "name": "stderr",
     "output_type": "stream",
     "text": [
      "\u001b[32m[I 2022-01-14 12:12:18,261]\u001b[0m Trial 25 finished with value: 0.07499136825535493 and parameters: {'num_leaves': 32, 'max_bin': 193, 'max_depth': 6, 'bagging_fraction': 0.5077622065357809, 'bagging_freq': 1, 'feature_fraction': 0.4336248157316243, 'min_data_in_leaf': 12, 'min_sum_hessian_in_leaf': 4}. Best is trial 20 with value: 0.06777531432169094.\u001b[0m\n"
     ]
    },
    {
     "name": "stdout",
     "output_type": "stream",
     "text": [
      "Training until validation scores don't improve for 100 rounds\n",
      "[5000]\tvalid_0's l2: 0.0143409\n",
      "[10000]\tvalid_0's l2: 0.0132621\n",
      "Did not meet early stopping. Best iteration is:\n",
      "[10000]\tvalid_0's l2: 0.0132621\n"
     ]
    },
    {
     "name": "stderr",
     "output_type": "stream",
     "text": [
      "\u001b[32m[I 2022-01-14 12:20:44,840]\u001b[0m Trial 26 finished with value: 0.07117818746411579 and parameters: {'num_leaves': 55, 'max_bin': 234, 'max_depth': 10, 'bagging_fraction': 0.5301381906390844, 'bagging_freq': 14, 'feature_fraction': 0.5316611883685753, 'min_data_in_leaf': 2, 'min_sum_hessian_in_leaf': 7}. Best is trial 20 with value: 0.06777531432169094.\u001b[0m\n"
     ]
    },
    {
     "name": "stdout",
     "output_type": "stream",
     "text": [
      "Training until validation scores don't improve for 100 rounds\n",
      "[5000]\tvalid_0's l2: 0.0146049\n",
      "[10000]\tvalid_0's l2: 0.0137475\n",
      "Did not meet early stopping. Best iteration is:\n",
      "[10000]\tvalid_0's l2: 0.0137475\n"
     ]
    },
    {
     "name": "stderr",
     "output_type": "stream",
     "text": [
      "\u001b[32m[I 2022-01-14 12:29:11,162]\u001b[0m Trial 27 finished with value: 0.07181555476524652 and parameters: {'num_leaves': 33, 'max_bin': 128, 'max_depth': 7, 'bagging_fraction': 0.8986290731417143, 'bagging_freq': 13, 'feature_fraction': 0.8363253277236977, 'min_data_in_leaf': 6, 'min_sum_hessian_in_leaf': 7}. Best is trial 20 with value: 0.06777531432169094.\u001b[0m\n"
     ]
    },
    {
     "name": "stdout",
     "output_type": "stream",
     "text": [
      "Training until validation scores don't improve for 100 rounds\n",
      "[5000]\tvalid_0's l2: 0.0159165\n",
      "[10000]\tvalid_0's l2: 0.0151856\n",
      "Did not meet early stopping. Best iteration is:\n",
      "[10000]\tvalid_0's l2: 0.0151856\n"
     ]
    },
    {
     "name": "stderr",
     "output_type": "stream",
     "text": [
      "\u001b[32m[I 2022-01-14 12:36:38,808]\u001b[0m Trial 28 finished with value: 0.07645522995150938 and parameters: {'num_leaves': 20, 'max_bin': 246, 'max_depth': 8, 'bagging_fraction': 0.529304606268135, 'bagging_freq': 19, 'feature_fraction': 0.7654279033850789, 'min_data_in_leaf': 5, 'min_sum_hessian_in_leaf': 2}. Best is trial 20 with value: 0.06777531432169094.\u001b[0m\n"
     ]
    },
    {
     "name": "stdout",
     "output_type": "stream",
     "text": [
      "Training until validation scores don't improve for 100 rounds\n",
      "[5000]\tvalid_0's l2: 0.0172471\n",
      "[10000]\tvalid_0's l2: 0.0162318\n",
      "Did not meet early stopping. Best iteration is:\n",
      "[10000]\tvalid_0's l2: 0.0162318\n"
     ]
    },
    {
     "name": "stderr",
     "output_type": "stream",
     "text": [
      "\u001b[32m[I 2022-01-14 12:42:18,048]\u001b[0m Trial 29 finished with value: 0.07897187277002522 and parameters: {'num_leaves': 53, 'max_bin': 55, 'max_depth': 4, 'bagging_fraction': 0.6548112812509037, 'bagging_freq': 8, 'feature_fraction': 0.6317877121824054, 'min_data_in_leaf': 6, 'min_sum_hessian_in_leaf': 5}. Best is trial 20 with value: 0.06777531432169094.\u001b[0m\n"
     ]
    },
    {
     "name": "stdout",
     "output_type": "stream",
     "text": [
      "Training until validation scores don't improve for 100 rounds\n",
      "[5000]\tvalid_0's l2: 0.0148096\n",
      "[10000]\tvalid_0's l2: 0.0136918\n",
      "Did not meet early stopping. Best iteration is:\n",
      "[10000]\tvalid_0's l2: 0.0136918\n"
     ]
    },
    {
     "name": "stderr",
     "output_type": "stream",
     "text": [
      "\u001b[32m[I 2022-01-14 12:49:57,312]\u001b[0m Trial 30 finished with value: 0.07204603115037213 and parameters: {'num_leaves': 87, 'max_bin': 74, 'max_depth': 7, 'bagging_fraction': 0.479240863807092, 'bagging_freq': 15, 'feature_fraction': 0.5980298514036468, 'min_data_in_leaf': 10, 'min_sum_hessian_in_leaf': 1}. Best is trial 20 with value: 0.06777531432169094.\u001b[0m\n"
     ]
    },
    {
     "name": "stdout",
     "output_type": "stream",
     "text": [
      "Training until validation scores don't improve for 100 rounds\n",
      "[5000]\tvalid_0's l2: 0.0160404\n",
      "[10000]\tvalid_0's l2: 0.0150295\n",
      "Did not meet early stopping. Best iteration is:\n",
      "[10000]\tvalid_0's l2: 0.0150295\n"
     ]
    },
    {
     "name": "stderr",
     "output_type": "stream",
     "text": [
      "\u001b[32m[I 2022-01-14 12:57:15,434]\u001b[0m Trial 31 finished with value: 0.07467087855365835 and parameters: {'num_leaves': 16, 'max_bin': 150, 'max_depth': 5, 'bagging_fraction': 0.9642591671516878, 'bagging_freq': 16, 'feature_fraction': 0.7743318099252736, 'min_data_in_leaf': 15, 'min_sum_hessian_in_leaf': 0}. Best is trial 20 with value: 0.06777531432169094.\u001b[0m\n"
     ]
    },
    {
     "name": "stdout",
     "output_type": "stream",
     "text": [
      "Training until validation scores don't improve for 100 rounds\n",
      "[5000]\tvalid_0's l2: 0.0143535\n",
      "[10000]\tvalid_0's l2: 0.0133028\n",
      "Did not meet early stopping. Best iteration is:\n",
      "[10000]\tvalid_0's l2: 0.0133028\n"
     ]
    },
    {
     "name": "stderr",
     "output_type": "stream",
     "text": [
      "\u001b[32m[I 2022-01-14 13:07:12,931]\u001b[0m Trial 32 finished with value: 0.0708828009764027 and parameters: {'num_leaves': 56, 'max_bin': 170, 'max_depth': 10, 'bagging_fraction': 0.5752885160755293, 'bagging_freq': 5, 'feature_fraction': 0.45014697113274893, 'min_data_in_leaf': 2, 'min_sum_hessian_in_leaf': 9}. Best is trial 20 with value: 0.06777531432169094.\u001b[0m\n"
     ]
    },
    {
     "name": "stdout",
     "output_type": "stream",
     "text": [
      "Training until validation scores don't improve for 100 rounds\n",
      "[5000]\tvalid_0's l2: 0.0161322\n",
      "[10000]\tvalid_0's l2: 0.0152378\n",
      "Did not meet early stopping. Best iteration is:\n",
      "[10000]\tvalid_0's l2: 0.0152378\n"
     ]
    },
    {
     "name": "stderr",
     "output_type": "stream",
     "text": [
      "\u001b[32m[I 2022-01-14 13:14:52,479]\u001b[0m Trial 33 finished with value: 0.07562591256402372 and parameters: {'num_leaves': 68, 'max_bin': 211, 'max_depth': 5, 'bagging_fraction': 0.751846099711796, 'bagging_freq': 2, 'feature_fraction': 0.6428137979673114, 'min_data_in_leaf': 16, 'min_sum_hessian_in_leaf': 8}. Best is trial 20 with value: 0.06777531432169094.\u001b[0m\n"
     ]
    },
    {
     "name": "stdout",
     "output_type": "stream",
     "text": [
      "Training until validation scores don't improve for 100 rounds\n",
      "[5000]\tvalid_0's l2: 0.0165849\n",
      "[10000]\tvalid_0's l2: 0.0154023\n",
      "Did not meet early stopping. Best iteration is:\n",
      "[10000]\tvalid_0's l2: 0.0154023\n"
     ]
    },
    {
     "name": "stderr",
     "output_type": "stream",
     "text": [
      "\u001b[32m[I 2022-01-14 13:21:48,631]\u001b[0m Trial 34 finished with value: 0.07592845248019771 and parameters: {'num_leaves': 35, 'max_bin': 248, 'max_depth': 4, 'bagging_fraction': 0.9695912934494089, 'bagging_freq': 19, 'feature_fraction': 0.7996012936761958, 'min_data_in_leaf': 11, 'min_sum_hessian_in_leaf': 8}. Best is trial 20 with value: 0.06777531432169094.\u001b[0m\n"
     ]
    },
    {
     "name": "stdout",
     "output_type": "stream",
     "text": [
      "Training until validation scores don't improve for 100 rounds\n",
      "[5000]\tvalid_0's l2: 0.0157805\n",
      "[10000]\tvalid_0's l2: 0.0148552\n",
      "Did not meet early stopping. Best iteration is:\n",
      "[10000]\tvalid_0's l2: 0.0148552\n"
     ]
    },
    {
     "name": "stderr",
     "output_type": "stream",
     "text": [
      "\u001b[32m[I 2022-01-14 13:27:52,601]\u001b[0m Trial 35 finished with value: 0.07497587927780064 and parameters: {'num_leaves': 31, 'max_bin': 224, 'max_depth': 7, 'bagging_fraction': 0.4079421146553397, 'bagging_freq': 7, 'feature_fraction': 0.47407043047408254, 'min_data_in_leaf': 16, 'min_sum_hessian_in_leaf': 4}. Best is trial 20 with value: 0.06777531432169094.\u001b[0m\n"
     ]
    },
    {
     "name": "stdout",
     "output_type": "stream",
     "text": [
      "Training until validation scores don't improve for 100 rounds\n",
      "[5000]\tvalid_0's l2: 0.0163424\n",
      "[10000]\tvalid_0's l2: 0.0154005\n",
      "Did not meet early stopping. Best iteration is:\n",
      "[10000]\tvalid_0's l2: 0.0154005\n"
     ]
    },
    {
     "name": "stderr",
     "output_type": "stream",
     "text": [
      "\u001b[32m[I 2022-01-14 13:32:57,455]\u001b[0m Trial 36 finished with value: 0.07639641636309388 and parameters: {'num_leaves': 51, 'max_bin': 181, 'max_depth': 5, 'bagging_fraction': 0.48214016301135937, 'bagging_freq': 17, 'feature_fraction': 0.494923955951379, 'min_data_in_leaf': 9, 'min_sum_hessian_in_leaf': 2}. Best is trial 20 with value: 0.06777531432169094.\u001b[0m\n"
     ]
    },
    {
     "name": "stdout",
     "output_type": "stream",
     "text": [
      "Training until validation scores don't improve for 100 rounds\n",
      "[5000]\tvalid_0's l2: 0.0160085\n",
      "[10000]\tvalid_0's l2: 0.0149616\n",
      "Did not meet early stopping. Best iteration is:\n",
      "[10000]\tvalid_0's l2: 0.0149616\n"
     ]
    },
    {
     "name": "stderr",
     "output_type": "stream",
     "text": [
      "\u001b[32m[I 2022-01-14 13:40:32,802]\u001b[0m Trial 37 finished with value: 0.07451694484980505 and parameters: {'num_leaves': 11, 'max_bin': 227, 'max_depth': 10, 'bagging_fraction': 0.9765007948378001, 'bagging_freq': 19, 'feature_fraction': 0.7870236663493194, 'min_data_in_leaf': 6, 'min_sum_hessian_in_leaf': 0}. Best is trial 20 with value: 0.06777531432169094.\u001b[0m\n"
     ]
    },
    {
     "name": "stdout",
     "output_type": "stream",
     "text": [
      "Training until validation scores don't improve for 100 rounds\n",
      "[5000]\tvalid_0's l2: 0.0174317\n",
      "[10000]\tvalid_0's l2: 0.0164451\n",
      "Did not meet early stopping. Best iteration is:\n",
      "[10000]\tvalid_0's l2: 0.0164451\n"
     ]
    },
    {
     "name": "stderr",
     "output_type": "stream",
     "text": [
      "\u001b[32m[I 2022-01-14 13:44:45,534]\u001b[0m Trial 38 finished with value: 0.07927130863303111 and parameters: {'num_leaves': 42, 'max_bin': 97, 'max_depth': 4, 'bagging_fraction': 0.4320563090720952, 'bagging_freq': 15, 'feature_fraction': 0.40571372931251554, 'min_data_in_leaf': 13, 'min_sum_hessian_in_leaf': 1}. Best is trial 20 with value: 0.06777531432169094.\u001b[0m\n"
     ]
    },
    {
     "name": "stdout",
     "output_type": "stream",
     "text": [
      "Training until validation scores don't improve for 100 rounds\n",
      "[5000]\tvalid_0's l2: 0.0174979\n",
      "[10000]\tvalid_0's l2: 0.0169586\n",
      "Did not meet early stopping. Best iteration is:\n",
      "[9992]\tvalid_0's l2: 0.0169584\n"
     ]
    },
    {
     "name": "stderr",
     "output_type": "stream",
     "text": [
      "\u001b[32m[I 2022-01-14 13:51:23,311]\u001b[0m Trial 39 finished with value: 0.0804210989874111 and parameters: {'num_leaves': 9, 'max_bin': 68, 'max_depth': 8, 'bagging_fraction': 0.5472203259117069, 'bagging_freq': 9, 'feature_fraction': 0.6786843956619585, 'min_data_in_leaf': 14, 'min_sum_hessian_in_leaf': 7}. Best is trial 20 with value: 0.06777531432169094.\u001b[0m\n"
     ]
    },
    {
     "name": "stdout",
     "output_type": "stream",
     "text": [
      "Training until validation scores don't improve for 100 rounds\n",
      "[5000]\tvalid_0's l2: 0.0187083\n",
      "[10000]\tvalid_0's l2: 0.0175086\n",
      "Did not meet early stopping. Best iteration is:\n",
      "[10000]\tvalid_0's l2: 0.0175086\n"
     ]
    },
    {
     "name": "stderr",
     "output_type": "stream",
     "text": [
      "\u001b[32m[I 2022-01-14 13:55:23,306]\u001b[0m Trial 40 finished with value: 0.08276196507401383 and parameters: {'num_leaves': 28, 'max_bin': 77, 'max_depth': 3, 'bagging_fraction': 0.5809591806885654, 'bagging_freq': 6, 'feature_fraction': 0.6280702834002398, 'min_data_in_leaf': 12, 'min_sum_hessian_in_leaf': 6}. Best is trial 20 with value: 0.06777531432169094.\u001b[0m\n"
     ]
    },
    {
     "name": "stdout",
     "output_type": "stream",
     "text": [
      "Training until validation scores don't improve for 100 rounds\n",
      "[5000]\tvalid_0's l2: 0.0169215\n",
      "[10000]\tvalid_0's l2: 0.0158727\n",
      "Did not meet early stopping. Best iteration is:\n",
      "[9998]\tvalid_0's l2: 0.0158727\n"
     ]
    },
    {
     "name": "stderr",
     "output_type": "stream",
     "text": [
      "\u001b[32m[I 2022-01-14 14:01:31,656]\u001b[0m Trial 41 finished with value: 0.07748196727913227 and parameters: {'num_leaves': 30, 'max_bin': 128, 'max_depth': 4, 'bagging_fraction': 0.8731273073839112, 'bagging_freq': 2, 'feature_fraction': 0.7484986208624937, 'min_data_in_leaf': 13, 'min_sum_hessian_in_leaf': 7}. Best is trial 20 with value: 0.06777531432169094.\u001b[0m\n"
     ]
    },
    {
     "name": "stdout",
     "output_type": "stream",
     "text": [
      "Training until validation scores don't improve for 100 rounds\n",
      "[5000]\tvalid_0's l2: 0.0156931\n",
      "[10000]\tvalid_0's l2: 0.0148014\n",
      "Did not meet early stopping. Best iteration is:\n",
      "[10000]\tvalid_0's l2: 0.0148014\n"
     ]
    },
    {
     "name": "stderr",
     "output_type": "stream",
     "text": [
      "\u001b[32m[I 2022-01-14 14:07:51,486]\u001b[0m Trial 42 finished with value: 0.07477656925295158 and parameters: {'num_leaves': 27, 'max_bin': 127, 'max_depth': 7, 'bagging_fraction': 0.5636931414546802, 'bagging_freq': 8, 'feature_fraction': 0.49852714009281984, 'min_data_in_leaf': 8, 'min_sum_hessian_in_leaf': 0}. Best is trial 20 with value: 0.06777531432169094.\u001b[0m\n"
     ]
    },
    {
     "name": "stdout",
     "output_type": "stream",
     "text": [
      "Training until validation scores don't improve for 100 rounds\n",
      "[5000]\tvalid_0's l2: 0.0147725\n",
      "[10000]\tvalid_0's l2: 0.0138099\n",
      "Did not meet early stopping. Best iteration is:\n",
      "[10000]\tvalid_0's l2: 0.0138099\n"
     ]
    },
    {
     "name": "stderr",
     "output_type": "stream",
     "text": [
      "\u001b[32m[I 2022-01-14 14:15:37,380]\u001b[0m Trial 43 finished with value: 0.07281963853780159 and parameters: {'num_leaves': 81, 'max_bin': 65, 'max_depth': 7, 'bagging_fraction': 0.5840860597271177, 'bagging_freq': 12, 'feature_fraction': 0.8797166704167125, 'min_data_in_leaf': 11, 'min_sum_hessian_in_leaf': 0}. Best is trial 20 with value: 0.06777531432169094.\u001b[0m\n"
     ]
    },
    {
     "name": "stdout",
     "output_type": "stream",
     "text": [
      "Training until validation scores don't improve for 100 rounds\n",
      "[5000]\tvalid_0's l2: 0.014916\n",
      "[10000]\tvalid_0's l2: 0.0139683\n",
      "Did not meet early stopping. Best iteration is:\n",
      "[10000]\tvalid_0's l2: 0.0139683\n"
     ]
    },
    {
     "name": "stderr",
     "output_type": "stream",
     "text": [
      "\u001b[32m[I 2022-01-14 14:23:10,781]\u001b[0m Trial 44 finished with value: 0.07189968604767714 and parameters: {'num_leaves': 44, 'max_bin': 155, 'max_depth': 7, 'bagging_fraction': 0.8088355063623027, 'bagging_freq': 6, 'feature_fraction': 0.4644302827331601, 'min_data_in_leaf': 7, 'min_sum_hessian_in_leaf': 9}. Best is trial 20 with value: 0.06777531432169094.\u001b[0m\n"
     ]
    },
    {
     "name": "stdout",
     "output_type": "stream",
     "text": [
      "Training until validation scores don't improve for 100 rounds\n",
      "[5000]\tvalid_0's l2: 0.0159364\n",
      "[10000]\tvalid_0's l2: 0.0151429\n",
      "Did not meet early stopping. Best iteration is:\n",
      "[9999]\tvalid_0's l2: 0.0151429\n"
     ]
    },
    {
     "name": "stderr",
     "output_type": "stream",
     "text": [
      "\u001b[32m[I 2022-01-14 14:30:15,767]\u001b[0m Trial 45 finished with value: 0.075661618026032 and parameters: {'num_leaves': 20, 'max_bin': 236, 'max_depth': 7, 'bagging_fraction': 0.6741468529874595, 'bagging_freq': 18, 'feature_fraction': 0.629301980884293, 'min_data_in_leaf': 12, 'min_sum_hessian_in_leaf': 3}. Best is trial 20 with value: 0.06777531432169094.\u001b[0m\n"
     ]
    },
    {
     "name": "stdout",
     "output_type": "stream",
     "text": [
      "Training until validation scores don't improve for 100 rounds\n",
      "[5000]\tvalid_0's l2: 0.0138333\n",
      "[10000]\tvalid_0's l2: 0.0126145\n",
      "Did not meet early stopping. Best iteration is:\n",
      "[10000]\tvalid_0's l2: 0.0126145\n"
     ]
    },
    {
     "name": "stderr",
     "output_type": "stream",
     "text": [
      "\u001b[32m[I 2022-01-14 14:38:35,704]\u001b[0m Trial 46 finished with value: 0.0695723878077553 and parameters: {'num_leaves': 91, 'max_bin': 192, 'max_depth': 8, 'bagging_fraction': 0.5966322409342714, 'bagging_freq': 16, 'feature_fraction': 0.7180305277235707, 'min_data_in_leaf': 5, 'min_sum_hessian_in_leaf': 1}. Best is trial 20 with value: 0.06777531432169094.\u001b[0m\n"
     ]
    },
    {
     "name": "stdout",
     "output_type": "stream",
     "text": [
      "Training until validation scores don't improve for 100 rounds\n",
      "[5000]\tvalid_0's l2: 0.0152468\n",
      "[10000]\tvalid_0's l2: 0.0143377\n",
      "Did not meet early stopping. Best iteration is:\n",
      "[10000]\tvalid_0's l2: 0.0143377\n"
     ]
    },
    {
     "name": "stderr",
     "output_type": "stream",
     "text": [
      "\u001b[32m[I 2022-01-14 14:45:54,254]\u001b[0m Trial 47 finished with value: 0.07303909992427068 and parameters: {'num_leaves': 80, 'max_bin': 247, 'max_depth': 6, 'bagging_fraction': 0.754590499194211, 'bagging_freq': 18, 'feature_fraction': 0.6286117266769286, 'min_data_in_leaf': 16, 'min_sum_hessian_in_leaf': 5}. Best is trial 20 with value: 0.06777531432169094.\u001b[0m\n"
     ]
    },
    {
     "name": "stdout",
     "output_type": "stream",
     "text": [
      "Training until validation scores don't improve for 100 rounds\n",
      "[5000]\tvalid_0's l2: 0.0137817\n",
      "[10000]\tvalid_0's l2: 0.0124698\n",
      "Did not meet early stopping. Best iteration is:\n",
      "[10000]\tvalid_0's l2: 0.0124698\n"
     ]
    },
    {
     "name": "stderr",
     "output_type": "stream",
     "text": [
      "\u001b[32m[I 2022-01-14 14:54:14,915]\u001b[0m Trial 48 finished with value: 0.06971594099715038 and parameters: {'num_leaves': 83, 'max_bin': 237, 'max_depth': 9, 'bagging_fraction': 0.49564867806937357, 'bagging_freq': 13, 'feature_fraction': 0.5992171293098385, 'min_data_in_leaf': 2, 'min_sum_hessian_in_leaf': 4}. Best is trial 20 with value: 0.06777531432169094.\u001b[0m\n"
     ]
    },
    {
     "name": "stdout",
     "output_type": "stream",
     "text": [
      "Training until validation scores don't improve for 100 rounds\n",
      "[5000]\tvalid_0's l2: 0.0184811\n",
      "[10000]\tvalid_0's l2: 0.0169624\n",
      "Did not meet early stopping. Best iteration is:\n",
      "[10000]\tvalid_0's l2: 0.0169624\n"
     ]
    },
    {
     "name": "stderr",
     "output_type": "stream",
     "text": [
      "\u001b[32m[I 2022-01-14 14:58:55,487]\u001b[0m Trial 49 finished with value: 0.08070697172303877 and parameters: {'num_leaves': 27, 'max_bin': 224, 'max_depth': 3, 'bagging_fraction': 0.9753896331180841, 'bagging_freq': 8, 'feature_fraction': 0.5783534452012715, 'min_data_in_leaf': 2, 'min_sum_hessian_in_leaf': 1}. Best is trial 20 with value: 0.06777531432169094.\u001b[0m\n"
     ]
    },
    {
     "name": "stdout",
     "output_type": "stream",
     "text": [
      "Training until validation scores don't improve for 100 rounds\n",
      "[5000]\tvalid_0's l2: 0.0183153\n",
      "[10000]\tvalid_0's l2: 0.0167969\n",
      "Did not meet early stopping. Best iteration is:\n",
      "[10000]\tvalid_0's l2: 0.0167969\n"
     ]
    },
    {
     "name": "stderr",
     "output_type": "stream",
     "text": [
      "\u001b[32m[I 2022-01-14 15:03:42,830]\u001b[0m Trial 50 finished with value: 0.08019260303800156 and parameters: {'num_leaves': 41, 'max_bin': 241, 'max_depth': 3, 'bagging_fraction': 0.9671809200874477, 'bagging_freq': 18, 'feature_fraction': 0.6270811984537759, 'min_data_in_leaf': 6, 'min_sum_hessian_in_leaf': 2}. Best is trial 20 with value: 0.06777531432169094.\u001b[0m\n"
     ]
    },
    {
     "name": "stdout",
     "output_type": "stream",
     "text": [
      "Training until validation scores don't improve for 100 rounds\n",
      "[5000]\tvalid_0's l2: 0.0186641\n",
      "[10000]\tvalid_0's l2: 0.0173487\n",
      "Did not meet early stopping. Best iteration is:\n",
      "[10000]\tvalid_0's l2: 0.0173487\n"
     ]
    },
    {
     "name": "stderr",
     "output_type": "stream",
     "text": [
      "\u001b[32m[I 2022-01-14 15:08:05,370]\u001b[0m Trial 51 finished with value: 0.08213290833998152 and parameters: {'num_leaves': 62, 'max_bin': 56, 'max_depth': 3, 'bagging_fraction': 0.6572774334989426, 'bagging_freq': 2, 'feature_fraction': 0.5259704941230465, 'min_data_in_leaf': 5, 'min_sum_hessian_in_leaf': 2}. Best is trial 20 with value: 0.06777531432169094.\u001b[0m\n"
     ]
    },
    {
     "name": "stdout",
     "output_type": "stream",
     "text": [
      "Training until validation scores don't improve for 100 rounds\n",
      "[5000]\tvalid_0's l2: 0.0183039\n",
      "[10000]\tvalid_0's l2: 0.017046\n",
      "Did not meet early stopping. Best iteration is:\n",
      "[10000]\tvalid_0's l2: 0.017046\n"
     ]
    },
    {
     "name": "stderr",
     "output_type": "stream",
     "text": [
      "\u001b[32m[I 2022-01-14 15:12:39,398]\u001b[0m Trial 52 finished with value: 0.08148239806161785 and parameters: {'num_leaves': 14, 'max_bin': 52, 'max_depth': 3, 'bagging_fraction': 0.7710881557076488, 'bagging_freq': 20, 'feature_fraction': 0.895172500780447, 'min_data_in_leaf': 8, 'min_sum_hessian_in_leaf': 1}. Best is trial 20 with value: 0.06777531432169094.\u001b[0m\n"
     ]
    },
    {
     "name": "stdout",
     "output_type": "stream",
     "text": [
      "Training until validation scores don't improve for 100 rounds\n",
      "[5000]\tvalid_0's l2: 0.0141899\n",
      "[10000]\tvalid_0's l2: 0.012989\n",
      "Did not meet early stopping. Best iteration is:\n",
      "[10000]\tvalid_0's l2: 0.012989\n"
     ]
    },
    {
     "name": "stderr",
     "output_type": "stream",
     "text": [
      "\u001b[32m[I 2022-01-14 15:20:47,335]\u001b[0m Trial 53 finished with value: 0.0708984330140612 and parameters: {'num_leaves': 65, 'max_bin': 151, 'max_depth': 10, 'bagging_fraction': 0.43918252429106813, 'bagging_freq': 16, 'feature_fraction': 0.544199248665747, 'min_data_in_leaf': 5, 'min_sum_hessian_in_leaf': 6}. Best is trial 20 with value: 0.06777531432169094.\u001b[0m\n"
     ]
    },
    {
     "name": "stdout",
     "output_type": "stream",
     "text": [
      "Training until validation scores don't improve for 100 rounds\n",
      "[5000]\tvalid_0's l2: 0.0157123\n",
      "[10000]\tvalid_0's l2: 0.0148418\n",
      "Did not meet early stopping. Best iteration is:\n",
      "[10000]\tvalid_0's l2: 0.0148418\n"
     ]
    },
    {
     "name": "stderr",
     "output_type": "stream",
     "text": [
      "\u001b[32m[I 2022-01-14 15:27:45,022]\u001b[0m Trial 54 finished with value: 0.07464351600239598 and parameters: {'num_leaves': 26, 'max_bin': 187, 'max_depth': 7, 'bagging_fraction': 0.6544533930615095, 'bagging_freq': 12, 'feature_fraction': 0.5435257599598149, 'min_data_in_leaf': 12, 'min_sum_hessian_in_leaf': 4}. Best is trial 20 with value: 0.06777531432169094.\u001b[0m\n"
     ]
    },
    {
     "name": "stdout",
     "output_type": "stream",
     "text": [
      "Training until validation scores don't improve for 100 rounds\n",
      "[5000]\tvalid_0's l2: 0.0151652\n",
      "[10000]\tvalid_0's l2: 0.0142144\n",
      "Did not meet early stopping. Best iteration is:\n",
      "[10000]\tvalid_0's l2: 0.0142144\n"
     ]
    },
    {
     "name": "stderr",
     "output_type": "stream",
     "text": [
      "\u001b[32m[I 2022-01-14 15:35:46,679]\u001b[0m Trial 55 finished with value: 0.07354753944129346 and parameters: {'num_leaves': 37, 'max_bin': 220, 'max_depth': 10, 'bagging_fraction': 0.4276043865323782, 'bagging_freq': 5, 'feature_fraction': 0.5742596847462816, 'min_data_in_leaf': 14, 'min_sum_hessian_in_leaf': 9}. Best is trial 20 with value: 0.06777531432169094.\u001b[0m\n"
     ]
    },
    {
     "name": "stdout",
     "output_type": "stream",
     "text": [
      "Training until validation scores don't improve for 100 rounds\n",
      "[5000]\tvalid_0's l2: 0.0159667\n",
      "[10000]\tvalid_0's l2: 0.0149967\n",
      "Did not meet early stopping. Best iteration is:\n",
      "[10000]\tvalid_0's l2: 0.0149967\n"
     ]
    },
    {
     "name": "stderr",
     "output_type": "stream",
     "text": [
      "\u001b[32m[I 2022-01-14 15:42:22,840]\u001b[0m Trial 56 finished with value: 0.07389708263269956 and parameters: {'num_leaves': 97, 'max_bin': 236, 'max_depth': 5, 'bagging_fraction': 0.9952067460486844, 'bagging_freq': 5, 'feature_fraction': 0.4529530774411161, 'min_data_in_leaf': 16, 'min_sum_hessian_in_leaf': 2}. Best is trial 20 with value: 0.06777531432169094.\u001b[0m\n"
     ]
    },
    {
     "name": "stdout",
     "output_type": "stream",
     "text": [
      "Training until validation scores don't improve for 100 rounds\n",
      "[5000]\tvalid_0's l2: 0.0138771\n",
      "[10000]\tvalid_0's l2: 0.0127907\n",
      "Did not meet early stopping. Best iteration is:\n",
      "[10000]\tvalid_0's l2: 0.0127907\n"
     ]
    },
    {
     "name": "stderr",
     "output_type": "stream",
     "text": [
      "\u001b[32m[I 2022-01-14 15:51:37,961]\u001b[0m Trial 57 finished with value: 0.06866357699366014 and parameters: {'num_leaves': 70, 'max_bin': 62, 'max_depth': 8, 'bagging_fraction': 0.9290321274003038, 'bagging_freq': 6, 'feature_fraction': 0.5895284480387143, 'min_data_in_leaf': 7, 'min_sum_hessian_in_leaf': 7}. Best is trial 20 with value: 0.06777531432169094.\u001b[0m\n"
     ]
    },
    {
     "name": "stdout",
     "output_type": "stream",
     "text": [
      "Training until validation scores don't improve for 100 rounds\n",
      "[5000]\tvalid_0's l2: 0.0160008\n",
      "[10000]\tvalid_0's l2: 0.0150935\n",
      "Did not meet early stopping. Best iteration is:\n",
      "[10000]\tvalid_0's l2: 0.0150935\n"
     ]
    },
    {
     "name": "stderr",
     "output_type": "stream",
     "text": [
      "\u001b[32m[I 2022-01-14 15:57:35,779]\u001b[0m Trial 58 finished with value: 0.07558560878862658 and parameters: {'num_leaves': 25, 'max_bin': 85, 'max_depth': 6, 'bagging_fraction': 0.5826810444263917, 'bagging_freq': 17, 'feature_fraction': 0.5188709130078194, 'min_data_in_leaf': 9, 'min_sum_hessian_in_leaf': 9}. Best is trial 20 with value: 0.06777531432169094.\u001b[0m\n"
     ]
    },
    {
     "name": "stdout",
     "output_type": "stream",
     "text": [
      "Training until validation scores don't improve for 100 rounds\n",
      "[5000]\tvalid_0's l2: 0.0134334\n",
      "[10000]\tvalid_0's l2: 0.0125486\n",
      "Did not meet early stopping. Best iteration is:\n",
      "[10000]\tvalid_0's l2: 0.0125486\n"
     ]
    },
    {
     "name": "stderr",
     "output_type": "stream",
     "text": [
      "\u001b[32m[I 2022-01-14 16:09:54,923]\u001b[0m Trial 59 finished with value: 0.06867341868508159 and parameters: {'num_leaves': 64, 'max_bin': 228, 'max_depth': 10, 'bagging_fraction': 0.8504589171318111, 'bagging_freq': 14, 'feature_fraction': 0.8839827833021136, 'min_data_in_leaf': 16, 'min_sum_hessian_in_leaf': 4}. Best is trial 20 with value: 0.06777531432169094.\u001b[0m\n"
     ]
    },
    {
     "name": "stdout",
     "output_type": "stream",
     "text": [
      "Training until validation scores don't improve for 100 rounds\n",
      "[5000]\tvalid_0's l2: 0.0177637\n",
      "[10000]\tvalid_0's l2: 0.0168369\n",
      "Did not meet early stopping. Best iteration is:\n",
      "[10000]\tvalid_0's l2: 0.0168369\n"
     ]
    },
    {
     "name": "stderr",
     "output_type": "stream",
     "text": [
      "\u001b[32m[I 2022-01-14 16:15:42,254]\u001b[0m Trial 60 finished with value: 0.08064491639215467 and parameters: {'num_leaves': 9, 'max_bin': 110, 'max_depth': 4, 'bagging_fraction': 0.650491824877607, 'bagging_freq': 3, 'feature_fraction': 0.7020589020104411, 'min_data_in_leaf': 7, 'min_sum_hessian_in_leaf': 8}. Best is trial 20 with value: 0.06777531432169094.\u001b[0m\n"
     ]
    },
    {
     "name": "stdout",
     "output_type": "stream",
     "text": [
      "Training until validation scores don't improve for 100 rounds\n",
      "[5000]\tvalid_0's l2: 0.0161129\n",
      "[10000]\tvalid_0's l2: 0.0151561\n",
      "Did not meet early stopping. Best iteration is:\n",
      "[9997]\tvalid_0's l2: 0.0151561\n"
     ]
    },
    {
     "name": "stderr",
     "output_type": "stream",
     "text": [
      "\u001b[32m[I 2022-01-14 16:23:27,967]\u001b[0m Trial 61 finished with value: 0.07541717102826048 and parameters: {'num_leaves': 97, 'max_bin': 162, 'max_depth': 5, 'bagging_fraction': 0.7553382512571021, 'bagging_freq': 18, 'feature_fraction': 0.6033666729178742, 'min_data_in_leaf': 10, 'min_sum_hessian_in_leaf': 2}. Best is trial 20 with value: 0.06777531432169094.\u001b[0m\n"
     ]
    },
    {
     "name": "stdout",
     "output_type": "stream",
     "text": [
      "Training until validation scores don't improve for 100 rounds\n",
      "[5000]\tvalid_0's l2: 0.0172353\n",
      "[10000]\tvalid_0's l2: 0.0162021\n",
      "Did not meet early stopping. Best iteration is:\n",
      "[10000]\tvalid_0's l2: 0.0162021\n"
     ]
    },
    {
     "name": "stderr",
     "output_type": "stream",
     "text": [
      "\u001b[32m[I 2022-01-14 16:29:57,452]\u001b[0m Trial 62 finished with value: 0.07858896583189232 and parameters: {'num_leaves': 47, 'max_bin': 132, 'max_depth': 4, 'bagging_fraction': 0.7035198302951851, 'bagging_freq': 7, 'feature_fraction': 0.5865174319403738, 'min_data_in_leaf': 9, 'min_sum_hessian_in_leaf': 7}. Best is trial 20 with value: 0.06777531432169094.\u001b[0m\n"
     ]
    },
    {
     "name": "stdout",
     "output_type": "stream",
     "text": [
      "Training until validation scores don't improve for 100 rounds\n",
      "[5000]\tvalid_0's l2: 0.0151093\n",
      "[10000]\tvalid_0's l2: 0.0140807\n",
      "Did not meet early stopping. Best iteration is:\n",
      "[10000]\tvalid_0's l2: 0.0140807\n"
     ]
    },
    {
     "name": "stderr",
     "output_type": "stream",
     "text": [
      "\u001b[32m[I 2022-01-14 16:39:10,547]\u001b[0m Trial 63 finished with value: 0.07407961411234193 and parameters: {'num_leaves': 35, 'max_bin': 240, 'max_depth': 9, 'bagging_fraction': 0.42921417758531716, 'bagging_freq': 6, 'feature_fraction': 0.623067756329601, 'min_data_in_leaf': 3, 'min_sum_hessian_in_leaf': 3}. Best is trial 20 with value: 0.06777531432169094.\u001b[0m\n"
     ]
    },
    {
     "name": "stdout",
     "output_type": "stream",
     "text": [
      "Training until validation scores don't improve for 100 rounds\n",
      "[5000]\tvalid_0's l2: 0.0144229\n",
      "[10000]\tvalid_0's l2: 0.0134178\n",
      "Did not meet early stopping. Best iteration is:\n",
      "[10000]\tvalid_0's l2: 0.0134178\n"
     ]
    },
    {
     "name": "stderr",
     "output_type": "stream",
     "text": [
      "\u001b[32m[I 2022-01-14 16:49:08,104]\u001b[0m Trial 64 finished with value: 0.07029237935663567 and parameters: {'num_leaves': 75, 'max_bin': 190, 'max_depth': 7, 'bagging_fraction': 0.8263170416334074, 'bagging_freq': 5, 'feature_fraction': 0.5708490574323661, 'min_data_in_leaf': 12, 'min_sum_hessian_in_leaf': 8}. Best is trial 20 with value: 0.06777531432169094.\u001b[0m\n"
     ]
    },
    {
     "name": "stdout",
     "output_type": "stream",
     "text": [
      "Training until validation scores don't improve for 100 rounds\n",
      "[5000]\tvalid_0's l2: 0.0185766\n",
      "[10000]\tvalid_0's l2: 0.0171886\n",
      "Did not meet early stopping. Best iteration is:\n",
      "[10000]\tvalid_0's l2: 0.0171886\n"
     ]
    },
    {
     "name": "stderr",
     "output_type": "stream",
     "text": [
      "\u001b[32m[I 2022-01-14 16:54:03,022]\u001b[0m Trial 65 finished with value: 0.08140038797949792 and parameters: {'num_leaves': 55, 'max_bin': 108, 'max_depth': 3, 'bagging_fraction': 0.8262020973845281, 'bagging_freq': 1, 'feature_fraction': 0.5863395349104978, 'min_data_in_leaf': 9, 'min_sum_hessian_in_leaf': 9}. Best is trial 20 with value: 0.06777531432169094.\u001b[0m\n"
     ]
    },
    {
     "name": "stdout",
     "output_type": "stream",
     "text": [
      "Training until validation scores don't improve for 100 rounds\n",
      "[5000]\tvalid_0's l2: 0.0186726\n",
      "[10000]\tvalid_0's l2: 0.0173991\n",
      "Did not meet early stopping. Best iteration is:\n",
      "[10000]\tvalid_0's l2: 0.0173991\n"
     ]
    },
    {
     "name": "stderr",
     "output_type": "stream",
     "text": [
      "\u001b[32m[I 2022-01-14 16:58:33,827]\u001b[0m Trial 66 finished with value: 0.08233569672145369 and parameters: {'num_leaves': 10, 'max_bin': 133, 'max_depth': 3, 'bagging_fraction': 0.6055665906049542, 'bagging_freq': 13, 'feature_fraction': 0.5395339741142993, 'min_data_in_leaf': 5, 'min_sum_hessian_in_leaf': 1}. Best is trial 20 with value: 0.06777531432169094.\u001b[0m\n"
     ]
    },
    {
     "name": "stdout",
     "output_type": "stream",
     "text": [
      "Training until validation scores don't improve for 100 rounds\n",
      "[5000]\tvalid_0's l2: 0.0138133\n",
      "[10000]\tvalid_0's l2: 0.0127628\n",
      "Did not meet early stopping. Best iteration is:\n",
      "[10000]\tvalid_0's l2: 0.0127628\n"
     ]
    },
    {
     "name": "stderr",
     "output_type": "stream",
     "text": [
      "\u001b[32m[I 2022-01-14 17:09:00,216]\u001b[0m Trial 67 finished with value: 0.06827599719309498 and parameters: {'num_leaves': 59, 'max_bin': 193, 'max_depth': 8, 'bagging_fraction': 0.9693166124323044, 'bagging_freq': 1, 'feature_fraction': 0.7235983269470181, 'min_data_in_leaf': 11, 'min_sum_hessian_in_leaf': 5}. Best is trial 20 with value: 0.06777531432169094.\u001b[0m\n"
     ]
    },
    {
     "name": "stdout",
     "output_type": "stream",
     "text": [
      "Training until validation scores don't improve for 100 rounds\n",
      "[5000]\tvalid_0's l2: 0.013786\n",
      "[10000]\tvalid_0's l2: 0.0127145\n",
      "Did not meet early stopping. Best iteration is:\n",
      "[10000]\tvalid_0's l2: 0.0127145\n"
     ]
    },
    {
     "name": "stderr",
     "output_type": "stream",
     "text": [
      "\u001b[32m[I 2022-01-14 17:19:45,393]\u001b[0m Trial 68 finished with value: 0.06821455843080115 and parameters: {'num_leaves': 97, 'max_bin': 53, 'max_depth': 8, 'bagging_fraction': 0.8882071898211181, 'bagging_freq': 11, 'feature_fraction': 0.5669824347984046, 'min_data_in_leaf': 13, 'min_sum_hessian_in_leaf': 0}. Best is trial 20 with value: 0.06777531432169094.\u001b[0m\n"
     ]
    },
    {
     "data": {
      "text/plain": [
       "{'num_leaves': 71,\n",
       " 'max_bin': 143,\n",
       " 'max_depth': 8,\n",
       " 'bagging_fraction': 0.9198293955571775,\n",
       " 'bagging_freq': 20,\n",
       " 'feature_fraction': 0.8279016711963055,\n",
       " 'min_data_in_leaf': 2,\n",
       " 'min_sum_hessian_in_leaf': 3}"
      ]
     },
     "execution_count": 16,
     "metadata": {},
     "output_type": "execute_result"
    }
   ],
   "source": [
    "study = optuna.create_study(sampler=optuna.samplers.RandomSampler(seed=0))\n",
    "study.optimize(objective, timeout=28800)#n_trials=50がdefault、timeout=60と設定すると60秒間試行する\n",
    "study.best_params #学習結果の表示"
   ]
  },
  {
   "cell_type": "code",
   "execution_count": 17,
   "id": "97415fc5-c0ad-42cc-ad67-1767b8dbc1a8",
   "metadata": {},
   "outputs": [
    {
     "data": {
      "text/plain": [
       "{'num_leaves': 71,\n",
       " 'max_bin': 143,\n",
       " 'max_depth': 8,\n",
       " 'bagging_fraction': 0.9198293955571775,\n",
       " 'bagging_freq': 20,\n",
       " 'feature_fraction': 0.8279016711963055,\n",
       " 'min_data_in_leaf': 2,\n",
       " 'min_sum_hessian_in_leaf': 3}"
      ]
     },
     "execution_count": 17,
     "metadata": {},
     "output_type": "execute_result"
    }
   ],
   "source": [
    "study.best_params"
   ]
  },
  {
   "cell_type": "code",
   "execution_count": 5,
   "id": "d53cc38d-998c-44fa-9dac-895d02af6336",
   "metadata": {},
   "outputs": [
    {
     "name": "stdout",
     "output_type": "stream",
     "text": [
      "Training until validation scores don't improve for 100 rounds\n",
      "Early stopping, best iteration is:\n",
      "[8646]\ttrain's l1: 0.0766428\n",
      "MAE: 0.07664280198171869\n",
      "Training until validation scores don't improve for 100 rounds\n",
      "Early stopping, best iteration is:\n",
      "[6053]\ttrain's l1: 0.077014\n",
      "MAE: 0.07701396087868025\n",
      "Training until validation scores don't improve for 100 rounds\n",
      "Early stopping, best iteration is:\n",
      "[5286]\ttrain's l1: 0.0764952\n",
      "MAE: 0.07649518316063879\n",
      "Training until validation scores don't improve for 100 rounds\n",
      "Early stopping, best iteration is:\n",
      "[4540]\ttrain's l1: 0.0761159\n",
      "MAE: 0.07611594075255358\n",
      "Training until validation scores don't improve for 100 rounds\n",
      "Early stopping, best iteration is:\n",
      "[5015]\ttrain's l1: 0.0762412\n",
      "MAE: 0.07624119866910642\n",
      "CV score: 0.07650181708853954\n"
     ]
    }
   ],
   "source": [
    "#optunaで最適化したパラメータによるlightgbm_交差検証（#2_10000検証/回_7h）\n",
    "#バリデーション用パラメータ変数\n",
    "FOLD = 5\n",
    "NUM_ROUND = 10000\n",
    "VERBOSE_EVAL = -1\n",
    "\n",
    "#LGB用のパラメータ設定\n",
    "params = {\n",
    "    \"objective\": \"regression_l1\",\n",
    "    \"metrics\": \"mae\",\n",
    "    \"random_seed\":1234,\n",
    "    \"learning_rate\":0.01,\n",
    "    \"n_estimators\":10000,\n",
    "    \"num_leaves\":71,\n",
    "    \"bagging_fraction\": 0.9198293955571775,\n",
    "    \"bagging_freq\": 20,\n",
    "    \"feature_fraction\": 0.8279016711963055,\n",
    "    \"min_data_in_leaf\": 2,\n",
    "    \"min_sum_hessian_in_leaf\": 3,\n",
    "    \"verbose\": -1\n",
    "}\n",
    "\n",
    "#各種リスト\n",
    "valid_scores = []\n",
    "evaluation_results = {}\n",
    "models = []\n",
    "\n",
    "#データ分析の技術_kaggleのチュートリアルより\n",
    "kf = KFold(n_splits=FOLD, shuffle=True, random_state = 42)\n",
    "for (tr_idx, va_idx) in kf.split(train_x, train_y):\n",
    "    tr_x = train_x.iloc[tr_idx]\n",
    "    va_x = train_x.iloc[va_idx]\n",
    "    tr_y = train_y.iloc[tr_idx]\n",
    "    va_y = train_y.iloc[va_idx]\n",
    "\n",
    "    #LGB用のモデルの作成\n",
    "    lgb_train = lgb.Dataset(tr_x, tr_y)\n",
    "    lgb_eval = lgb.Dataset(va_x, va_y)\n",
    "    categorical_features = [\"地区名\", \"最寄駅：名称\", \"間取り\", \"用途\", \"今後の利用目的\", \"都市計画\", \"改装\", \"取引の事情等\"]\n",
    "    \n",
    "    #モデルの学習を行う\n",
    "    model = lgb.train(\n",
    "        params, \n",
    "        lgb_train, \n",
    "        valid_sets=lgb_eval,\n",
    "        valid_names=['train', 'valid'],\n",
    "        evals_result=evaluation_results,\n",
    "                  num_boost_round=NUM_ROUND,\n",
    "                  early_stopping_rounds=100,\n",
    "        verbose_eval=VERBOSE_EVAL,\n",
    "                  categorical_feature = categorical_features)\n",
    "   \n",
    "    y_valid_pred = model.predict(va_x)\n",
    "    score = mae(va_y, y_valid_pred)\n",
    "    print(f'MAE: {score}')\n",
    "    valid_scores.append(score)\n",
    "    models.append(model)\n",
    "\n",
    "cv_score = np.mean(valid_scores)\n",
    "print(f'CV score: {cv_score}')"
   ]
  },
  {
   "cell_type": "code",
   "execution_count": 6,
   "id": "7e55e846-4a46-4969-ada6-00cf55b5c094",
   "metadata": {},
   "outputs": [
    {
     "name": "stdout",
     "output_type": "stream",
     "text": [
      "test\n"
     ]
    }
   ],
   "source": [
    "#提出用データ作業\n",
    "df_test = pd.read_csv(\"../../data/test.csv\", index_col=0)\n",
    "df_test = df_pre.data_pre(df_test)\n",
    "df_test = df_test.drop(columns=\"取引価格（総額）_log\", axis=1)\n",
    "\n",
    "#結果格納用のデータフレーム\n",
    "df_pred_result = pd.DataFrame(index=[], columns=[1, 2, 3, 4, 5])\n",
    "a=1\n",
    "for model in models:\n",
    "    predict = model.predict(df_test)\n",
    "    df_pred_result[a] = predict\n",
    "    a = a+1\n",
    "df_test[\"取引価格（総額）_log\"] = df_pred_result.mean(axis='columns').to_numpy()\n",
    "df_test[[\"取引価格（総額）_log\"]].to_csv(\"../../data/submit_test.csv\")"
   ]
  },
  {
   "cell_type": "code",
   "execution_count": null,
   "id": "ac70a9de-a433-4015-b0c4-a0c4bf03ef06",
   "metadata": {},
   "outputs": [],
   "source": []
  }
 ],
 "metadata": {
  "kernelspec": {
   "display_name": "Python 3",
   "language": "python",
   "name": "python3"
  },
  "language_info": {
   "codemirror_mode": {
    "name": "ipython",
    "version": 3
   },
   "file_extension": ".py",
   "mimetype": "text/x-python",
   "name": "python",
   "nbconvert_exporter": "python",
   "pygments_lexer": "ipython3",
   "version": "3.8.8"
  },
  "toc-autonumbering": false,
  "toc-showmarkdowntxt": false,
  "toc-showtags": false
 },
 "nbformat": 4,
 "nbformat_minor": 5
}
